{
 "cells": [
  {
   "cell_type": "markdown",
   "metadata": {},
   "source": [
    "#### <h1> Assignment 3: Data Visualization</h1>\n",
    "DATA 3000 202102 (Cofer)"
   ]
  },
  {
   "cell_type": "markdown",
   "metadata": {
    "toc": true
   },
   "source": [
    "<h1>Table of Contents<span class=\"tocSkip\"></span></h1>\n",
    "<div class=\"toc\"><ul class=\"toc-item\"><li><span><a href=\"#\" data-toc-modified-id=\"-0\"></a></span></li><li><span><a href=\"#-Problem-1-(10-Points)-\" data-toc-modified-id=\"-Problem-1-(10-Points)--1\"> Problem 1 (10 Points) </a></span></li><li><span><a href=\"#-Problem-2-(10-Points)\" data-toc-modified-id=\"-Problem-2-(10-Points)-2\"> Problem 2 (10 Points)</a></span></li><li><span><a href=\"#-Problem-3-(5-Points)\" data-toc-modified-id=\"-Problem-3-(5-Points)-3\"> Problem 3 (5 Points)</a></span></li><li><span><a href=\"#-Problem-4-(5-Points)\" data-toc-modified-id=\"-Problem-4-(5-Points)-4\"> Problem 4 (5 Points)</a></span></li><li><span><a href=\"#-Problem-5-(10-Points)\" data-toc-modified-id=\"-Problem-5-(10-Points)-5\"> Problem 5 (10 Points)</a></span></li><li><span><a href=\"#-Problem-6-(10-Points)\" data-toc-modified-id=\"-Problem-6-(10-Points)-6\"> Problem 6 (10 Points)</a></span></li><li><span><a href=\"#-Problem-7-(15-Points)\" data-toc-modified-id=\"-Problem-7-(15-Points)-7\"> Problem 7 (15 Points)</a></span></li><li><span><a href=\"#-Problem-8-(15-Points)\" data-toc-modified-id=\"-Problem-8-(15-Points)-8\"> Problem 8 (15 Points)</a></span></li><li><span><a href=\"#-Problem-9-(20-points)-\" data-toc-modified-id=\"-Problem-9-(20-points)--9\"> Problem 9 (20 points) </a></span></li></ul></div>"
   ]
  },
  {
   "cell_type": "markdown",
   "metadata": {},
   "source": [
    "<b><hr>\n",
    "<p> In this assignment, you will practice representing data visually for both analysis and communication.The assignment is worth a total of 100 points.</p>\n",
    "   \n",
    "<span style=\"color:red\"> Comprehensive analyses that do only the minimum can earn at most a 'B.' 'A' level submissions must include more!\n",
    "\n",
    "<p> Remember to \"Restart & Run All\" from the `Kernel` menu before submitting. This will make sure your code runs as you expect it to, and it will include all output cells in your submission, which I require. You may input additional cells into your solutions as necessary.</p>\n",
    "<hr>\n",
    "</b>"
   ]
  },
  {
   "cell_type": "markdown",
   "metadata": {},
   "source": [
    "<div class=\"alert alert-block alert-danger\">\n",
    "    \n",
    "Include clear explanations and keep the notebook organized. \n",
    "\n",
    "Other important information:\n",
    "<ul>\n",
    "    <li> I will give you increasingly less structure for your solutions as we move through the course. My lectures give you a roadmap to the types of problems you will encounter with data and some approaches to solutions. Use my lecture notebooks, your textbook, and online resources to formulate your solutions.</li>\n",
    "    <li> Don't blow off the commenting requirements. Comments/explanations are worth points because they hold a lot of value. Data science relies heavily on analysts' communication skills. </li>\n",
    "    <li> I have reviewed the content of the datafile used in this assignment and I find that all included data is reasonably accurate, at least for some point in time. (Thus, if you find an outlier, you can assume that it is a true value.)</li>\n",
    "    <ul>\n",
    "</div>"
   ]
  },
  {
   "cell_type": "markdown",
   "metadata": {},
   "source": [
    "<div class=\"alert alert-block alert-warning\">\n",
    "Be sure you have installed all of the packages below before trying to import them. Once you are sure you have installed these packages, execute the cell below to import them. \n",
    "</div>"
   ]
  },
  {
   "cell_type": "code",
   "execution_count": 1,
   "metadata": {},
   "outputs": [],
   "source": [
    "import pandas as pd #if you need other libraries, import them!\n",
    "import numpy as np\n",
    "import seaborn as sb\n",
    "import matplotlib.pyplot as plt\n",
    "from sklearn.metrics import r2_score"
   ]
  },
  {
   "cell_type": "markdown",
   "metadata": {},
   "source": [
    "<div class=\"alert alert-block alert-warning\">\n",
    " Execute the cell below to load the data from <code>movie_ratings2.csv</code> into a dataframe. Remember that the code assumes that the csv is in the same directory as your notebook file. If not, you will have to change the path so that python can find the file! \n",
    "    \n",
    "**Important**: You can (and *should*) read about this data set, including a description of all of the variables, [here.](http://www2.stat.duke.edu/~mc301/data/movies.html)   \n",
    "    \n",
    "Note that I removed a handfull of columns for the purposes of this assignment. Also, the original dataset is an RData file. I have converted it to csv format.    \n",
    "</div>"
   ]
  },
  {
   "cell_type": "code",
   "execution_count": 2,
   "metadata": {},
   "outputs": [],
   "source": [
    "df = pd.read_csv('./movie_ratings2.csv') #read file into a dataframe"
   ]
  },
  {
   "cell_type": "markdown",
   "metadata": {},
   "source": [
    "<div class=\"alert alert-block alert-info\">\n",
    "    \n",
    "<h4> Problem 1 (10 Points) </h4>\n",
    "    \n",
    "Basics + Find and Fix Missing Values:    \n",
    "\n",
    "- View the first 5 rows of the dataframe df.\n",
    "- Use a command to list the column titles.\n",
    "- Use a command to view the data types\n",
    "    \n",
    "- I have cleaned most of the data for you, but there are a handfull of fields in this dataframe that are missing values. Find these and use the appropriate `imdb_url` to look up and fill in the missing data.\n",
    "    \n",
    "There are different ways to approach this, but you may find the following commands useful:\n",
    "    \n",
    "- `df[df.isnull().any(axis=1)]` returns any rows that have missing data.\n",
    "- `df.isna().sum()` will return the variable names with a count of missing values for each.\n",
    "- You can use the `loc` method to fill in fields using the index number and variable name. For example, if df is missing data in index (row) 33, column 'K', and you want to fill it with the string 'blah', you can use the command: `df.loc[33,'K']='blah'` \n",
    "    \n",
    "Once you are done, execute the command `df.isnull().values.sum()` to verify that you have no missing data.    \n",
    "    \n",
    "    \n",
    "</div>"
   ]
  },
  {
   "cell_type": "code",
   "execution_count": 3,
   "metadata": {},
   "outputs": [
    {
     "data": {
      "text/html": [
       "<div>\n",
       "<style scoped>\n",
       "    .dataframe tbody tr th:only-of-type {\n",
       "        vertical-align: middle;\n",
       "    }\n",
       "\n",
       "    .dataframe tbody tr th {\n",
       "        vertical-align: top;\n",
       "    }\n",
       "\n",
       "    .dataframe thead th {\n",
       "        text-align: right;\n",
       "    }\n",
       "</style>\n",
       "<table border=\"1\" class=\"dataframe\">\n",
       "  <thead>\n",
       "    <tr style=\"text-align: right;\">\n",
       "      <th></th>\n",
       "      <th>title</th>\n",
       "      <th>title_type</th>\n",
       "      <th>genre</th>\n",
       "      <th>runtime</th>\n",
       "      <th>mpaa_rating</th>\n",
       "      <th>thtr_rel_year</th>\n",
       "      <th>thtr_rel_month</th>\n",
       "      <th>thtr_rel_day</th>\n",
       "      <th>imdb_rating</th>\n",
       "      <th>imdb_num_votes</th>\n",
       "      <th>...</th>\n",
       "      <th>audience_score</th>\n",
       "      <th>best_pic_nom</th>\n",
       "      <th>best_pic_win</th>\n",
       "      <th>best_actor_win</th>\n",
       "      <th>best_actress_win</th>\n",
       "      <th>best_dir_win</th>\n",
       "      <th>top200_box</th>\n",
       "      <th>director</th>\n",
       "      <th>imdb_url</th>\n",
       "      <th>rt_url</th>\n",
       "    </tr>\n",
       "  </thead>\n",
       "  <tbody>\n",
       "    <tr>\n",
       "      <th>0</th>\n",
       "      <td>Filly Brown</td>\n",
       "      <td>Feature Film</td>\n",
       "      <td>Drama</td>\n",
       "      <td>80.0</td>\n",
       "      <td>R</td>\n",
       "      <td>2013.0</td>\n",
       "      <td>4.0</td>\n",
       "      <td>19.0</td>\n",
       "      <td>5.5</td>\n",
       "      <td>899</td>\n",
       "      <td>...</td>\n",
       "      <td>73.0</td>\n",
       "      <td>no</td>\n",
       "      <td>no</td>\n",
       "      <td>no</td>\n",
       "      <td>no</td>\n",
       "      <td>no</td>\n",
       "      <td>no</td>\n",
       "      <td>Michael D. Olmos</td>\n",
       "      <td>http://www.imdb.com/title/tt1869425/</td>\n",
       "      <td>//www.rottentomatoes.com/m/filly_brown_2012/</td>\n",
       "    </tr>\n",
       "    <tr>\n",
       "      <th>1</th>\n",
       "      <td>The Dish</td>\n",
       "      <td>Feature Film</td>\n",
       "      <td>Drama</td>\n",
       "      <td>101.0</td>\n",
       "      <td>PG-13</td>\n",
       "      <td>2001.0</td>\n",
       "      <td>3.0</td>\n",
       "      <td>14.0</td>\n",
       "      <td>7.3</td>\n",
       "      <td>12285</td>\n",
       "      <td>...</td>\n",
       "      <td>81.0</td>\n",
       "      <td>no</td>\n",
       "      <td>no</td>\n",
       "      <td>no</td>\n",
       "      <td>no</td>\n",
       "      <td>no</td>\n",
       "      <td>no</td>\n",
       "      <td>Rob Sitch</td>\n",
       "      <td>http://www.imdb.com/title/tt0205873/</td>\n",
       "      <td>//www.rottentomatoes.com/m/dish/</td>\n",
       "    </tr>\n",
       "    <tr>\n",
       "      <th>2</th>\n",
       "      <td>Waiting for Guffman</td>\n",
       "      <td>Feature Film</td>\n",
       "      <td>Comedy</td>\n",
       "      <td>84.0</td>\n",
       "      <td>R</td>\n",
       "      <td>1996.0</td>\n",
       "      <td>8.0</td>\n",
       "      <td>21.0</td>\n",
       "      <td>7.6</td>\n",
       "      <td>22381</td>\n",
       "      <td>...</td>\n",
       "      <td>91.0</td>\n",
       "      <td>no</td>\n",
       "      <td>no</td>\n",
       "      <td>no</td>\n",
       "      <td>no</td>\n",
       "      <td>no</td>\n",
       "      <td>no</td>\n",
       "      <td>Christopher Guest</td>\n",
       "      <td>http://www.imdb.com/title/tt0118111/</td>\n",
       "      <td>//www.rottentomatoes.com/m/waiting_for_guffman/</td>\n",
       "    </tr>\n",
       "    <tr>\n",
       "      <th>3</th>\n",
       "      <td>The Age of Innocence</td>\n",
       "      <td>Feature Film</td>\n",
       "      <td>Drama</td>\n",
       "      <td>139.0</td>\n",
       "      <td>PG</td>\n",
       "      <td>1993.0</td>\n",
       "      <td>10.0</td>\n",
       "      <td>1.0</td>\n",
       "      <td>7.2</td>\n",
       "      <td>35096</td>\n",
       "      <td>...</td>\n",
       "      <td>76.0</td>\n",
       "      <td>no</td>\n",
       "      <td>no</td>\n",
       "      <td>yes</td>\n",
       "      <td>no</td>\n",
       "      <td>yes</td>\n",
       "      <td>no</td>\n",
       "      <td>Martin Scorsese</td>\n",
       "      <td>http://www.imdb.com/title/tt0106226/</td>\n",
       "      <td>//www.rottentomatoes.com/m/age_of_innocence/</td>\n",
       "    </tr>\n",
       "    <tr>\n",
       "      <th>4</th>\n",
       "      <td>Malevolence</td>\n",
       "      <td>Feature Film</td>\n",
       "      <td>Horror</td>\n",
       "      <td>90.0</td>\n",
       "      <td>R</td>\n",
       "      <td>2004.0</td>\n",
       "      <td>9.0</td>\n",
       "      <td>10.0</td>\n",
       "      <td>5.1</td>\n",
       "      <td>2386</td>\n",
       "      <td>...</td>\n",
       "      <td>27.0</td>\n",
       "      <td>no</td>\n",
       "      <td>no</td>\n",
       "      <td>no</td>\n",
       "      <td>no</td>\n",
       "      <td>no</td>\n",
       "      <td>no</td>\n",
       "      <td>Stevan Mena</td>\n",
       "      <td>http://www.imdb.com/title/tt0388230/</td>\n",
       "      <td>//www.rottentomatoes.com/m/10004684-malevolence/</td>\n",
       "    </tr>\n",
       "  </tbody>\n",
       "</table>\n",
       "<p>5 rows × 23 columns</p>\n",
       "</div>"
      ],
      "text/plain": [
       "                  title    title_type   genre  runtime mpaa_rating  \\\n",
       "0           Filly Brown  Feature Film   Drama     80.0           R   \n",
       "1              The Dish  Feature Film   Drama    101.0       PG-13   \n",
       "2   Waiting for Guffman  Feature Film  Comedy     84.0           R   \n",
       "3  The Age of Innocence  Feature Film   Drama    139.0          PG   \n",
       "4           Malevolence  Feature Film  Horror     90.0           R   \n",
       "\n",
       "   thtr_rel_year  thtr_rel_month  thtr_rel_day  imdb_rating  imdb_num_votes  \\\n",
       "0         2013.0             4.0          19.0          5.5             899   \n",
       "1         2001.0             3.0          14.0          7.3           12285   \n",
       "2         1996.0             8.0          21.0          7.6           22381   \n",
       "3         1993.0            10.0           1.0          7.2           35096   \n",
       "4         2004.0             9.0          10.0          5.1            2386   \n",
       "\n",
       "   ... audience_score  best_pic_nom best_pic_win  best_actor_win  \\\n",
       "0  ...           73.0            no           no              no   \n",
       "1  ...           81.0            no           no              no   \n",
       "2  ...           91.0            no           no              no   \n",
       "3  ...           76.0            no           no             yes   \n",
       "4  ...           27.0            no           no              no   \n",
       "\n",
       "  best_actress_win best_dir_win top200_box           director  \\\n",
       "0               no           no         no   Michael D. Olmos   \n",
       "1               no           no         no          Rob Sitch   \n",
       "2               no           no         no  Christopher Guest   \n",
       "3               no          yes         no    Martin Scorsese   \n",
       "4               no           no         no        Stevan Mena   \n",
       "\n",
       "                               imdb_url  \\\n",
       "0  http://www.imdb.com/title/tt1869425/   \n",
       "1  http://www.imdb.com/title/tt0205873/   \n",
       "2  http://www.imdb.com/title/tt0118111/   \n",
       "3  http://www.imdb.com/title/tt0106226/   \n",
       "4  http://www.imdb.com/title/tt0388230/   \n",
       "\n",
       "                                             rt_url  \n",
       "0      //www.rottentomatoes.com/m/filly_brown_2012/  \n",
       "1                  //www.rottentomatoes.com/m/dish/  \n",
       "2   //www.rottentomatoes.com/m/waiting_for_guffman/  \n",
       "3      //www.rottentomatoes.com/m/age_of_innocence/  \n",
       "4  //www.rottentomatoes.com/m/10004684-malevolence/  \n",
       "\n",
       "[5 rows x 23 columns]"
      ]
     },
     "execution_count": 3,
     "metadata": {},
     "output_type": "execute_result"
    }
   ],
   "source": [
    "df.head()"
   ]
  },
  {
   "cell_type": "code",
   "execution_count": 4,
   "metadata": {},
   "outputs": [
    {
     "data": {
      "text/html": [
       "<div>\n",
       "<style scoped>\n",
       "    .dataframe tbody tr th:only-of-type {\n",
       "        vertical-align: middle;\n",
       "    }\n",
       "\n",
       "    .dataframe tbody tr th {\n",
       "        vertical-align: top;\n",
       "    }\n",
       "\n",
       "    .dataframe thead th {\n",
       "        text-align: right;\n",
       "    }\n",
       "</style>\n",
       "<table border=\"1\" class=\"dataframe\">\n",
       "  <thead>\n",
       "    <tr style=\"text-align: right;\">\n",
       "      <th></th>\n",
       "      <th>runtime</th>\n",
       "      <th>thtr_rel_year</th>\n",
       "      <th>thtr_rel_month</th>\n",
       "      <th>thtr_rel_day</th>\n",
       "      <th>imdb_rating</th>\n",
       "      <th>imdb_num_votes</th>\n",
       "      <th>critics_score</th>\n",
       "      <th>audience_score</th>\n",
       "    </tr>\n",
       "  </thead>\n",
       "  <tbody>\n",
       "    <tr>\n",
       "      <th>count</th>\n",
       "      <td>650.000000</td>\n",
       "      <td>651.000000</td>\n",
       "      <td>651.000000</td>\n",
       "      <td>651.000000</td>\n",
       "      <td>651.000000</td>\n",
       "      <td>651.000000</td>\n",
       "      <td>651.000000</td>\n",
       "      <td>651.000000</td>\n",
       "    </tr>\n",
       "    <tr>\n",
       "      <th>mean</th>\n",
       "      <td>105.821538</td>\n",
       "      <td>1997.941628</td>\n",
       "      <td>6.740399</td>\n",
       "      <td>14.416283</td>\n",
       "      <td>6.493088</td>\n",
       "      <td>57532.983103</td>\n",
       "      <td>57.688172</td>\n",
       "      <td>62.362519</td>\n",
       "    </tr>\n",
       "    <tr>\n",
       "      <th>std</th>\n",
       "      <td>19.445047</td>\n",
       "      <td>10.974501</td>\n",
       "      <td>3.554223</td>\n",
       "      <td>8.861167</td>\n",
       "      <td>1.084747</td>\n",
       "      <td>112124.386910</td>\n",
       "      <td>28.402971</td>\n",
       "      <td>20.222624</td>\n",
       "    </tr>\n",
       "    <tr>\n",
       "      <th>min</th>\n",
       "      <td>39.000000</td>\n",
       "      <td>1970.000000</td>\n",
       "      <td>1.000000</td>\n",
       "      <td>1.000000</td>\n",
       "      <td>1.900000</td>\n",
       "      <td>180.000000</td>\n",
       "      <td>1.000000</td>\n",
       "      <td>11.000000</td>\n",
       "    </tr>\n",
       "    <tr>\n",
       "      <th>25%</th>\n",
       "      <td>92.000000</td>\n",
       "      <td>1990.000000</td>\n",
       "      <td>4.000000</td>\n",
       "      <td>7.000000</td>\n",
       "      <td>5.900000</td>\n",
       "      <td>4545.500000</td>\n",
       "      <td>33.000000</td>\n",
       "      <td>46.000000</td>\n",
       "    </tr>\n",
       "    <tr>\n",
       "      <th>50%</th>\n",
       "      <td>103.000000</td>\n",
       "      <td>2000.000000</td>\n",
       "      <td>7.000000</td>\n",
       "      <td>15.000000</td>\n",
       "      <td>6.600000</td>\n",
       "      <td>15116.000000</td>\n",
       "      <td>61.000000</td>\n",
       "      <td>65.000000</td>\n",
       "    </tr>\n",
       "    <tr>\n",
       "      <th>75%</th>\n",
       "      <td>115.750000</td>\n",
       "      <td>2007.000000</td>\n",
       "      <td>10.000000</td>\n",
       "      <td>21.000000</td>\n",
       "      <td>7.300000</td>\n",
       "      <td>58300.500000</td>\n",
       "      <td>83.000000</td>\n",
       "      <td>80.000000</td>\n",
       "    </tr>\n",
       "    <tr>\n",
       "      <th>max</th>\n",
       "      <td>267.000000</td>\n",
       "      <td>2014.000000</td>\n",
       "      <td>12.000000</td>\n",
       "      <td>31.000000</td>\n",
       "      <td>9.000000</td>\n",
       "      <td>893008.000000</td>\n",
       "      <td>100.000000</td>\n",
       "      <td>97.000000</td>\n",
       "    </tr>\n",
       "  </tbody>\n",
       "</table>\n",
       "</div>"
      ],
      "text/plain": [
       "          runtime  thtr_rel_year  thtr_rel_month  thtr_rel_day  imdb_rating  \\\n",
       "count  650.000000     651.000000      651.000000    651.000000   651.000000   \n",
       "mean   105.821538    1997.941628        6.740399     14.416283     6.493088   \n",
       "std     19.445047      10.974501        3.554223      8.861167     1.084747   \n",
       "min     39.000000    1970.000000        1.000000      1.000000     1.900000   \n",
       "25%     92.000000    1990.000000        4.000000      7.000000     5.900000   \n",
       "50%    103.000000    2000.000000        7.000000     15.000000     6.600000   \n",
       "75%    115.750000    2007.000000       10.000000     21.000000     7.300000   \n",
       "max    267.000000    2014.000000       12.000000     31.000000     9.000000   \n",
       "\n",
       "       imdb_num_votes  critics_score  audience_score  \n",
       "count      651.000000     651.000000      651.000000  \n",
       "mean     57532.983103      57.688172       62.362519  \n",
       "std     112124.386910      28.402971       20.222624  \n",
       "min        180.000000       1.000000       11.000000  \n",
       "25%       4545.500000      33.000000       46.000000  \n",
       "50%      15116.000000      61.000000       65.000000  \n",
       "75%      58300.500000      83.000000       80.000000  \n",
       "max     893008.000000     100.000000       97.000000  "
      ]
     },
     "execution_count": 4,
     "metadata": {},
     "output_type": "execute_result"
    }
   ],
   "source": [
    "#overview of column stats\n",
    "df.describe()"
   ]
  },
  {
   "cell_type": "code",
   "execution_count": 5,
   "metadata": {},
   "outputs": [
    {
     "data": {
      "text/plain": [
       "title                object\n",
       "title_type           object\n",
       "genre                object\n",
       "runtime             float64\n",
       "mpaa_rating          object\n",
       "thtr_rel_year       float64\n",
       "thtr_rel_month      float64\n",
       "thtr_rel_day        float64\n",
       "imdb_rating         float64\n",
       "imdb_num_votes        int64\n",
       "critics_rating       object\n",
       "critics_score       float64\n",
       "audience_rating      object\n",
       "audience_score      float64\n",
       "best_pic_nom         object\n",
       "best_pic_win         object\n",
       "best_actor_win       object\n",
       "best_actress_win     object\n",
       "best_dir_win         object\n",
       "top200_box           object\n",
       "director             object\n",
       "imdb_url             object\n",
       "rt_url               object\n",
       "dtype: object"
      ]
     },
     "execution_count": 5,
     "metadata": {},
     "output_type": "execute_result"
    }
   ],
   "source": [
    "#identifying column names and data types\n",
    "df.dtypes"
   ]
  },
  {
   "cell_type": "code",
   "execution_count": 6,
   "metadata": {},
   "outputs": [
    {
     "name": "stdout",
     "output_type": "stream",
     "text": [
      "Unique values in each column\n",
      "----------------------------\n",
      "title : 647\n",
      "title_type : 3\n",
      "genre : 11\n",
      "runtime : 90\n",
      "mpaa_rating : 6\n",
      "thtr_rel_year : 44\n",
      "thtr_rel_month : 12\n",
      "thtr_rel_day : 31\n",
      "imdb_rating : 56\n",
      "imdb_num_votes : 644\n",
      "critics_rating : 3\n",
      "critics_score : 99\n",
      "audience_rating : 2\n",
      "audience_score : 84\n",
      "best_pic_nom : 2\n",
      "best_pic_win : 2\n",
      "best_actor_win : 2\n",
      "best_actress_win : 2\n",
      "best_dir_win : 2\n",
      "top200_box : 2\n",
      "director : 533\n",
      "imdb_url : 650\n",
      "rt_url : 650\n"
     ]
    }
   ],
   "source": [
    "print(\"Unique values in each column\")\n",
    "print(\"----------------------------\")\n",
    "for column in df:\n",
    "    print(column + \" : \" + str(len(pd.unique(df[column]))))"
   ]
  },
  {
   "cell_type": "code",
   "execution_count": 7,
   "metadata": {},
   "outputs": [
    {
     "data": {
      "text/plain": [
       "title               0\n",
       "title_type          0\n",
       "genre               0\n",
       "runtime             1\n",
       "mpaa_rating         0\n",
       "thtr_rel_year       0\n",
       "thtr_rel_month      0\n",
       "thtr_rel_day        0\n",
       "imdb_rating         0\n",
       "imdb_num_votes      0\n",
       "critics_rating      0\n",
       "critics_score       0\n",
       "audience_rating     0\n",
       "audience_score      0\n",
       "best_pic_nom        0\n",
       "best_pic_win        0\n",
       "best_actor_win      0\n",
       "best_actress_win    0\n",
       "best_dir_win        0\n",
       "top200_box          0\n",
       "director            2\n",
       "imdb_url            0\n",
       "rt_url              0\n",
       "dtype: int64"
      ]
     },
     "execution_count": 7,
     "metadata": {},
     "output_type": "execute_result"
    }
   ],
   "source": [
    "df.isna().sum()"
   ]
  },
  {
   "cell_type": "code",
   "execution_count": 8,
   "metadata": {},
   "outputs": [
    {
     "data": {
      "text/html": [
       "<div>\n",
       "<style scoped>\n",
       "    .dataframe tbody tr th:only-of-type {\n",
       "        vertical-align: middle;\n",
       "    }\n",
       "\n",
       "    .dataframe tbody tr th {\n",
       "        vertical-align: top;\n",
       "    }\n",
       "\n",
       "    .dataframe thead th {\n",
       "        text-align: right;\n",
       "    }\n",
       "</style>\n",
       "<table border=\"1\" class=\"dataframe\">\n",
       "  <thead>\n",
       "    <tr style=\"text-align: right;\">\n",
       "      <th></th>\n",
       "      <th>title</th>\n",
       "      <th>title_type</th>\n",
       "      <th>genre</th>\n",
       "      <th>runtime</th>\n",
       "      <th>mpaa_rating</th>\n",
       "      <th>thtr_rel_year</th>\n",
       "      <th>thtr_rel_month</th>\n",
       "      <th>thtr_rel_day</th>\n",
       "      <th>imdb_rating</th>\n",
       "      <th>imdb_num_votes</th>\n",
       "      <th>...</th>\n",
       "      <th>audience_score</th>\n",
       "      <th>best_pic_nom</th>\n",
       "      <th>best_pic_win</th>\n",
       "      <th>best_actor_win</th>\n",
       "      <th>best_actress_win</th>\n",
       "      <th>best_dir_win</th>\n",
       "      <th>top200_box</th>\n",
       "      <th>director</th>\n",
       "      <th>imdb_url</th>\n",
       "      <th>rt_url</th>\n",
       "    </tr>\n",
       "  </thead>\n",
       "  <tbody>\n",
       "    <tr>\n",
       "      <th>171</th>\n",
       "      <td>Lorenzo's Oil</td>\n",
       "      <td>Feature Film</td>\n",
       "      <td>Drama</td>\n",
       "      <td>129.0</td>\n",
       "      <td>PG-13</td>\n",
       "      <td>1992.0</td>\n",
       "      <td>12.0</td>\n",
       "      <td>30.0</td>\n",
       "      <td>7.2</td>\n",
       "      <td>15913</td>\n",
       "      <td>...</td>\n",
       "      <td>79.0</td>\n",
       "      <td>no</td>\n",
       "      <td>no</td>\n",
       "      <td>no</td>\n",
       "      <td>yes</td>\n",
       "      <td>no</td>\n",
       "      <td>no</td>\n",
       "      <td>NaN</td>\n",
       "      <td>http://www.imdb.com/title/tt0104756/</td>\n",
       "      <td>//www.rottentomatoes.com/m/lorenzos_oil/</td>\n",
       "    </tr>\n",
       "    <tr>\n",
       "      <th>333</th>\n",
       "      <td>The End of America</td>\n",
       "      <td>Documentary</td>\n",
       "      <td>Documentary</td>\n",
       "      <td>NaN</td>\n",
       "      <td>Unrated</td>\n",
       "      <td>2008.0</td>\n",
       "      <td>10.0</td>\n",
       "      <td>1.0</td>\n",
       "      <td>7.5</td>\n",
       "      <td>739</td>\n",
       "      <td>...</td>\n",
       "      <td>72.0</td>\n",
       "      <td>no</td>\n",
       "      <td>no</td>\n",
       "      <td>no</td>\n",
       "      <td>no</td>\n",
       "      <td>no</td>\n",
       "      <td>no</td>\n",
       "      <td>Anne Sundberg</td>\n",
       "      <td>http://www.imdb.com/title/tt1294790/</td>\n",
       "      <td>//www.rottentomatoes.com/m/end_of_america/</td>\n",
       "    </tr>\n",
       "    <tr>\n",
       "      <th>459</th>\n",
       "      <td>The Ninth Gate</td>\n",
       "      <td>Feature Film</td>\n",
       "      <td>Mystery &amp; Suspense</td>\n",
       "      <td>133.0</td>\n",
       "      <td>R</td>\n",
       "      <td>1999.0</td>\n",
       "      <td>12.0</td>\n",
       "      <td>24.0</td>\n",
       "      <td>6.7</td>\n",
       "      <td>134031</td>\n",
       "      <td>...</td>\n",
       "      <td>57.0</td>\n",
       "      <td>no</td>\n",
       "      <td>no</td>\n",
       "      <td>no</td>\n",
       "      <td>no</td>\n",
       "      <td>no</td>\n",
       "      <td>no</td>\n",
       "      <td>NaN</td>\n",
       "      <td>http://www.imdb.com/title/tt0142688/</td>\n",
       "      <td>//www.rottentomatoes.com/m/ninth_gate/</td>\n",
       "    </tr>\n",
       "  </tbody>\n",
       "</table>\n",
       "<p>3 rows × 23 columns</p>\n",
       "</div>"
      ],
      "text/plain": [
       "                  title    title_type               genre  runtime  \\\n",
       "171       Lorenzo's Oil  Feature Film               Drama    129.0   \n",
       "333  The End of America   Documentary         Documentary      NaN   \n",
       "459      The Ninth Gate  Feature Film  Mystery & Suspense    133.0   \n",
       "\n",
       "    mpaa_rating  thtr_rel_year  thtr_rel_month  thtr_rel_day  imdb_rating  \\\n",
       "171       PG-13         1992.0            12.0          30.0          7.2   \n",
       "333     Unrated         2008.0            10.0           1.0          7.5   \n",
       "459           R         1999.0            12.0          24.0          6.7   \n",
       "\n",
       "     imdb_num_votes  ... audience_score  best_pic_nom best_pic_win  \\\n",
       "171           15913  ...           79.0            no           no   \n",
       "333             739  ...           72.0            no           no   \n",
       "459          134031  ...           57.0            no           no   \n",
       "\n",
       "     best_actor_win best_actress_win best_dir_win top200_box       director  \\\n",
       "171              no              yes           no         no            NaN   \n",
       "333              no               no           no         no  Anne Sundberg   \n",
       "459              no               no           no         no            NaN   \n",
       "\n",
       "                                 imdb_url  \\\n",
       "171  http://www.imdb.com/title/tt0104756/   \n",
       "333  http://www.imdb.com/title/tt1294790/   \n",
       "459  http://www.imdb.com/title/tt0142688/   \n",
       "\n",
       "                                         rt_url  \n",
       "171    //www.rottentomatoes.com/m/lorenzos_oil/  \n",
       "333  //www.rottentomatoes.com/m/end_of_america/  \n",
       "459      //www.rottentomatoes.com/m/ninth_gate/  \n",
       "\n",
       "[3 rows x 23 columns]"
      ]
     },
     "execution_count": 8,
     "metadata": {},
     "output_type": "execute_result"
    }
   ],
   "source": [
    "df[df.isnull().any(axis=1)]"
   ]
  },
  {
   "cell_type": "markdown",
   "metadata": {},
   "source": [
    "<div class=\"alert alert-block alert-success\">\n",
    "    <h3>Basics + Fixing Missing Data</h3>\n",
    "With some basic analysis, we can see from the describe method that the numbers don't show anything extraordinary. There are no unusual outliers or numbers that look out of place. The number of unique values in each column identifies something we could possibly alter down the line, considering that the columns from best_pic_nom to top200_box contain only two uniques values, yes and no. These columns could either be dropped or altered to values that are easier to work with. Also, some rows contain missing values, however the number of missing values is relatively low. This means it is likely the information could be searched and manualy inserted. If the information cannot be found then since the number of missing values is low it will likely not alter any data analysis performed.\n",
    "</div>"
   ]
  },
  {
   "cell_type": "code",
   "execution_count": 9,
   "metadata": {},
   "outputs": [],
   "source": [
    "# Filling in missing data from rows 171, 333, and 459\n",
    "df.loc[171, \"director\"] = \"George Miller\"\n",
    "df.loc[459, \"director\"] = \"Roman Polanski\"\n",
    "df.loc[333, \"runtime\"] = 74.0"
   ]
  },
  {
   "cell_type": "code",
   "execution_count": 10,
   "metadata": {},
   "outputs": [
    {
     "data": {
      "text/html": [
       "<div>\n",
       "<style scoped>\n",
       "    .dataframe tbody tr th:only-of-type {\n",
       "        vertical-align: middle;\n",
       "    }\n",
       "\n",
       "    .dataframe tbody tr th {\n",
       "        vertical-align: top;\n",
       "    }\n",
       "\n",
       "    .dataframe thead th {\n",
       "        text-align: right;\n",
       "    }\n",
       "</style>\n",
       "<table border=\"1\" class=\"dataframe\">\n",
       "  <thead>\n",
       "    <tr style=\"text-align: right;\">\n",
       "      <th></th>\n",
       "      <th>title</th>\n",
       "      <th>title_type</th>\n",
       "      <th>genre</th>\n",
       "      <th>runtime</th>\n",
       "      <th>mpaa_rating</th>\n",
       "      <th>thtr_rel_year</th>\n",
       "      <th>thtr_rel_month</th>\n",
       "      <th>thtr_rel_day</th>\n",
       "      <th>imdb_rating</th>\n",
       "      <th>imdb_num_votes</th>\n",
       "      <th>...</th>\n",
       "      <th>audience_score</th>\n",
       "      <th>best_pic_nom</th>\n",
       "      <th>best_pic_win</th>\n",
       "      <th>best_actor_win</th>\n",
       "      <th>best_actress_win</th>\n",
       "      <th>best_dir_win</th>\n",
       "      <th>top200_box</th>\n",
       "      <th>director</th>\n",
       "      <th>imdb_url</th>\n",
       "      <th>rt_url</th>\n",
       "    </tr>\n",
       "  </thead>\n",
       "  <tbody>\n",
       "  </tbody>\n",
       "</table>\n",
       "<p>0 rows × 23 columns</p>\n",
       "</div>"
      ],
      "text/plain": [
       "Empty DataFrame\n",
       "Columns: [title, title_type, genre, runtime, mpaa_rating, thtr_rel_year, thtr_rel_month, thtr_rel_day, imdb_rating, imdb_num_votes, critics_rating, critics_score, audience_rating, audience_score, best_pic_nom, best_pic_win, best_actor_win, best_actress_win, best_dir_win, top200_box, director, imdb_url, rt_url]\n",
       "Index: []\n",
       "\n",
       "[0 rows x 23 columns]"
      ]
     },
     "execution_count": 10,
     "metadata": {},
     "output_type": "execute_result"
    }
   ],
   "source": [
    "#confirming NaN values have been replaced\n",
    "df[df.isnull().any(axis=1)]"
   ]
  },
  {
   "cell_type": "markdown",
   "metadata": {},
   "source": [
    "<div class=\"alert alert-block alert-info\">\n",
    "\n",
    "<h4> Problem 2 (10 Points)</h4>\n",
    "\n",
    "Visualization for analysis: Do a univariate analysis of the `runtime` variable by producing a density histogram and approximate PDF (graphed together) as well as a boxplot. I have already confirmed that outliers are true values, so do not drop or replace them. However, you should investigate any interesting features uncovered during your analysis such as a very frequent value or any extreme outliers. Summarize and interpret what you find. Code can be adapted from Topic 4B, presented in class and made available on the course website. \n",
    "</div>"
   ]
  },
  {
   "cell_type": "code",
   "execution_count": 11,
   "metadata": {},
   "outputs": [
    {
     "data": {
      "text/plain": [
       "0     80.0\n",
       "1    101.0\n",
       "2     84.0\n",
       "3    139.0\n",
       "4     90.0\n",
       "Name: runtime, dtype: float64"
      ]
     },
     "execution_count": 11,
     "metadata": {},
     "output_type": "execute_result"
    }
   ],
   "source": [
    "#add more code cells as necessary. comment your code well\n",
    "df_runtime = df[\"runtime\"]\n",
    "df_runtime.head()"
   ]
  },
  {
   "cell_type": "code",
   "execution_count": 12,
   "metadata": {},
   "outputs": [
    {
     "name": "stdout",
     "output_type": "stream",
     "text": [
      "Minimum film length: 39.0\n",
      "Maximum film length: 267.0\n"
     ]
    }
   ],
   "source": [
    "print(\"Minimum film length: \" + str(df_runtime.min()))\n",
    "print(\"Maximum film length: \" + str(df_runtime.max()))"
   ]
  },
  {
   "cell_type": "code",
   "execution_count": 13,
   "metadata": {},
   "outputs": [],
   "source": [
    "# fitting normal distribution to data and importing norm from scipy.stats\n",
    "from scipy.stats import norm\n",
    "mu, std = norm.fit(df_runtime)"
   ]
  },
  {
   "cell_type": "code",
   "execution_count": 14,
   "metadata": {},
   "outputs": [],
   "source": [
    "weights = np.ones_like(df_runtime)/float(len(df_runtime))"
   ]
  },
  {
   "cell_type": "code",
   "execution_count": 15,
   "metadata": {},
   "outputs": [
    {
     "data": {
      "image/png": "[encoded data removed]",
      "text/plain": [
       "<Figure size 720x504 with 1 Axes>"
      ]
     },
     "metadata": {
      "needs_background": "light"
     },
     "output_type": "display_data"
    },
    {
     "data": {
      "image/png": "[encoded data removed]",
      "text/plain": [
       "<Figure size 720x504 with 1 Axes>"
      ]
     },
     "metadata": {
      "needs_background": "light"
     },
     "output_type": "display_data"
    }
   ],
   "source": [
    "fig = plt.figure(figsize=(10, 7))\n",
    "plt.hist(df_runtime, density=True, bins=100, weights=weights)\n",
    "\n",
    "xmin, xmax = plt.xlim()\n",
    "x = np.linspace(xmin, xmax, 100)\n",
    "y_pdf = norm.pdf(x, mu, std)\n",
    "plt.title(\"Density Histogram: Runtime\")\n",
    "plt.xlabel(\"Runtime\")\n",
    "plt.xticks([50, 75, 90, 120,150, 175, 200, 250])\n",
    "plt.plot(x, y_pdf, color=\"red\", linewidth=2)\n",
    "fig = plt.figure(figsize=(10, 7))\n",
    "runtime_boxplot = plt.boxplot(df_runtime)"
   ]
  },
  {
   "cell_type": "markdown",
   "metadata": {},
   "source": [
    "<div class=\"alert alert-block alert-success\">\n",
    "    <h3>Density Histogram Findings</h3>\n",
    "Judging from the density histogram, we can tell the information is relatively normaly distributed according to the plotted pdf over the histogram. The histogram is scewed to the right with most of the runtime data poits being between 75 and 140. Most of the data points are at the 90 minute mark, which makes sense that an hour and a half would be the most common runtime. After the 90 minute runtime, the runtime lengths start to diminish.\n",
    "</div>"
   ]
  },
  {
   "cell_type": "code",
   "execution_count": 16,
   "metadata": {},
   "outputs": [
    {
     "data": {
      "text/plain": [
       "array([ 39.,  40., 178., 154., 162., 165., 157., 155., 154., 267., 161.,\n",
       "       202., 180., 172., 155., 177., 152., 194.])"
      ]
     },
     "execution_count": 16,
     "metadata": {},
     "output_type": "execute_result"
    }
   ],
   "source": [
    "boxplot_outliers = runtime_boxplot['fliers'][0].get_data()[1]\n",
    "boxplot_outliers"
   ]
  },
  {
   "cell_type": "markdown",
   "metadata": {},
   "source": [
    "<div class=\"alert alert-block alert-success\">\n",
    "    <h3>Boxplot Findings</h3>\n",
    "No irregularities are apparent when viewing the outliers within the boxplot. Only two outliers are below the interquartile range, more are above the IQR but all seem reasonable. Just to make sure we can look up the min and the max outlier to confirm runtimes.\n",
    "</div>"
   ]
  },
  {
   "cell_type": "code",
   "execution_count": 17,
   "metadata": {},
   "outputs": [
    {
     "name": "stdout",
     "output_type": "stream",
     "text": [
      "130    http://www.imdb.com/title/tt0109049/\n",
      "Name: imdb_url, dtype: object\n",
      "232    http://www.imdb.com/title/tt0095341/\n",
      "Name: imdb_url, dtype: object\n"
     ]
    }
   ],
   "source": [
    "min_runtime = df[df[\"runtime\"] == 39]\n",
    "max_runtime = df[df[\"runtime\"] == 267]\n",
    "print(min_runtime[\"imdb_url\"])\n",
    "print(max_runtime[\"imdb_url\"])"
   ]
  },
  {
   "cell_type": "markdown",
   "metadata": {},
   "source": [
    "<div class=\"alert alert-block alert-info\">\n",
    "\n",
    "<h4> Problem 3 (5 Points)</h4>\n",
    "\n",
    "Visualization for analysis: Create a heatmap of the quantitative data in df and observe that  `imdb_score` and `audience_score` are highly correlated. Code can be adapted from Topic 4B, presented in class and made available on the course website. \n",
    "</div>"
   ]
  },
  {
   "cell_type": "code",
   "execution_count": 18,
   "metadata": {},
   "outputs": [
    {
     "data": {
      "text/plain": [
       "['runtime',\n",
       " 'thtr_rel_year',\n",
       " 'thtr_rel_month',\n",
       " 'thtr_rel_day',\n",
       " 'imdb_rating',\n",
       " 'imdb_num_votes',\n",
       " 'critics_score',\n",
       " 'audience_score']"
      ]
     },
     "execution_count": 18,
     "metadata": {},
     "output_type": "execute_result"
    }
   ],
   "source": [
    "quantitative_columns = []\n",
    "for column in df.columns:\n",
    "    if df[column].dtype in ['int64', 'float64']:\n",
    "        quantitative_columns.append(column)\n",
    "quantitative_columns"
   ]
  },
  {
   "cell_type": "code",
   "execution_count": 19,
   "metadata": {},
   "outputs": [
    {
     "data": {
      "text/plain": [
       "<AxesSubplot:>"
      ]
     },
     "execution_count": 19,
     "metadata": {},
     "output_type": "execute_result"
    },
    {
     "data": {
      "image/png": "[encoded data removed]",
      "text/plain": [
       "<Figure size 720x576 with 2 Axes>"
      ]
     },
     "metadata": {
      "needs_background": "light"
     },
     "output_type": "display_data"
    }
   ],
   "source": [
    "mask = np.triu(np.ones_like(df.corr())) \n",
    "fig, ax = plt.subplots(figsize=(10, 8))\n",
    "sb.heatmap(df[[column for column in quantitative_columns]].corr(), cmap=\"YlGnBu\", mask=mask, annot=True)"
   ]
  },
  {
   "cell_type": "markdown",
   "metadata": {},
   "source": [
    "<div class=\"alert alert-block alert-info\">\n",
    "\n",
    "<h4> Problem 4 (5 Points)</h4>\n",
    "\n",
    "Create and graph a regression model:\n",
    "    \n",
    "- Use the Numpy polyfit method to create a 1 dimensional regression model that predicts `audience_score` from `imdb_rating`.  \n",
    "- Then use the Numpy poly1d method to turn this model into a function called `y`. \n",
    "- Finally, create a seaborn lmplot for `imdb_rating` (independent variable) and `audience_score` (dependent variable), and graph it on the same axes as your regression line. Use contrasting colors so that your regression line stands out against the points in the scatterplot.\n",
    "    \n",
    "Code can be adapted from Topic 4B, presented in class and made available on the course website. \n",
    "</div>"
   ]
  },
  {
   "cell_type": "code",
   "execution_count": 20,
   "metadata": {},
   "outputs": [
    {
     "data": {
      "text/plain": [
       "array([ 16.12343649, -42.32836569])"
      ]
     },
     "execution_count": 20,
     "metadata": {},
     "output_type": "execute_result"
    }
   ],
   "source": [
    "regression_model = np.polyfit(df[\"imdb_rating\"], df[\"audience_score\"], 1)\n",
    "regression_model"
   ]
  },
  {
   "cell_type": "code",
   "execution_count": 21,
   "metadata": {},
   "outputs": [],
   "source": [
    "y = np.poly1d(regression_model)"
   ]
  },
  {
   "cell_type": "code",
   "execution_count": 22,
   "metadata": {},
   "outputs": [
    {
     "data": {
      "image/png": "[encoded data removed]",
      "text/plain": [
       "<Figure size 360x360 with 1 Axes>"
      ]
     },
     "metadata": {
      "needs_background": "light"
     },
     "output_type": "display_data"
    }
   ],
   "source": [
    "p = sb.lmplot(x=\"imdb_rating\", y=\"audience_score\", data=df[[\"imdb_rating\",'audience_score']], x_estimator=np.mean, height=5)\n",
    "ax = p.axes[0, 0]\n",
    "\n",
    "xmin, xmax = plt.xlim()\n",
    "x = np.linspace(xmin, xmax, 100)\n",
    "plt.plot(x, y(x), 'k', linewidth=2, color='orange')\n",
    "plt.tight_layout()"
   ]
  },
  {
   "cell_type": "markdown",
   "metadata": {},
   "source": [
    "<div class=\"alert alert-block alert-info\">\n",
    "\n",
    "<h4> Problem 5 (10 Points)</h4>\n",
    "\n",
    "Import new data and test your regression model:\n",
    "    \n",
    "- Import `movie_ratings_16_17.csv` as df2. In this dataset, the features of interest are called `imdb` and `audience`.\n",
    "- Create a new dataframe **called df_test** containing only the `imdb` and `audience` data from `movie_ratings_16_17.csv`. To avoid a warning or possible error, you will need to use the `copy()` method for dataframes. For example, if you want to create the dataframe `new` from the dataframe `old` by selecting only the columns names `A` and `B`, you can use the command: `new = old[['A','B']].copy()`\n",
    "- Finally, **create a new column in df_test called `aud_pred`** and fill it with **predicted** audience scores using the data in the `imdb` column and your regression function that you created in the previous question. To do this, you will want to use the `apply()` method and a `lambda function` as follows: `df_test['aud_pred'] = df_test.apply(lambda row: y(row['imdb']),axis=1)`.\n",
    "- Print the *first 15* rows of your modified `df_test` dataframe.\n",
    "\n",
    "</div>"
   ]
  },
  {
   "cell_type": "code",
   "execution_count": 23,
   "metadata": {},
   "outputs": [
    {
     "data": {
      "text/html": [
       "<div>\n",
       "<style scoped>\n",
       "    .dataframe tbody tr th:only-of-type {\n",
       "        vertical-align: middle;\n",
       "    }\n",
       "\n",
       "    .dataframe tbody tr th {\n",
       "        vertical-align: top;\n",
       "    }\n",
       "\n",
       "    .dataframe thead th {\n",
       "        text-align: right;\n",
       "    }\n",
       "</style>\n",
       "<table border=\"1\" class=\"dataframe\">\n",
       "  <thead>\n",
       "    <tr style=\"text-align: right;\">\n",
       "      <th></th>\n",
       "      <th>movie</th>\n",
       "      <th>year</th>\n",
       "      <th>metascore</th>\n",
       "      <th>imdb</th>\n",
       "      <th>tmeter</th>\n",
       "      <th>audience</th>\n",
       "      <th>fandango</th>\n",
       "      <th>n_metascore</th>\n",
       "      <th>n_imdb</th>\n",
       "      <th>n_tmeter</th>\n",
       "      <th>n_audience</th>\n",
       "      <th>nr_metascore</th>\n",
       "      <th>nr_imdb</th>\n",
       "      <th>nr_tmeter</th>\n",
       "      <th>nr_audience</th>\n",
       "    </tr>\n",
       "  </thead>\n",
       "  <tbody>\n",
       "    <tr>\n",
       "      <th>0</th>\n",
       "      <td>10 Cloverfield Lane</td>\n",
       "      <td>2016</td>\n",
       "      <td>76</td>\n",
       "      <td>7.2</td>\n",
       "      <td>90</td>\n",
       "      <td>79</td>\n",
       "      <td>3.5</td>\n",
       "      <td>3.80</td>\n",
       "      <td>3.60</td>\n",
       "      <td>4.50</td>\n",
       "      <td>3.95</td>\n",
       "      <td>4.0</td>\n",
       "      <td>3.5</td>\n",
       "      <td>4.5</td>\n",
       "      <td>4.0</td>\n",
       "    </tr>\n",
       "    <tr>\n",
       "      <th>1</th>\n",
       "      <td>13 Hours</td>\n",
       "      <td>2016</td>\n",
       "      <td>48</td>\n",
       "      <td>7.3</td>\n",
       "      <td>50</td>\n",
       "      <td>83</td>\n",
       "      <td>4.5</td>\n",
       "      <td>2.40</td>\n",
       "      <td>3.65</td>\n",
       "      <td>2.50</td>\n",
       "      <td>4.15</td>\n",
       "      <td>2.5</td>\n",
       "      <td>3.5</td>\n",
       "      <td>2.5</td>\n",
       "      <td>4.0</td>\n",
       "    </tr>\n",
       "    <tr>\n",
       "      <th>2</th>\n",
       "      <td>A Cure for Wellness</td>\n",
       "      <td>2016</td>\n",
       "      <td>47</td>\n",
       "      <td>6.6</td>\n",
       "      <td>40</td>\n",
       "      <td>47</td>\n",
       "      <td>3.0</td>\n",
       "      <td>2.35</td>\n",
       "      <td>3.30</td>\n",
       "      <td>2.00</td>\n",
       "      <td>2.35</td>\n",
       "      <td>2.5</td>\n",
       "      <td>3.5</td>\n",
       "      <td>2.0</td>\n",
       "      <td>2.5</td>\n",
       "    </tr>\n",
       "    <tr>\n",
       "      <th>3</th>\n",
       "      <td>A Dog's Purpose</td>\n",
       "      <td>2017</td>\n",
       "      <td>43</td>\n",
       "      <td>5.2</td>\n",
       "      <td>33</td>\n",
       "      <td>76</td>\n",
       "      <td>4.5</td>\n",
       "      <td>2.15</td>\n",
       "      <td>2.60</td>\n",
       "      <td>1.65</td>\n",
       "      <td>3.80</td>\n",
       "      <td>2.0</td>\n",
       "      <td>2.5</td>\n",
       "      <td>1.5</td>\n",
       "      <td>4.0</td>\n",
       "    </tr>\n",
       "    <tr>\n",
       "      <th>4</th>\n",
       "      <td>A Hologram for the King</td>\n",
       "      <td>2016</td>\n",
       "      <td>58</td>\n",
       "      <td>6.1</td>\n",
       "      <td>70</td>\n",
       "      <td>57</td>\n",
       "      <td>3.0</td>\n",
       "      <td>2.90</td>\n",
       "      <td>3.05</td>\n",
       "      <td>3.50</td>\n",
       "      <td>2.85</td>\n",
       "      <td>3.0</td>\n",
       "      <td>3.0</td>\n",
       "      <td>3.5</td>\n",
       "      <td>3.0</td>\n",
       "    </tr>\n",
       "  </tbody>\n",
       "</table>\n",
       "</div>"
      ],
      "text/plain": [
       "                     movie  year  metascore  imdb  tmeter  audience  fandango  \\\n",
       "0      10 Cloverfield Lane  2016         76   7.2      90        79       3.5   \n",
       "1                 13 Hours  2016         48   7.3      50        83       4.5   \n",
       "2      A Cure for Wellness  2016         47   6.6      40        47       3.0   \n",
       "3          A Dog's Purpose  2017         43   5.2      33        76       4.5   \n",
       "4  A Hologram for the King  2016         58   6.1      70        57       3.0   \n",
       "\n",
       "   n_metascore  n_imdb  n_tmeter  n_audience  nr_metascore  nr_imdb  \\\n",
       "0         3.80    3.60      4.50        3.95           4.0      3.5   \n",
       "1         2.40    3.65      2.50        4.15           2.5      3.5   \n",
       "2         2.35    3.30      2.00        2.35           2.5      3.5   \n",
       "3         2.15    2.60      1.65        3.80           2.0      2.5   \n",
       "4         2.90    3.05      3.50        2.85           3.0      3.0   \n",
       "\n",
       "   nr_tmeter  nr_audience  \n",
       "0        4.5          4.0  \n",
       "1        2.5          4.0  \n",
       "2        2.0          2.5  \n",
       "3        1.5          4.0  \n",
       "4        3.5          3.0  "
      ]
     },
     "execution_count": 23,
     "metadata": {},
     "output_type": "execute_result"
    }
   ],
   "source": [
    "df2 = pd.read_csv(\"movie_ratings_16_17.csv\")\n",
    "df2.head()"
   ]
  },
  {
   "cell_type": "code",
   "execution_count": 24,
   "metadata": {},
   "outputs": [
    {
     "data": {
      "text/html": [
       "<div>\n",
       "<style scoped>\n",
       "    .dataframe tbody tr th:only-of-type {\n",
       "        vertical-align: middle;\n",
       "    }\n",
       "\n",
       "    .dataframe tbody tr th {\n",
       "        vertical-align: top;\n",
       "    }\n",
       "\n",
       "    .dataframe thead th {\n",
       "        text-align: right;\n",
       "    }\n",
       "</style>\n",
       "<table border=\"1\" class=\"dataframe\">\n",
       "  <thead>\n",
       "    <tr style=\"text-align: right;\">\n",
       "      <th></th>\n",
       "      <th>imdb</th>\n",
       "      <th>audience</th>\n",
       "      <th>aud_pred</th>\n",
       "    </tr>\n",
       "  </thead>\n",
       "  <tbody>\n",
       "    <tr>\n",
       "      <th>0</th>\n",
       "      <td>7.2</td>\n",
       "      <td>79</td>\n",
       "      <td>73.760377</td>\n",
       "    </tr>\n",
       "    <tr>\n",
       "      <th>1</th>\n",
       "      <td>7.3</td>\n",
       "      <td>83</td>\n",
       "      <td>75.372721</td>\n",
       "    </tr>\n",
       "    <tr>\n",
       "      <th>2</th>\n",
       "      <td>6.6</td>\n",
       "      <td>47</td>\n",
       "      <td>64.086315</td>\n",
       "    </tr>\n",
       "    <tr>\n",
       "      <th>3</th>\n",
       "      <td>5.2</td>\n",
       "      <td>76</td>\n",
       "      <td>41.513504</td>\n",
       "    </tr>\n",
       "    <tr>\n",
       "      <th>4</th>\n",
       "      <td>6.1</td>\n",
       "      <td>57</td>\n",
       "      <td>56.024597</td>\n",
       "    </tr>\n",
       "    <tr>\n",
       "      <th>5</th>\n",
       "      <td>7.5</td>\n",
       "      <td>84</td>\n",
       "      <td>78.597408</td>\n",
       "    </tr>\n",
       "    <tr>\n",
       "      <th>6</th>\n",
       "      <td>7.4</td>\n",
       "      <td>79</td>\n",
       "      <td>76.985064</td>\n",
       "    </tr>\n",
       "    <tr>\n",
       "      <th>7</th>\n",
       "      <td>6.2</td>\n",
       "      <td>50</td>\n",
       "      <td>57.636941</td>\n",
       "    </tr>\n",
       "    <tr>\n",
       "      <th>8</th>\n",
       "      <td>7.1</td>\n",
       "      <td>66</td>\n",
       "      <td>72.148033</td>\n",
       "    </tr>\n",
       "    <tr>\n",
       "      <th>9</th>\n",
       "      <td>5.0</td>\n",
       "      <td>27</td>\n",
       "      <td>38.288817</td>\n",
       "    </tr>\n",
       "    <tr>\n",
       "      <th>10</th>\n",
       "      <td>7.2</td>\n",
       "      <td>71</td>\n",
       "      <td>73.760377</td>\n",
       "    </tr>\n",
       "    <tr>\n",
       "      <th>11</th>\n",
       "      <td>4.8</td>\n",
       "      <td>16</td>\n",
       "      <td>35.064129</td>\n",
       "    </tr>\n",
       "    <tr>\n",
       "      <th>12</th>\n",
       "      <td>8.0</td>\n",
       "      <td>82</td>\n",
       "      <td>86.659126</td>\n",
       "    </tr>\n",
       "    <tr>\n",
       "      <th>13</th>\n",
       "      <td>4.0</td>\n",
       "      <td>22</td>\n",
       "      <td>22.165380</td>\n",
       "    </tr>\n",
       "    <tr>\n",
       "      <th>14</th>\n",
       "      <td>6.1</td>\n",
       "      <td>51</td>\n",
       "      <td>56.024597</td>\n",
       "    </tr>\n",
       "  </tbody>\n",
       "</table>\n",
       "</div>"
      ],
      "text/plain": [
       "    imdb  audience   aud_pred\n",
       "0    7.2        79  73.760377\n",
       "1    7.3        83  75.372721\n",
       "2    6.6        47  64.086315\n",
       "3    5.2        76  41.513504\n",
       "4    6.1        57  56.024597\n",
       "5    7.5        84  78.597408\n",
       "6    7.4        79  76.985064\n",
       "7    6.2        50  57.636941\n",
       "8    7.1        66  72.148033\n",
       "9    5.0        27  38.288817\n",
       "10   7.2        71  73.760377\n",
       "11   4.8        16  35.064129\n",
       "12   8.0        82  86.659126\n",
       "13   4.0        22  22.165380\n",
       "14   6.1        51  56.024597"
      ]
     },
     "execution_count": 24,
     "metadata": {},
     "output_type": "execute_result"
    }
   ],
   "source": [
    "df_test = df2[[\"imdb\", \"audience\"]].copy()\n",
    "df_test['aud_pred'] = df_test.apply(lambda row: y(row['imdb']),axis=1)\n",
    "df_test.head(15)"
   ]
  },
  {
   "cell_type": "markdown",
   "metadata": {},
   "source": [
    "<div class=\"alert alert-block alert-info\">\n",
    "\n",
    "<h4> Problem 6 (10 Points)</h4>\n",
    "\n",
    "Visualize, analyze, and interpret how well your regression model, which was created using data from the `movie_ratings2.csv` dataset predicts the audience score in the `movie_ratings_16_17.csv` dataset:\n",
    "    \n",
    "- Create a seaborn lmplot for the df_test `audience` variable (independent variable) and df_test `aud_pred` variable (dependent variable). Do *not* graph your regression line because it does not make sense to do so. The lmplot will graph a best-fit line for these variables.\n",
    "    - Use the `r2_score()` method from the `sklearn.metrics` package to compute <b>and print</b> the **predicted** $R^2$ statistic for `audience` and `aud_pred`. \n",
    "- Use your graph and the predicted $R^2$ value to write an interpretation that states and justifies how well you think your regression model predicted the audience scores in the second dataset. If you need to look up and read about the predicted $R^2$ statistic, do so.\n",
    "\n",
    "</div>"
   ]
  },
  {
   "cell_type": "code",
   "execution_count": 25,
   "metadata": {},
   "outputs": [
    {
     "data": {
      "text/plain": [
       "array([ 0.71803924, 19.42122394])"
      ]
     },
     "execution_count": 25,
     "metadata": {},
     "output_type": "execute_result"
    }
   ],
   "source": [
    "lin_reg_model = np.polyfit(df_test[\"audience\"], df_test[\"aud_pred\"], 1)\n",
    "lin_reg_model"
   ]
  },
  {
   "cell_type": "code",
   "execution_count": 26,
   "metadata": {},
   "outputs": [],
   "source": [
    "y = np.poly1d(lin_reg_model)"
   ]
  },
  {
   "cell_type": "code",
   "execution_count": 27,
   "metadata": {},
   "outputs": [
    {
     "data": {
      "text/plain": [
       "<seaborn.axisgrid.FacetGrid at 0x29dc37102c8>"
      ]
     },
     "execution_count": 27,
     "metadata": {},
     "output_type": "execute_result"
    },
    {
     "data": {
      "image/png": "[encoded data removed]",
      "text/plain": [
       "<Figure size 360x360 with 1 Axes>"
      ]
     },
     "metadata": {
      "needs_background": "light"
     },
     "output_type": "display_data"
    }
   ],
   "source": [
    "sb.lmplot(x=\"audience\", y =\"aud_pred\", data=df_test, x_estimator=np.mean)"
   ]
  },
  {
   "cell_type": "code",
   "execution_count": 28,
   "metadata": {},
   "outputs": [
    {
     "data": {
      "text/plain": [
       "0.7976767613269353"
      ]
     },
     "execution_count": 28,
     "metadata": {},
     "output_type": "execute_result"
    }
   ],
   "source": [
    "r2_score = r2_score(df_test[\"audience\"], df_test[\"aud_pred\"])\n",
    "r2_score"
   ]
  },
  {
   "cell_type": "markdown",
   "metadata": {},
   "source": [
    "<div class=\"alert alert-block alert-success\">\n",
    "    <h3>Interpreting Regression Model and R2 Score</h3>\n",
    "By looking at the regression model, the prediction came out to be fairly accurate. It was not as closely fit to the data set as the original one, but the prediction is generally fit. The <a href=\"https://blog.minitab.com/en/adventures-in-statistics-2/regression-analysis-how-do-i-interpret-r-squared-and-assess-the-goodness-of-fit#:~:text=R%2Dsquared%20is%20a%20statistical,multiple%20determination%20for%20multiple%20regression.&text=100%25%20indicates%20that%20the%20model,response%20data%20around%20its%20mean.\">R<sup>2</sup></a> score statistic gives more evidence that this model was fit relatively well, with a score of 80. Since the R<sup>2</sup> score is based off 0% to 100% with 0% indicating that the model explains none of the variability of the response data around its mean and 100% indicating that the model explains all the variability of the response data around its mean. 80% is pretty solid.\n",
    "</div>"
   ]
  },
  {
   "cell_type": "markdown",
   "metadata": {},
   "source": [
    "<div class=\"alert alert-block alert-info\">\n",
    "\n",
    "<h4> Problem 7 (15 Points)</h4>\n",
    "\n",
    "Visualization for communication: Create a **donut** chart for the `mpaa_rating` variable in df. Your labels should be the ratings, and your data should be the `mpaa_rating` value counts (`value_counts()`). \n",
    "    \n",
    "Be sure your graph is easy to read and has a color scheme that makes it easy to see the differences in the variables. The donut chart must include:\n",
    "    \n",
    "- A title\n",
    "- The MPAA rating labels\n",
    "- annotations for *both* the **percentages** and **counts** for each category. \n",
    "    \n",
    "Following your donut chart, you must include a written interpretation that includes any insights you obtained from reviewing your donut chart.\n",
    "    \n",
    "Code can be adapted from Topic 4B, presented in class and made available on the course website.\n",
    "\n",
    "</div>"
   ]
  },
  {
   "cell_type": "code",
   "execution_count": 29,
   "metadata": {},
   "outputs": [
    {
     "data": {
      "text/plain": [
       "R          329\n",
       "PG-13      133\n",
       "PG         118\n",
       "Unrated     50\n",
       "G           19\n",
       "NC-17        2\n",
       "Name: mpaa_rating, dtype: int64"
      ]
     },
     "execution_count": 29,
     "metadata": {},
     "output_type": "execute_result"
    }
   ],
   "source": [
    "mpaa_rating = df[\"mpaa_rating\"]\n",
    "mpaa_rating.value_counts()"
   ]
  },
  {
   "cell_type": "code",
   "execution_count": 30,
   "metadata": {},
   "outputs": [
    {
     "data": {
      "text/html": [
       "<div>\n",
       "<style scoped>\n",
       "    .dataframe tbody tr th:only-of-type {\n",
       "        vertical-align: middle;\n",
       "    }\n",
       "\n",
       "    .dataframe tbody tr th {\n",
       "        vertical-align: top;\n",
       "    }\n",
       "\n",
       "    .dataframe thead th {\n",
       "        text-align: right;\n",
       "    }\n",
       "</style>\n",
       "<table border=\"1\" class=\"dataframe\">\n",
       "  <thead>\n",
       "    <tr style=\"text-align: right;\">\n",
       "      <th></th>\n",
       "      <th>ratings</th>\n",
       "      <th>values</th>\n",
       "    </tr>\n",
       "  </thead>\n",
       "  <tbody>\n",
       "    <tr>\n",
       "      <th>0</th>\n",
       "      <td>R</td>\n",
       "      <td>329</td>\n",
       "    </tr>\n",
       "    <tr>\n",
       "      <th>1</th>\n",
       "      <td>PG-13</td>\n",
       "      <td>133</td>\n",
       "    </tr>\n",
       "    <tr>\n",
       "      <th>2</th>\n",
       "      <td>PG</td>\n",
       "      <td>118</td>\n",
       "    </tr>\n",
       "    <tr>\n",
       "      <th>3</th>\n",
       "      <td>Unrated</td>\n",
       "      <td>50</td>\n",
       "    </tr>\n",
       "    <tr>\n",
       "      <th>4</th>\n",
       "      <td>G</td>\n",
       "      <td>19</td>\n",
       "    </tr>\n",
       "    <tr>\n",
       "      <th>5</th>\n",
       "      <td>NC-17</td>\n",
       "      <td>2</td>\n",
       "    </tr>\n",
       "  </tbody>\n",
       "</table>\n",
       "</div>"
      ],
      "text/plain": [
       "   ratings  values\n",
       "0        R     329\n",
       "1    PG-13     133\n",
       "2       PG     118\n",
       "3  Unrated      50\n",
       "4        G      19\n",
       "5    NC-17       2"
      ]
     },
     "execution_count": 30,
     "metadata": {},
     "output_type": "execute_result"
    }
   ],
   "source": [
    "ratings = ['R', 'PG-13', 'PG', 'Unrated', 'G', 'NC-17']\n",
    "values = [rating for rating in mpaa_rating.value_counts()]\n",
    "\n",
    "mpaa_donut = pd.DataFrame()\n",
    "mpaa_donut['ratings'] = ratings\n",
    "mpaa_donut['values'] = values\n",
    "mpaa_donut"
   ]
  },
  {
   "cell_type": "code",
   "execution_count": 31,
   "metadata": {},
   "outputs": [
    {
     "data": {
      "text/plain": [
       "Text(0.5, 1.0, 'MPAA Ratings')"
      ]
     },
     "execution_count": 31,
     "metadata": {},
     "output_type": "execute_result"
    },
    {
     "data": {
      "image/png": "[encoded data removed]",
      "text/plain": [
       "<Figure size 1008x864 with 1 Axes>"
      ]
     },
     "metadata": {},
     "output_type": "display_data"
    }
   ],
   "source": [
    "data = mpaa_donut['values']\n",
    "labels = mpaa_donut['ratings']\n",
    "\n",
    "colors_one = plt.cm.viridis\n",
    "colors = [colors_one(0.9), colors_one(0.75), colors_one(0.60), colors_one(0.45), colors_one(0.30), colors_one(0.15)]\n",
    "explode = (0, 0, 0, 0, .45, .45)\n",
    "\n",
    "def func(pct, allvals):\n",
    "    absolute = int(np.round(pct/100.*np.sum(allvals),0))\n",
    "    return \"{:.1f}%\\n({:d})\".format(pct, absolute)\n",
    "\n",
    "fig, ax = plt.subplots(figsize=(14, 12))\n",
    "wedges, texts, autotexts = ax.pie(data, labels=labels, autopct=lambda pct: func(pct, data), explode=explode,wedgeprops=dict(width=0.5), colors=colors, startangle=-40, pctdistance=.75, labeldistance=1.05)\n",
    "\n",
    "for wedge, txt in zip(wedges, autotexts):\n",
    "    # the angle at which the text is located\n",
    "    ang = (wedge.theta2 + wedge.theta1) / 2.\n",
    "    # new coordinates of the text, 0.7 is the distance from the center \n",
    "    x = wedge.r * 1.25 * np.cos(ang*np.pi/180)\n",
    "    y = wedge.r * 1.2 * np.sin(ang*np.pi/180)\n",
    "    # if patch is narrow enough, move text to new coordinates\n",
    "    if (wedge.theta2 - wedge.theta1) < 10:\n",
    "        txt.set_position((x, y))\n",
    "\n",
    "plt.tight_layout()\n",
    "ax.set_title(\"MPAA Ratings\")"
   ]
  },
  {
   "cell_type": "markdown",
   "metadata": {},
   "source": [
    "<div class=\"alert alert-block alert-success\">\n",
    "    <h3>Donut Chart Interpretation</h3>\n",
    "The rating of R controls the majority of the donut chart at 50.5%. Followed by PG-13 and PG at 20.4% and 18.1% respectively. The majority of movies would probably like to appeal to a wide audience, hence the reason that R, PG-13 and PG control 89% of the whole. These ratings allow for a wide range of ages to view which would allow for the greatest profit. The lowest percentage is NC-17 which is only allowed to be viewed by adults. Unrated sitting at 7.7% and G at 2.9%. The movie theaters is often a family setting where kids, teens, and adults view movies together. This could account for the reason that NC-17 and G rated movies are lower percentages. Movie makers are incentivized to produce movies that pull in a wider range of people and attract audiences of a family setting rather than producing movies that can only be watched or enjoyed by a smaller percentage of the population.\n",
    "</div>"
   ]
  },
  {
   "cell_type": "markdown",
   "metadata": {},
   "source": [
    "<div class=\"alert alert-block alert-info\">\n",
    "\n",
    "<h4> Problem 8 (15 Points)</h4>\n",
    "\n",
    "Visualization for communication: Create a **bar chart** for the `genre` variable in df. Your labels should be the names for the genres, and your data should be  `genre` value counts. \n",
    "    \n",
    "You will encounter some challenges, and I expect you to work through them. For example, you will either have to look up how to rotate the labels on the bar chart or you will have to look up how to create a *horizontal* bar chart. Other issues may arise as well. Include a title and your labels and be sure these are legible. In addition, name both of your axes appropriately and be sure that the scale on your frequency axis is both reasonable and legible.\n",
    "    \n",
    "Following your bar chart, you must include a written interpretation that includes any insights you obtained from reviewing your bar chart.    \n",
    "    \n",
    "Preliminary code can be adapted from Topic 4B, presented in class and made available on the course website.\n",
    "\n",
    "</div>"
   ]
  },
  {
   "cell_type": "code",
   "execution_count": 32,
   "metadata": {},
   "outputs": [
    {
     "data": {
      "text/html": [
       "<div>\n",
       "<style scoped>\n",
       "    .dataframe tbody tr th:only-of-type {\n",
       "        vertical-align: middle;\n",
       "    }\n",
       "\n",
       "    .dataframe tbody tr th {\n",
       "        vertical-align: top;\n",
       "    }\n",
       "\n",
       "    .dataframe thead th {\n",
       "        text-align: right;\n",
       "    }\n",
       "</style>\n",
       "<table border=\"1\" class=\"dataframe\">\n",
       "  <thead>\n",
       "    <tr style=\"text-align: right;\">\n",
       "      <th></th>\n",
       "      <th>count</th>\n",
       "    </tr>\n",
       "    <tr>\n",
       "      <th>genre</th>\n",
       "      <th></th>\n",
       "    </tr>\n",
       "  </thead>\n",
       "  <tbody>\n",
       "    <tr>\n",
       "      <th>Drama</th>\n",
       "      <td>305</td>\n",
       "    </tr>\n",
       "    <tr>\n",
       "      <th>Comedy</th>\n",
       "      <td>87</td>\n",
       "    </tr>\n",
       "    <tr>\n",
       "      <th>Action &amp; Adventure</th>\n",
       "      <td>65</td>\n",
       "    </tr>\n",
       "    <tr>\n",
       "      <th>Mystery &amp; Suspense</th>\n",
       "      <td>59</td>\n",
       "    </tr>\n",
       "    <tr>\n",
       "      <th>Documentary</th>\n",
       "      <td>52</td>\n",
       "    </tr>\n",
       "    <tr>\n",
       "      <th>Horror</th>\n",
       "      <td>23</td>\n",
       "    </tr>\n",
       "    <tr>\n",
       "      <th>Other</th>\n",
       "      <td>16</td>\n",
       "    </tr>\n",
       "    <tr>\n",
       "      <th>Art House &amp; International</th>\n",
       "      <td>14</td>\n",
       "    </tr>\n",
       "    <tr>\n",
       "      <th>Musical &amp; Performing Arts</th>\n",
       "      <td>12</td>\n",
       "    </tr>\n",
       "    <tr>\n",
       "      <th>Animation</th>\n",
       "      <td>9</td>\n",
       "    </tr>\n",
       "    <tr>\n",
       "      <th>Science Fiction &amp; Fantasy</th>\n",
       "      <td>9</td>\n",
       "    </tr>\n",
       "  </tbody>\n",
       "</table>\n",
       "</div>"
      ],
      "text/plain": [
       "                           count\n",
       "genre                           \n",
       "Drama                        305\n",
       "Comedy                        87\n",
       "Action & Adventure            65\n",
       "Mystery & Suspense            59\n",
       "Documentary                   52\n",
       "Horror                        23\n",
       "Other                         16\n",
       "Art House & International     14\n",
       "Musical & Performing Arts     12\n",
       "Animation                      9\n",
       "Science Fiction & Fantasy      9"
      ]
     },
     "execution_count": 32,
     "metadata": {},
     "output_type": "execute_result"
    }
   ],
   "source": [
    "genre = df[\"genre\"]\n",
    "genre_df = genre.value_counts().to_frame()\n",
    "genre_df.columns = ['count']\n",
    "genre_df.index.name = 'genre'\n",
    "genre_df"
   ]
  },
  {
   "cell_type": "code",
   "execution_count": 33,
   "metadata": {},
   "outputs": [
    {
     "data": {
      "text/plain": [
       "Text(0.5, 1.0, 'Genre Counts')"
      ]
     },
     "execution_count": 33,
     "metadata": {},
     "output_type": "execute_result"
    },
    {
     "data": {
      "image/png": "[encoded data removed]",
      "text/plain": [
       "<Figure size 432x288 with 1 Axes>"
      ]
     },
     "metadata": {
      "needs_background": "light"
     },
     "output_type": "display_data"
    }
   ],
   "source": [
    "plt.bar(genre_df.index, genre_df['count'])\n",
    "plt.xticks(rotation=90)\n",
    "plt.xlabel(\"Genre\")\n",
    "plt.ylabel(\"Count\")\n",
    "plt.title(\"Genre Counts\")"
   ]
  },
  {
   "cell_type": "code",
   "execution_count": 34,
   "metadata": {},
   "outputs": [
    {
     "name": "stdout",
     "output_type": "stream",
     "text": [
      "Total Counts: 651\n",
      "Drama accounts for 47% of genre counts.\n"
     ]
    }
   ],
   "source": [
    "print(\"Total Counts: \" + str(sum([x for x in genre_df['count']])))\n",
    "print(\"Drama accounts for \" + str(round(305/651, 2))[2:] + \"% of genre counts.\")"
   ]
  },
  {
   "cell_type": "markdown",
   "metadata": {},
   "source": [
    "<div class=\"alert alert-block alert-success\">\n",
    "    <h3>Bar Chart Findings</h3>\n",
    "The value that sticks out the most to me on this bar chart is how much larger the drama genre is compared to the other categories. It may be that the drama genre is the majority in this case, but if I were to do further digging into this I would investigate some of the movies with the drama category. It may be a mistake, or certain subcategories might automatically be filed into the drama category that could otherwise fit a different category. It just seems fishy that nearly 50 percent of the movies in this data set are drama.  \n",
    "</div>"
   ]
  },
  {
   "cell_type": "markdown",
   "metadata": {},
   "source": [
    "<div class=\"alert alert-block alert-info\">\n",
    "\n",
    "<h4> Problem 9 (20 points) </h4>\n",
    "\n",
    "Visualization for communication: Find and represent something else (your choice) in the data with a visualization and analysis. Be sure that your graphic is easy to read, and include a summary of your interpretation/findings. This is where you can distinguish yourself and practice your skills.\n",
    "    \n",
    "I don't want to see 10 of the exact same responses here :) This is where you stake out your identity and show your skill. You may discuss your work with other students, but your work needs to be unique. For full credit, I want to see a good and thoughtful effort. \n",
    "    \n",
    "</div>"
   ]
  },
  {
   "cell_type": "markdown",
   "metadata": {},
   "source": [
    "<div class=\"alert alert-block alert-success\">\n",
    "    <h3>Bar Chart</h3>\n",
    "Here I will determine if there is a correlation between the number of awards/nominations and the probability of being in the top 200 box office. To do this, I will change the yes and no values in the columns best_picnom, best_pic_win, best_actor_win, best_actress_win, best_dir_win to be a 1 for yes and 0 for no. This will enable easier data manipulation and analysis. After that, a new column will be added to the data frame to sum up these values in award column. From there you can add up how many yes's represent each award number.\n",
    "</div>"
   ]
  },
  {
   "cell_type": "code",
   "execution_count": 35,
   "metadata": {},
   "outputs": [],
   "source": [
    "#makign a copy of the df as to not mess up the orignial one\n",
    "df_copy = df.copy()\n",
    "#creating new column with an initial value of 0\n",
    "df_copy['award'] = 0\n",
    "#changing the yes and no's in the columns described above to either a 1 or 0 to make it easier to sum into the award column\n",
    "df_copy['best_pic_nom'] = df_copy['best_pic_nom'].apply(lambda x:1 if x == 'yes' else 0)\n",
    "df_copy['best_pic_win'] = df_copy['best_pic_nom'].apply(lambda x:1 if x == 'yes' else 0)\n",
    "df_copy['best_actor_win'] = df_copy['best_actor_win'].apply(lambda x:1 if x == 'yes' else 0)\n",
    "df_copy['best_actress_win'] = df_copy['best_actress_win'].apply(lambda x:1 if x == 'yes' else 0)\n",
    "df_copy['best_dir_win'] = df_copy['best_dir_win'].apply(lambda x:1 if x == 'yes' else 0)"
   ]
  },
  {
   "cell_type": "code",
   "execution_count": 36,
   "metadata": {},
   "outputs": [
    {
     "data": {
      "text/html": [
       "<div>\n",
       "<style scoped>\n",
       "    .dataframe tbody tr th:only-of-type {\n",
       "        vertical-align: middle;\n",
       "    }\n",
       "\n",
       "    .dataframe tbody tr th {\n",
       "        vertical-align: top;\n",
       "    }\n",
       "\n",
       "    .dataframe thead th {\n",
       "        text-align: right;\n",
       "    }\n",
       "</style>\n",
       "<table border=\"1\" class=\"dataframe\">\n",
       "  <thead>\n",
       "    <tr style=\"text-align: right;\">\n",
       "      <th></th>\n",
       "      <th>title</th>\n",
       "      <th>title_type</th>\n",
       "      <th>genre</th>\n",
       "      <th>runtime</th>\n",
       "      <th>mpaa_rating</th>\n",
       "      <th>thtr_rel_year</th>\n",
       "      <th>thtr_rel_month</th>\n",
       "      <th>thtr_rel_day</th>\n",
       "      <th>imdb_rating</th>\n",
       "      <th>imdb_num_votes</th>\n",
       "      <th>...</th>\n",
       "      <th>best_pic_nom</th>\n",
       "      <th>best_pic_win</th>\n",
       "      <th>best_actor_win</th>\n",
       "      <th>best_actress_win</th>\n",
       "      <th>best_dir_win</th>\n",
       "      <th>top200_box</th>\n",
       "      <th>director</th>\n",
       "      <th>imdb_url</th>\n",
       "      <th>rt_url</th>\n",
       "      <th>award</th>\n",
       "    </tr>\n",
       "  </thead>\n",
       "  <tbody>\n",
       "    <tr>\n",
       "      <th>0</th>\n",
       "      <td>Filly Brown</td>\n",
       "      <td>Feature Film</td>\n",
       "      <td>Drama</td>\n",
       "      <td>80.0</td>\n",
       "      <td>R</td>\n",
       "      <td>2013.0</td>\n",
       "      <td>4.0</td>\n",
       "      <td>19.0</td>\n",
       "      <td>5.5</td>\n",
       "      <td>899</td>\n",
       "      <td>...</td>\n",
       "      <td>0</td>\n",
       "      <td>0</td>\n",
       "      <td>0</td>\n",
       "      <td>0</td>\n",
       "      <td>0</td>\n",
       "      <td>no</td>\n",
       "      <td>Michael D. Olmos</td>\n",
       "      <td>http://www.imdb.com/title/tt1869425/</td>\n",
       "      <td>//www.rottentomatoes.com/m/filly_brown_2012/</td>\n",
       "      <td>0</td>\n",
       "    </tr>\n",
       "    <tr>\n",
       "      <th>1</th>\n",
       "      <td>The Dish</td>\n",
       "      <td>Feature Film</td>\n",
       "      <td>Drama</td>\n",
       "      <td>101.0</td>\n",
       "      <td>PG-13</td>\n",
       "      <td>2001.0</td>\n",
       "      <td>3.0</td>\n",
       "      <td>14.0</td>\n",
       "      <td>7.3</td>\n",
       "      <td>12285</td>\n",
       "      <td>...</td>\n",
       "      <td>0</td>\n",
       "      <td>0</td>\n",
       "      <td>0</td>\n",
       "      <td>0</td>\n",
       "      <td>0</td>\n",
       "      <td>no</td>\n",
       "      <td>Rob Sitch</td>\n",
       "      <td>http://www.imdb.com/title/tt0205873/</td>\n",
       "      <td>//www.rottentomatoes.com/m/dish/</td>\n",
       "      <td>0</td>\n",
       "    </tr>\n",
       "    <tr>\n",
       "      <th>2</th>\n",
       "      <td>Waiting for Guffman</td>\n",
       "      <td>Feature Film</td>\n",
       "      <td>Comedy</td>\n",
       "      <td>84.0</td>\n",
       "      <td>R</td>\n",
       "      <td>1996.0</td>\n",
       "      <td>8.0</td>\n",
       "      <td>21.0</td>\n",
       "      <td>7.6</td>\n",
       "      <td>22381</td>\n",
       "      <td>...</td>\n",
       "      <td>0</td>\n",
       "      <td>0</td>\n",
       "      <td>0</td>\n",
       "      <td>0</td>\n",
       "      <td>0</td>\n",
       "      <td>no</td>\n",
       "      <td>Christopher Guest</td>\n",
       "      <td>http://www.imdb.com/title/tt0118111/</td>\n",
       "      <td>//www.rottentomatoes.com/m/waiting_for_guffman/</td>\n",
       "      <td>0</td>\n",
       "    </tr>\n",
       "    <tr>\n",
       "      <th>3</th>\n",
       "      <td>The Age of Innocence</td>\n",
       "      <td>Feature Film</td>\n",
       "      <td>Drama</td>\n",
       "      <td>139.0</td>\n",
       "      <td>PG</td>\n",
       "      <td>1993.0</td>\n",
       "      <td>10.0</td>\n",
       "      <td>1.0</td>\n",
       "      <td>7.2</td>\n",
       "      <td>35096</td>\n",
       "      <td>...</td>\n",
       "      <td>0</td>\n",
       "      <td>0</td>\n",
       "      <td>1</td>\n",
       "      <td>0</td>\n",
       "      <td>1</td>\n",
       "      <td>no</td>\n",
       "      <td>Martin Scorsese</td>\n",
       "      <td>http://www.imdb.com/title/tt0106226/</td>\n",
       "      <td>//www.rottentomatoes.com/m/age_of_innocence/</td>\n",
       "      <td>0</td>\n",
       "    </tr>\n",
       "    <tr>\n",
       "      <th>4</th>\n",
       "      <td>Malevolence</td>\n",
       "      <td>Feature Film</td>\n",
       "      <td>Horror</td>\n",
       "      <td>90.0</td>\n",
       "      <td>R</td>\n",
       "      <td>2004.0</td>\n",
       "      <td>9.0</td>\n",
       "      <td>10.0</td>\n",
       "      <td>5.1</td>\n",
       "      <td>2386</td>\n",
       "      <td>...</td>\n",
       "      <td>0</td>\n",
       "      <td>0</td>\n",
       "      <td>0</td>\n",
       "      <td>0</td>\n",
       "      <td>0</td>\n",
       "      <td>no</td>\n",
       "      <td>Stevan Mena</td>\n",
       "      <td>http://www.imdb.com/title/tt0388230/</td>\n",
       "      <td>//www.rottentomatoes.com/m/10004684-malevolence/</td>\n",
       "      <td>0</td>\n",
       "    </tr>\n",
       "  </tbody>\n",
       "</table>\n",
       "<p>5 rows × 24 columns</p>\n",
       "</div>"
      ],
      "text/plain": [
       "                  title    title_type   genre  runtime mpaa_rating  \\\n",
       "0           Filly Brown  Feature Film   Drama     80.0           R   \n",
       "1              The Dish  Feature Film   Drama    101.0       PG-13   \n",
       "2   Waiting for Guffman  Feature Film  Comedy     84.0           R   \n",
       "3  The Age of Innocence  Feature Film   Drama    139.0          PG   \n",
       "4           Malevolence  Feature Film  Horror     90.0           R   \n",
       "\n",
       "   thtr_rel_year  thtr_rel_month  thtr_rel_day  imdb_rating  imdb_num_votes  \\\n",
       "0         2013.0             4.0          19.0          5.5             899   \n",
       "1         2001.0             3.0          14.0          7.3           12285   \n",
       "2         1996.0             8.0          21.0          7.6           22381   \n",
       "3         1993.0            10.0           1.0          7.2           35096   \n",
       "4         2004.0             9.0          10.0          5.1            2386   \n",
       "\n",
       "   ... best_pic_nom  best_pic_win best_actor_win  best_actress_win  \\\n",
       "0  ...            0             0              0                 0   \n",
       "1  ...            0             0              0                 0   \n",
       "2  ...            0             0              0                 0   \n",
       "3  ...            0             0              1                 0   \n",
       "4  ...            0             0              0                 0   \n",
       "\n",
       "   best_dir_win  top200_box           director  \\\n",
       "0             0          no   Michael D. Olmos   \n",
       "1             0          no          Rob Sitch   \n",
       "2             0          no  Christopher Guest   \n",
       "3             1          no    Martin Scorsese   \n",
       "4             0          no        Stevan Mena   \n",
       "\n",
       "                               imdb_url  \\\n",
       "0  http://www.imdb.com/title/tt1869425/   \n",
       "1  http://www.imdb.com/title/tt0205873/   \n",
       "2  http://www.imdb.com/title/tt0118111/   \n",
       "3  http://www.imdb.com/title/tt0106226/   \n",
       "4  http://www.imdb.com/title/tt0388230/   \n",
       "\n",
       "                                             rt_url award  \n",
       "0      //www.rottentomatoes.com/m/filly_brown_2012/     0  \n",
       "1                  //www.rottentomatoes.com/m/dish/     0  \n",
       "2   //www.rottentomatoes.com/m/waiting_for_guffman/     0  \n",
       "3      //www.rottentomatoes.com/m/age_of_innocence/     0  \n",
       "4  //www.rottentomatoes.com/m/10004684-malevolence/     0  \n",
       "\n",
       "[5 rows x 24 columns]"
      ]
     },
     "execution_count": 36,
     "metadata": {},
     "output_type": "execute_result"
    }
   ],
   "source": [
    "df_copy.head()"
   ]
  },
  {
   "cell_type": "code",
   "execution_count": 37,
   "metadata": {
    "scrolled": true
   },
   "outputs": [
    {
     "data": {
      "text/plain": [
       "0      0\n",
       "1      0\n",
       "2      0\n",
       "3      2\n",
       "4      0\n",
       "      ..\n",
       "646    0\n",
       "647    0\n",
       "648    0\n",
       "649    0\n",
       "650    0\n",
       "Length: 651, dtype: int64"
      ]
     },
     "execution_count": 37,
     "metadata": {},
     "output_type": "execute_result"
    }
   ],
   "source": [
    "#adding up the awards into a series\n",
    "award_sum = df_copy['best_pic_nom'] + df_copy['best_pic_win'] + df_copy['best_actor_win'] + df_copy['best_actress_win'] + df_copy['best_dir_win']\n",
    "award_sum"
   ]
  },
  {
   "cell_type": "code",
   "execution_count": 38,
   "metadata": {},
   "outputs": [
    {
     "data": {
      "text/html": [
       "<div>\n",
       "<style scoped>\n",
       "    .dataframe tbody tr th:only-of-type {\n",
       "        vertical-align: middle;\n",
       "    }\n",
       "\n",
       "    .dataframe tbody tr th {\n",
       "        vertical-align: top;\n",
       "    }\n",
       "\n",
       "    .dataframe thead th {\n",
       "        text-align: right;\n",
       "    }\n",
       "</style>\n",
       "<table border=\"1\" class=\"dataframe\">\n",
       "  <thead>\n",
       "    <tr style=\"text-align: right;\">\n",
       "      <th></th>\n",
       "      <th>title</th>\n",
       "      <th>title_type</th>\n",
       "      <th>genre</th>\n",
       "      <th>runtime</th>\n",
       "      <th>mpaa_rating</th>\n",
       "      <th>thtr_rel_year</th>\n",
       "      <th>thtr_rel_month</th>\n",
       "      <th>thtr_rel_day</th>\n",
       "      <th>imdb_rating</th>\n",
       "      <th>imdb_num_votes</th>\n",
       "      <th>...</th>\n",
       "      <th>best_pic_nom</th>\n",
       "      <th>best_pic_win</th>\n",
       "      <th>best_actor_win</th>\n",
       "      <th>best_actress_win</th>\n",
       "      <th>best_dir_win</th>\n",
       "      <th>top200_box</th>\n",
       "      <th>director</th>\n",
       "      <th>imdb_url</th>\n",
       "      <th>rt_url</th>\n",
       "      <th>award</th>\n",
       "    </tr>\n",
       "  </thead>\n",
       "  <tbody>\n",
       "    <tr>\n",
       "      <th>0</th>\n",
       "      <td>Filly Brown</td>\n",
       "      <td>Feature Film</td>\n",
       "      <td>Drama</td>\n",
       "      <td>80.0</td>\n",
       "      <td>R</td>\n",
       "      <td>2013.0</td>\n",
       "      <td>4.0</td>\n",
       "      <td>19.0</td>\n",
       "      <td>5.5</td>\n",
       "      <td>899</td>\n",
       "      <td>...</td>\n",
       "      <td>0</td>\n",
       "      <td>0</td>\n",
       "      <td>0</td>\n",
       "      <td>0</td>\n",
       "      <td>0</td>\n",
       "      <td>no</td>\n",
       "      <td>Michael D. Olmos</td>\n",
       "      <td>http://www.imdb.com/title/tt1869425/</td>\n",
       "      <td>//www.rottentomatoes.com/m/filly_brown_2012/</td>\n",
       "      <td>0</td>\n",
       "    </tr>\n",
       "    <tr>\n",
       "      <th>1</th>\n",
       "      <td>The Dish</td>\n",
       "      <td>Feature Film</td>\n",
       "      <td>Drama</td>\n",
       "      <td>101.0</td>\n",
       "      <td>PG-13</td>\n",
       "      <td>2001.0</td>\n",
       "      <td>3.0</td>\n",
       "      <td>14.0</td>\n",
       "      <td>7.3</td>\n",
       "      <td>12285</td>\n",
       "      <td>...</td>\n",
       "      <td>0</td>\n",
       "      <td>0</td>\n",
       "      <td>0</td>\n",
       "      <td>0</td>\n",
       "      <td>0</td>\n",
       "      <td>no</td>\n",
       "      <td>Rob Sitch</td>\n",
       "      <td>http://www.imdb.com/title/tt0205873/</td>\n",
       "      <td>//www.rottentomatoes.com/m/dish/</td>\n",
       "      <td>0</td>\n",
       "    </tr>\n",
       "    <tr>\n",
       "      <th>2</th>\n",
       "      <td>Waiting for Guffman</td>\n",
       "      <td>Feature Film</td>\n",
       "      <td>Comedy</td>\n",
       "      <td>84.0</td>\n",
       "      <td>R</td>\n",
       "      <td>1996.0</td>\n",
       "      <td>8.0</td>\n",
       "      <td>21.0</td>\n",
       "      <td>7.6</td>\n",
       "      <td>22381</td>\n",
       "      <td>...</td>\n",
       "      <td>0</td>\n",
       "      <td>0</td>\n",
       "      <td>0</td>\n",
       "      <td>0</td>\n",
       "      <td>0</td>\n",
       "      <td>no</td>\n",
       "      <td>Christopher Guest</td>\n",
       "      <td>http://www.imdb.com/title/tt0118111/</td>\n",
       "      <td>//www.rottentomatoes.com/m/waiting_for_guffman/</td>\n",
       "      <td>0</td>\n",
       "    </tr>\n",
       "    <tr>\n",
       "      <th>3</th>\n",
       "      <td>The Age of Innocence</td>\n",
       "      <td>Feature Film</td>\n",
       "      <td>Drama</td>\n",
       "      <td>139.0</td>\n",
       "      <td>PG</td>\n",
       "      <td>1993.0</td>\n",
       "      <td>10.0</td>\n",
       "      <td>1.0</td>\n",
       "      <td>7.2</td>\n",
       "      <td>35096</td>\n",
       "      <td>...</td>\n",
       "      <td>0</td>\n",
       "      <td>0</td>\n",
       "      <td>1</td>\n",
       "      <td>0</td>\n",
       "      <td>1</td>\n",
       "      <td>no</td>\n",
       "      <td>Martin Scorsese</td>\n",
       "      <td>http://www.imdb.com/title/tt0106226/</td>\n",
       "      <td>//www.rottentomatoes.com/m/age_of_innocence/</td>\n",
       "      <td>2</td>\n",
       "    </tr>\n",
       "    <tr>\n",
       "      <th>4</th>\n",
       "      <td>Malevolence</td>\n",
       "      <td>Feature Film</td>\n",
       "      <td>Horror</td>\n",
       "      <td>90.0</td>\n",
       "      <td>R</td>\n",
       "      <td>2004.0</td>\n",
       "      <td>9.0</td>\n",
       "      <td>10.0</td>\n",
       "      <td>5.1</td>\n",
       "      <td>2386</td>\n",
       "      <td>...</td>\n",
       "      <td>0</td>\n",
       "      <td>0</td>\n",
       "      <td>0</td>\n",
       "      <td>0</td>\n",
       "      <td>0</td>\n",
       "      <td>no</td>\n",
       "      <td>Stevan Mena</td>\n",
       "      <td>http://www.imdb.com/title/tt0388230/</td>\n",
       "      <td>//www.rottentomatoes.com/m/10004684-malevolence/</td>\n",
       "      <td>0</td>\n",
       "    </tr>\n",
       "  </tbody>\n",
       "</table>\n",
       "<p>5 rows × 24 columns</p>\n",
       "</div>"
      ],
      "text/plain": [
       "                  title    title_type   genre  runtime mpaa_rating  \\\n",
       "0           Filly Brown  Feature Film   Drama     80.0           R   \n",
       "1              The Dish  Feature Film   Drama    101.0       PG-13   \n",
       "2   Waiting for Guffman  Feature Film  Comedy     84.0           R   \n",
       "3  The Age of Innocence  Feature Film   Drama    139.0          PG   \n",
       "4           Malevolence  Feature Film  Horror     90.0           R   \n",
       "\n",
       "   thtr_rel_year  thtr_rel_month  thtr_rel_day  imdb_rating  imdb_num_votes  \\\n",
       "0         2013.0             4.0          19.0          5.5             899   \n",
       "1         2001.0             3.0          14.0          7.3           12285   \n",
       "2         1996.0             8.0          21.0          7.6           22381   \n",
       "3         1993.0            10.0           1.0          7.2           35096   \n",
       "4         2004.0             9.0          10.0          5.1            2386   \n",
       "\n",
       "   ... best_pic_nom  best_pic_win best_actor_win  best_actress_win  \\\n",
       "0  ...            0             0              0                 0   \n",
       "1  ...            0             0              0                 0   \n",
       "2  ...            0             0              0                 0   \n",
       "3  ...            0             0              1                 0   \n",
       "4  ...            0             0              0                 0   \n",
       "\n",
       "   best_dir_win  top200_box           director  \\\n",
       "0             0          no   Michael D. Olmos   \n",
       "1             0          no          Rob Sitch   \n",
       "2             0          no  Christopher Guest   \n",
       "3             1          no    Martin Scorsese   \n",
       "4             0          no        Stevan Mena   \n",
       "\n",
       "                               imdb_url  \\\n",
       "0  http://www.imdb.com/title/tt1869425/   \n",
       "1  http://www.imdb.com/title/tt0205873/   \n",
       "2  http://www.imdb.com/title/tt0118111/   \n",
       "3  http://www.imdb.com/title/tt0106226/   \n",
       "4  http://www.imdb.com/title/tt0388230/   \n",
       "\n",
       "                                             rt_url award  \n",
       "0      //www.rottentomatoes.com/m/filly_brown_2012/     0  \n",
       "1                  //www.rottentomatoes.com/m/dish/     0  \n",
       "2   //www.rottentomatoes.com/m/waiting_for_guffman/     0  \n",
       "3      //www.rottentomatoes.com/m/age_of_innocence/     2  \n",
       "4  //www.rottentomatoes.com/m/10004684-malevolence/     0  \n",
       "\n",
       "[5 rows x 24 columns]"
      ]
     },
     "execution_count": 38,
     "metadata": {},
     "output_type": "execute_result"
    }
   ],
   "source": [
    "#assigning the series created above into the award column\n",
    "df_copy['award'] = award_sum\n",
    "df_copy.head()"
   ]
  },
  {
   "cell_type": "markdown",
   "metadata": {},
   "source": [
    "### Getting the total count of each award value and obtaining the number of top200 box office hits in each category"
   ]
  },
  {
   "cell_type": "code",
   "execution_count": 39,
   "metadata": {},
   "outputs": [
    {
     "data": {
      "text/plain": [
       "0    475\n",
       "1    134\n",
       "2     31\n",
       "3     10\n",
       "4      1\n",
       "Name: award, dtype: int64"
      ]
     },
     "execution_count": 39,
     "metadata": {},
     "output_type": "execute_result"
    }
   ],
   "source": [
    "df_copy['award'].value_counts()"
   ]
  },
  {
   "cell_type": "code",
   "execution_count": 40,
   "metadata": {},
   "outputs": [
    {
     "data": {
      "text/plain": [
       "no     466\n",
       "yes      9\n",
       "Name: top200_box, dtype: int64"
      ]
     },
     "execution_count": 40,
     "metadata": {},
     "output_type": "execute_result"
    }
   ],
   "source": [
    "df_copy['top200_box'][df_copy['award'] == 0].value_counts()"
   ]
  },
  {
   "cell_type": "code",
   "execution_count": 41,
   "metadata": {},
   "outputs": [
    {
     "data": {
      "text/plain": [
       "no     131\n",
       "yes      3\n",
       "Name: top200_box, dtype: int64"
      ]
     },
     "execution_count": 41,
     "metadata": {},
     "output_type": "execute_result"
    }
   ],
   "source": [
    "df_copy['top200_box'][df_copy['award'] == 1].value_counts()"
   ]
  },
  {
   "cell_type": "code",
   "execution_count": 42,
   "metadata": {},
   "outputs": [
    {
     "data": {
      "text/plain": [
       "no    31\n",
       "Name: top200_box, dtype: int64"
      ]
     },
     "execution_count": 42,
     "metadata": {},
     "output_type": "execute_result"
    }
   ],
   "source": [
    "df_copy['top200_box'][df_copy['award'] == 2].value_counts()"
   ]
  },
  {
   "cell_type": "code",
   "execution_count": 43,
   "metadata": {},
   "outputs": [
    {
     "data": {
      "text/plain": [
       "no     7\n",
       "yes    3\n",
       "Name: top200_box, dtype: int64"
      ]
     },
     "execution_count": 43,
     "metadata": {},
     "output_type": "execute_result"
    }
   ],
   "source": [
    "df_copy['top200_box'][df_copy['award'] == 3].value_counts()"
   ]
  },
  {
   "cell_type": "code",
   "execution_count": 44,
   "metadata": {},
   "outputs": [],
   "source": [
    "#creating new df to represent the values found above\n",
    "awards_top200_box = pd.DataFrame()\n",
    "award_values = [0, 1, 2, 3]\n",
    "top200_box = [9, 3, 2, 1]\n",
    "totals = [480, 138, 29, 4]\n",
    "awards_top200_box['award_values'] = award_values\n",
    "awards_top200_box['top200_count'] = top200_box\n",
    "awards_top200_box['total'] = totals\n",
    "#probability of being in top200 box office based off award_values\n",
    "awards_top200_box['Probability of top200'] = round((awards_top200_box['top200_count'] / awards_top200_box['total']) * 100, 2)"
   ]
  },
  {
   "cell_type": "code",
   "execution_count": 45,
   "metadata": {},
   "outputs": [
    {
     "data": {
      "text/html": [
       "<div>\n",
       "<style scoped>\n",
       "    .dataframe tbody tr th:only-of-type {\n",
       "        vertical-align: middle;\n",
       "    }\n",
       "\n",
       "    .dataframe tbody tr th {\n",
       "        vertical-align: top;\n",
       "    }\n",
       "\n",
       "    .dataframe thead th {\n",
       "        text-align: right;\n",
       "    }\n",
       "</style>\n",
       "<table border=\"1\" class=\"dataframe\">\n",
       "  <thead>\n",
       "    <tr style=\"text-align: right;\">\n",
       "      <th></th>\n",
       "      <th>award_values</th>\n",
       "      <th>top200_count</th>\n",
       "      <th>total</th>\n",
       "      <th>Probability of top200</th>\n",
       "    </tr>\n",
       "  </thead>\n",
       "  <tbody>\n",
       "    <tr>\n",
       "      <th>0</th>\n",
       "      <td>0</td>\n",
       "      <td>9</td>\n",
       "      <td>480</td>\n",
       "      <td>1.88</td>\n",
       "    </tr>\n",
       "    <tr>\n",
       "      <th>1</th>\n",
       "      <td>1</td>\n",
       "      <td>3</td>\n",
       "      <td>138</td>\n",
       "      <td>2.17</td>\n",
       "    </tr>\n",
       "    <tr>\n",
       "      <th>2</th>\n",
       "      <td>2</td>\n",
       "      <td>2</td>\n",
       "      <td>29</td>\n",
       "      <td>6.90</td>\n",
       "    </tr>\n",
       "    <tr>\n",
       "      <th>3</th>\n",
       "      <td>3</td>\n",
       "      <td>1</td>\n",
       "      <td>4</td>\n",
       "      <td>25.00</td>\n",
       "    </tr>\n",
       "  </tbody>\n",
       "</table>\n",
       "</div>"
      ],
      "text/plain": [
       "   award_values  top200_count  total  Probability of top200\n",
       "0             0             9    480                   1.88\n",
       "1             1             3    138                   2.17\n",
       "2             2             2     29                   6.90\n",
       "3             3             1      4                  25.00"
      ]
     },
     "execution_count": 45,
     "metadata": {},
     "output_type": "execute_result"
    }
   ],
   "source": [
    "awards_top200_box"
   ]
  },
  {
   "cell_type": "code",
   "execution_count": 46,
   "metadata": {},
   "outputs": [
    {
     "data": {
      "text/plain": [
       "Text(0.5, 1.0, 'Probability of Award Value Achieving Top 200 Box Office')"
      ]
     },
     "execution_count": 46,
     "metadata": {},
     "output_type": "execute_result"
    },
    {
     "data": {
      "image/png": "[encoded data removed]",
      "text/plain": [
       "<Figure size 432x288 with 1 Axes>"
      ]
     },
     "metadata": {},
     "output_type": "display_data"
    }
   ],
   "source": [
    "pcts = [(str(pct)+'%') for pct in awards_top200_box[\"Probability of top200\"]]\n",
    "\n",
    "sb.set_theme(style='whitegrid')\n",
    "sb.barplot(x = awards_top200_box[\"award_values\"], y = awards_top200_box[\"Probability of top200\"], palette=\"Blues_d\").set_title(\"Probability of Award Value Achieving Top 200 Box Office\")"
   ]
  },
  {
   "cell_type": "markdown",
   "metadata": {},
   "source": [
    "As expected, as the number of award value goes up, so does the probability of being in the top 200 box office. The award number with the most movies in the top 200 is 0. You would think that it would be 3 but this is due to the sheer amount of movies with 0 award value and 3 award value. 0 award value has a total of 480 movies while 3 has only 4, this means that if you have an award value of 3 then your probability of being in top 200 is 25% which is much higher than the other 3 categories. Movie directors and other professionals in the movie industry could use this information to achieve top 200 box office status by focusing on the accumulation of individual awards instead of a macro view of trying to maximize profit to achieve top 200. Another option for movie professionals would be to pump out many lower quality films and hope that one gets top 200. This is backed by the fact that 9 movies in the 0 award value category achieved top 200 despite lacking awards. "
   ]
  }
 ],
 "metadata": {
  "kernelspec": {
   "display_name": "Python 3",
   "language": "python",
   "name": "python3"
  },
  "language_info": {
   "codemirror_mode": {
    "name": "ipython",
    "version": 3
   },
   "file_extension": ".py",
   "mimetype": "text/x-python",
   "name": "python",
   "nbconvert_exporter": "python",
   "pygments_lexer": "ipython3",
   "version": "3.7.9"
  },
  "toc": {
   "base_numbering": "",
   "nav_menu": {},
   "number_sections": false,
   "sideBar": false,
   "skip_h1_title": true,
   "title_cell": "Table of Contents",
   "title_sidebar": "Contents",
   "toc_cell": true,
   "toc_position": {},
   "toc_section_display": false,
   "toc_window_display": false
  }
 },
 "nbformat": 4,
 "nbformat_minor": 4
}
