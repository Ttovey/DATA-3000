{
 "cells": [
  {
   "cell_type": "markdown",
   "metadata": {},
   "source": [
    "<h1> Assignment 1: Functions, Dictionaries, and DataFrames</h1>\n",
    "DATA 3000 202102 (Cofer)"
   ]
  },
  {
   "cell_type": "markdown",
   "metadata": {
    "toc": true
   },
   "source": [
    "<h1>Table of Contents<span class=\"tocSkip\"></span></h1>\n",
    "<div class=\"toc\"><ul class=\"toc-item\"><li><span><a href=\"#Problem-1-(8-points)\" data-toc-modified-id=\"Problem-1-(8-points)-0\">Problem 1 (8 points)</a></span></li><li><span><a href=\"#Problem-2-(4-points-each-subpart)\" data-toc-modified-id=\"Problem-2-(4-points-each-subpart)-1\">Problem 2 (4 points each subpart)</a></span><ul class=\"toc-item\"><li><span><a href=\"#Problem-2a\" data-toc-modified-id=\"Problem-2a-1.1\">Problem 2a</a></span></li><li><span><a href=\"#Problem-2b\" data-toc-modified-id=\"Problem-2b-1.2\">Problem 2b</a></span></li><li><span><a href=\"#Problem-2c\" data-toc-modified-id=\"Problem-2c-1.3\">Problem 2c</a></span></li><li><span><a href=\"#Problem-2d\" data-toc-modified-id=\"Problem-2d-1.4\">Problem 2d</a></span></li><li><span><a href=\"#Problem-2e\" data-toc-modified-id=\"Problem-2e-1.5\">Problem 2e</a></span></li></ul></li><li><span><a href=\"#Problem-3-(4-points-each-subpart)\" data-toc-modified-id=\"Problem-3-(4-points-each-subpart)-2\">Problem 3 (4 points each subpart)</a></span><ul class=\"toc-item\"><li><span><a href=\"#Problem-3a\" data-toc-modified-id=\"Problem-3a-2.1\">Problem 3a</a></span></li><li><span><a href=\"#Problem-3b\" data-toc-modified-id=\"Problem-3b-2.2\">Problem 3b</a></span></li><li><span><a href=\"#Problem-3c\" data-toc-modified-id=\"Problem-3c-2.3\">Problem 3c</a></span></li></ul></li></ul></div>"
   ]
  },
  {
   "cell_type": "markdown",
   "metadata": {},
   "source": [
    "<b><hr>\n",
    "<p>In this assignment, you will practice writing functions, creating and searching python dictionaries, and creating and searching pandas DataFrames. Hopefully, you will come away with a healthy appreciation for the pandas library. The assignment is worth a total of 40 points.</p>\n",
    "\n",
    "<span style=\"color:red\"> Remember to \"Restart & Run All\" from the `Kernel` menu before submitting. This will make sure your code runs as you expect it to, and it will include all output cells in your submission, which I require.</span> You may input additional cells into your solutions as necessary.\n",
    "<hr></b>"
   ]
  },
  {
   "cell_type": "markdown",
   "metadata": {},
   "source": [
    "<div class=\"alert alert-block alert-info\">\n",
    "\n",
    "### Problem 1 (8 points)\n",
    "\n",
    "**Task:** Write a function called `pw_test` to test whether a user-entered password is good. Good passwords:\n",
    "    * Include at least one a lowercase letter\n",
    "    * Include at least one uppercase letter\n",
    "    * Include at least one number\n",
    "    * Be at least 7 characters long\n",
    "   \n",
    "**Requirements:**\n",
    "   * Your password should take a user-inputted password attempt as a parameter (included in starter code below).\n",
    "   * If a password attempt fails any of the conditions, your function should print \"Please Try Again. Your password must\" plus a string indicating at least one problem with the password attempt. \n",
    "   * If a password attempt meets all of the conditions, your function should print \"Great password!\" \n",
    "   *\n",
    "More sophisticated outputs may earn you bonus points.\n",
    "\n",
    "Run your function and include output for the following test passwords. (But be careful. I will test your function on other password attempts as well.)\n",
    "</div>"
   ]
  },
  {
   "cell_type": "code",
   "execution_count": 1,
   "metadata": {},
   "outputs": [
    {
     "name": "stdout",
     "output_type": "stream",
     "text": [
      "Create a password: hello123\n",
      "Please try again, your password *hello123* must:\n",
      "     and have an upper case letter.\n",
      " \n",
      "Create a password: Hello123\n",
      "Great password!\n"
     ]
    }
   ],
   "source": [
    "def pw_test(): \n",
    "    pwd = True\n",
    "    \n",
    "    while pwd:\n",
    "        lower = False\n",
    "        upper = False\n",
    "        num = False\n",
    "        l = False\n",
    "        \n",
    "        missing = []\n",
    "        a = input('Create a password: ') #complete this function definition.\n",
    "            \n",
    "        for char in a:\n",
    "            if char.isupper():\n",
    "                upper = True\n",
    "            if char.islower():\n",
    "                lower = True\n",
    "            if char in ['1', '2', '3', '4', '5', '6', '7', '8', '9', '0']:\n",
    "                num = True\n",
    "                \n",
    "        if len(a) >= 7:\n",
    "            l = True\n",
    "        else:\n",
    "            if 7 - len(a) == 1:\n",
    "                missing.append('have at least 1 more character')\n",
    "            else:\n",
    "                missing.append('have at least {} more characters'.format(7 - len(a)))\n",
    "        \n",
    "        if not lower:\n",
    "            missing.append('have a lower case letter')\n",
    "        \n",
    "        if not upper:\n",
    "            missing.append('have an upper case letter')\n",
    "            \n",
    "        if not num:\n",
    "            missing.append('have a number')\n",
    "            \n",
    "        if lower and upper and num and l:\n",
    "            pwd = False\n",
    "            print('Great password!')\n",
    "            break\n",
    "            \n",
    "        print('Please try again, your password *{}* must:'.format(a))   \n",
    "        for miss in missing:\n",
    "            if miss != missing[-1]:\n",
    "                print('     ' + miss + ',')\n",
    "            else:\n",
    "                print('     and ' + miss + '.')\n",
    "        print(' ')\n",
    "    \n",
    "    \n",
    "    \n",
    "        \n",
    "        \n",
    "        \n",
    "        \n",
    "                \n",
    "                \n",
    "pw_test()"
   ]
  },
  {
   "cell_type": "markdown",
   "metadata": {},
   "source": [
    "<div class=\"alert alert-block alert-info\">\n",
    "\n",
    "### Problem 2 (4 points each subpart)\n",
    "\n",
    "**Description and Goal:** The lists below hold (fake) employee record data. An employee's data corresponds to the list of items from each list at a given index. For example, employee 1 is Betty Keuhner. Her id number is 1466. She has 28 years of service with the company. She works in the marketing department and she makes \\$75,000 a year. By following the subproblems below, you will create a python dictionary that holds employee records.\n",
    "</div>"
   ]
  },
  {
   "cell_type": "code",
   "execution_count": 2,
   "metadata": {},
   "outputs": [],
   "source": [
    "first_names = ['Betty', 'John', 'Benton', 'Claudia', 'Susy', 'Lizbeth', 'Kimberly', 'Alan', 'Nick', 'Markus']\n",
    "last_names = ['Kuehner', 'Eades', 'Nord', 'Rutter', 'Buchman', 'Ennis', 'Tweed', 'Marden', 'Oldenburg', 'Torres']  \n",
    "id_number = [1466, 7874, 4821, 4192, 3865, 6692, 4273, 7781, 3597, 1608]\n",
    "years_service = [28, 22, 3, 6, 12, 5, 10, 1, 14, 20] \n",
    "department = ['Marketing', 'Sales', 'Sales', 'IT', 'HR', 'Marketing', 'Finance', 'Sales', 'Sales', 'IT']\n",
    "annual_salary = [75000, 52000, 35000, 68000, 40000, 60000, 95000, 30000, 45000, 85000]                 "
   ]
  },
  {
   "cell_type": "markdown",
   "metadata": {},
   "source": [
    "<div class=\"alert alert-block alert-info\">      \n",
    "\n",
    "#### Problem 2a\n",
    "\n",
    "**Task:** Create a new list called `names` from the two existing name lists `first_names` and `last names` such that `names` is a list of employee name strings of the form ```Last-Name, First-Name```\n",
    " \n",
    "**Requirements:** Create your `names` list using a `for` loop or list comprehension, and string concatenation. Print your new list to be sure it worked.\n",
    "\n",
    "\n",
    "*Note*: Your code can be written in two lines with a `for` loop or one line with list comprehension.\n",
    "</div>"
   ]
  },
  {
   "cell_type": "code",
   "execution_count": 3,
   "metadata": {},
   "outputs": [
    {
     "name": "stdout",
     "output_type": "stream",
     "text": [
      "['Betty Kuehner', 'John Eades', 'Benton Nord', 'Claudia Rutter', 'Susy Buchman', 'Lizbeth Ennis', 'Kimberly Tweed', 'Alan Marden', 'Nick Oldenburg', 'Markus Torres']\n"
     ]
    }
   ],
   "source": [
    "#Your answer to 2a here\n",
    "\n",
    "#list comprehension\n",
    "names = [x + ' ' + y for x, y in zip(first_names, last_names)]\n",
    "\n",
    "#for loop\n",
    "# names = []\n",
    "# for i in range(len(first_names)):\n",
    "#     names.append(first_names[i] + ' ' + last_names[i])\n",
    "    \n",
    "print(names)"
   ]
  },
  {
   "cell_type": "markdown",
   "metadata": {},
   "source": [
    "<div class=\"alert alert-block alert-warning\">\n",
    "    \n",
    "Execute the cell below to create a new list containing the lists of employee data, with the `names` list in place of the `first_names` and `last_names` lists.\n",
    "</div>"
   ]
  },
  {
   "cell_type": "code",
   "execution_count": 4,
   "metadata": {},
   "outputs": [],
   "source": [
    "data_item = [names,id_number,years_service,department,annual_salary]"
   ]
  },
  {
   "cell_type": "markdown",
   "metadata": {},
   "source": [
    "<div class=\"alert alert-block alert-warning\">\n",
    "Execute the cell below to initialize a list of lists to contain employee records.\n",
    "</div>"
   ]
  },
  {
   "cell_type": "code",
   "execution_count": 5,
   "metadata": {},
   "outputs": [],
   "source": [
    "employees = [[] for i in range(len(names))] #list of employee records"
   ]
  },
  {
   "cell_type": "markdown",
   "metadata": {},
   "source": [
    "<div class=\"alert alert-block alert-info\">\n",
    "\n",
    "#### Problem 2b \n",
    "\n",
    "**Task:** The `employees` list above is an empty list of lists. Fill it with employee records. Each record (list inside the `employee` list) should contain an employee's full name, id number, years of service, department, and annual_salary (in that order).\n",
    " \n",
    "**Requirements:** Write two *nested* `for` loops to fill the `employees` list with employee records. When done, use a `for` loop to print `employees` so that one record is printed per line in the output. \n",
    "\n",
    "*Hint*: The outside loop should loop `N` times (where `N` is `len(names)`, the number of employees). For each iteration, the inside loop should iterate over the items in the `data_item` list to create the corresponding employee record. Ideally, your solution should have exactly three lines of code.\n",
    "    \n",
    "</div>"
   ]
  },
  {
   "cell_type": "code",
   "execution_count": 6,
   "metadata": {},
   "outputs": [
    {
     "name": "stdout",
     "output_type": "stream",
     "text": [
      "['Betty Kuehner', 1466, 28, 'Marketing', 75000]\n",
      "['John Eades', 7874, 22, 'Sales', 52000]\n",
      "['Benton Nord', 4821, 3, 'Sales', 35000]\n",
      "['Claudia Rutter', 4192, 6, 'IT', 68000]\n",
      "['Susy Buchman', 3865, 12, 'HR', 40000]\n",
      "['Lizbeth Ennis', 6692, 5, 'Marketing', 60000]\n",
      "['Kimberly Tweed', 4273, 10, 'Finance', 95000]\n",
      "['Alan Marden', 7781, 1, 'Sales', 30000]\n",
      "['Nick Oldenburg', 3597, 14, 'Sales', 45000]\n",
      "['Markus Torres', 1608, 20, 'IT', 85000]\n"
     ]
    }
   ],
   "source": [
    "#Your answer to 2b here\n",
    "for i in range(len(employees)):\n",
    "    for item in data_item:\n",
    "        employees[i].append(item[i])\n",
    "\n",
    "for employee in employees:\n",
    "    print(employee)"
   ]
  },
  {
   "cell_type": "markdown",
   "metadata": {},
   "source": [
    "<div class=\"alert alert-block alert-warning\">\n",
    "    \n",
    "Execute the cell below to create a new `keys` list containing string descriptors for each of the different data items recorded for each employee.\n",
    "</div>"
   ]
  },
  {
   "cell_type": "code",
   "execution_count": 7,
   "metadata": {},
   "outputs": [],
   "source": [
    "keys = ['Name', 'ID', 'YOS', 'Department', 'Salary']"
   ]
  },
  {
   "cell_type": "markdown",
   "metadata": {},
   "source": [
    "<div class=\"alert alert-block alert-warning\">\n",
    "Execute the cells below to initialize a list of employee record descriptors.\n",
    "</div>"
   ]
  },
  {
   "cell_type": "code",
   "execution_count": 8,
   "metadata": {},
   "outputs": [],
   "source": [
    "record_title = []"
   ]
  },
  {
   "cell_type": "code",
   "execution_count": 9,
   "metadata": {},
   "outputs": [],
   "source": [
    "for i in range(len(names)): \n",
    "    record_title.append('emp'+str(i+1))"
   ]
  },
  {
   "cell_type": "code",
   "execution_count": 10,
   "metadata": {},
   "outputs": [
    {
     "name": "stdout",
     "output_type": "stream",
     "text": [
      "['emp1', 'emp2', 'emp3', 'emp4', 'emp5', 'emp6', 'emp7', 'emp8', 'emp9', 'emp10']\n"
     ]
    }
   ],
   "source": [
    "print(record_title)"
   ]
  },
  {
   "cell_type": "markdown",
   "metadata": {},
   "source": [
    "<div class=\"alert alert-block alert-info\">\n",
    "\n",
    "#### Problem 2c \n",
    "\n",
    "**Task:** Create a list of employee records called `records`, where each record is a dictionary formed from `keys` and the individual lists in `employees`.\n",
    "\n",
    "**Requirements:** For each employee record in `employees`, create a corresponding dictionary using `keys`. Then store these dictionaries in a list called `records`. When done, use a `for` loop to print each item in `records` one line at a time. Your code for creating `records` should use a `for` loop, the `append()` method for lists, and the `zip` function. (Note: Without the printing, this can be done in two lines of code.)\n",
    "    \n",
    "</div>"
   ]
  },
  {
   "cell_type": "code",
   "execution_count": 11,
   "metadata": {},
   "outputs": [
    {
     "name": "stdout",
     "output_type": "stream",
     "text": [
      "{'Name': 'Betty Kuehner', 'ID': 1466, 'YOS': 28, 'Department': 'Marketing', 'Salary': 75000}\n",
      "{'Name': 'John Eades', 'ID': 7874, 'YOS': 22, 'Department': 'Sales', 'Salary': 52000}\n",
      "{'Name': 'Benton Nord', 'ID': 4821, 'YOS': 3, 'Department': 'Sales', 'Salary': 35000}\n",
      "{'Name': 'Claudia Rutter', 'ID': 4192, 'YOS': 6, 'Department': 'IT', 'Salary': 68000}\n",
      "{'Name': 'Susy Buchman', 'ID': 3865, 'YOS': 12, 'Department': 'HR', 'Salary': 40000}\n",
      "{'Name': 'Lizbeth Ennis', 'ID': 6692, 'YOS': 5, 'Department': 'Marketing', 'Salary': 60000}\n",
      "{'Name': 'Kimberly Tweed', 'ID': 4273, 'YOS': 10, 'Department': 'Finance', 'Salary': 95000}\n",
      "{'Name': 'Alan Marden', 'ID': 7781, 'YOS': 1, 'Department': 'Sales', 'Salary': 30000}\n",
      "{'Name': 'Nick Oldenburg', 'ID': 3597, 'YOS': 14, 'Department': 'Sales', 'Salary': 45000}\n",
      "{'Name': 'Markus Torres', 'ID': 1608, 'YOS': 20, 'Department': 'IT', 'Salary': 85000}\n"
     ]
    }
   ],
   "source": [
    "# Your answer to 2c here\n",
    "records = []\n",
    "\n",
    "for employee in employees:\n",
    "    records.append({keys[i]: employee[i] for i in range(len(keys))})\n",
    "\n",
    "for record in records:\n",
    "    print(record)"
   ]
  },
  {
   "cell_type": "markdown",
   "metadata": {},
   "source": [
    "<div class=\"alert alert-block alert-info\">\n",
    "\n",
    "#### Problem 2d \n",
    "**Task:** Create a dictionary called `employee_dict` using the `record_title` and `records` lists.\n",
    "\n",
    "**Requirements:** Use the `zip` function.\n",
    "    \n",
    "</div>"
   ]
  },
  {
   "cell_type": "code",
   "execution_count": 12,
   "metadata": {},
   "outputs": [
    {
     "data": {
      "text/plain": [
       "{'emp1': {'Name': 'Betty Kuehner',\n",
       "  'ID': 1466,\n",
       "  'YOS': 28,\n",
       "  'Department': 'Marketing',\n",
       "  'Salary': 75000},\n",
       " 'emp2': {'Name': 'John Eades',\n",
       "  'ID': 7874,\n",
       "  'YOS': 22,\n",
       "  'Department': 'Sales',\n",
       "  'Salary': 52000},\n",
       " 'emp3': {'Name': 'Benton Nord',\n",
       "  'ID': 4821,\n",
       "  'YOS': 3,\n",
       "  'Department': 'Sales',\n",
       "  'Salary': 35000},\n",
       " 'emp4': {'Name': 'Claudia Rutter',\n",
       "  'ID': 4192,\n",
       "  'YOS': 6,\n",
       "  'Department': 'IT',\n",
       "  'Salary': 68000},\n",
       " 'emp5': {'Name': 'Susy Buchman',\n",
       "  'ID': 3865,\n",
       "  'YOS': 12,\n",
       "  'Department': 'HR',\n",
       "  'Salary': 40000},\n",
       " 'emp6': {'Name': 'Lizbeth Ennis',\n",
       "  'ID': 6692,\n",
       "  'YOS': 5,\n",
       "  'Department': 'Marketing',\n",
       "  'Salary': 60000},\n",
       " 'emp7': {'Name': 'Kimberly Tweed',\n",
       "  'ID': 4273,\n",
       "  'YOS': 10,\n",
       "  'Department': 'Finance',\n",
       "  'Salary': 95000},\n",
       " 'emp8': {'Name': 'Alan Marden',\n",
       "  'ID': 7781,\n",
       "  'YOS': 1,\n",
       "  'Department': 'Sales',\n",
       "  'Salary': 30000},\n",
       " 'emp9': {'Name': 'Nick Oldenburg',\n",
       "  'ID': 3597,\n",
       "  'YOS': 14,\n",
       "  'Department': 'Sales',\n",
       "  'Salary': 45000},\n",
       " 'emp10': {'Name': 'Markus Torres',\n",
       "  'ID': 1608,\n",
       "  'YOS': 20,\n",
       "  'Department': 'IT',\n",
       "  'Salary': 85000}}"
      ]
     },
     "execution_count": 12,
     "metadata": {},
     "output_type": "execute_result"
    }
   ],
   "source": [
    "# Your answer to 2d here\n",
    "employee_dict = {}\n",
    "\n",
    "for i in range(len(record_title)):\n",
    "    employee_dict[record_title[i]] = records[i]\n",
    "    \n",
    "   \n",
    "employee_dict"
   ]
  },
  {
   "cell_type": "markdown",
   "metadata": {},
   "source": [
    "<div class=\"alert alert-block alert-warning\">\n",
    "\n",
    "Execute the cells below to print the `employee_dict`.\n",
    "</div>"
   ]
  },
  {
   "cell_type": "code",
   "execution_count": 13,
   "metadata": {},
   "outputs": [
    {
     "name": "stdout",
     "output_type": "stream",
     "text": [
      "emp1 {'Name': 'Betty Kuehner', 'ID': 1466, 'YOS': 28, 'Department': 'Marketing', 'Salary': 75000}\n",
      "emp2 {'Name': 'John Eades', 'ID': 7874, 'YOS': 22, 'Department': 'Sales', 'Salary': 52000}\n",
      "emp3 {'Name': 'Benton Nord', 'ID': 4821, 'YOS': 3, 'Department': 'Sales', 'Salary': 35000}\n",
      "emp4 {'Name': 'Claudia Rutter', 'ID': 4192, 'YOS': 6, 'Department': 'IT', 'Salary': 68000}\n",
      "emp5 {'Name': 'Susy Buchman', 'ID': 3865, 'YOS': 12, 'Department': 'HR', 'Salary': 40000}\n",
      "emp6 {'Name': 'Lizbeth Ennis', 'ID': 6692, 'YOS': 5, 'Department': 'Marketing', 'Salary': 60000}\n",
      "emp7 {'Name': 'Kimberly Tweed', 'ID': 4273, 'YOS': 10, 'Department': 'Finance', 'Salary': 95000}\n",
      "emp8 {'Name': 'Alan Marden', 'ID': 7781, 'YOS': 1, 'Department': 'Sales', 'Salary': 30000}\n",
      "emp9 {'Name': 'Nick Oldenburg', 'ID': 3597, 'YOS': 14, 'Department': 'Sales', 'Salary': 45000}\n",
      "emp10 {'Name': 'Markus Torres', 'ID': 1608, 'YOS': 20, 'Department': 'IT', 'Salary': 85000}\n"
     ]
    }
   ],
   "source": [
    "to_print = [print(key, value) for key, value in employee_dict.items()]    "
   ]
  },
  {
   "cell_type": "markdown",
   "metadata": {},
   "source": [
    "<div class=\"alert alert-block alert-warning\">\n",
    "\n",
    "Execute the cell below to see one way of using dictionary comprehension to search employee_dict and display only the employee `Name` and `YOS` for all employees with 5 or more years of service.\n",
    "</div>"
   ]
  },
  {
   "cell_type": "code",
   "execution_count": 14,
   "metadata": {},
   "outputs": [
    {
     "data": {
      "text/plain": [
       "{'Betty Kuehner': 28,\n",
       " 'John Eades': 22,\n",
       " 'Claudia Rutter': 6,\n",
       " 'Susy Buchman': 12,\n",
       " 'Lizbeth Ennis': 5,\n",
       " 'Kimberly Tweed': 10,\n",
       " 'Nick Oldenburg': 14,\n",
       " 'Markus Torres': 20}"
      ]
     },
     "execution_count": 14,
     "metadata": {},
     "output_type": "execute_result"
    }
   ],
   "source": [
    "#all employees with more than 5 years of service\n",
    "{employee_dict[key]['Name']:employee_dict[key]['YOS'] for key,val in employee_dict.items() if val['YOS']>=5}"
   ]
  },
  {
   "cell_type": "markdown",
   "metadata": {},
   "source": [
    "<div class=\"alert alert-block alert-info\">\n",
    "\n",
    "#### Problem 2e \n",
    "**Task:** Using the above code as a model, search employee_dict for all employees who work in sales and who make over $40,000 annually.\n",
    "\n",
    "**Requirements:** Use dictionary comprehension modeled on the example above and show only the employee `Name`, `Department`, and `Salary` for those employees who meet the criteria.\n",
    "</div>"
   ]
  },
  {
   "cell_type": "code",
   "execution_count": 15,
   "metadata": {},
   "outputs": [
    {
     "data": {
      "text/plain": [
       "{'John Eades': ['Sales', 52000], 'Nick Oldenburg': ['Sales', 45000]}"
      ]
     },
     "execution_count": 15,
     "metadata": {},
     "output_type": "execute_result"
    }
   ],
   "source": [
    "# Your answer to 2e here\n",
    "{employee_dict[key]['Name']:[employee_dict[key]['Department'], employee_dict[key]['Salary']] for key,val in employee_dict.items() if val['Department']=='Sales' and val['Salary']>40000}"
   ]
  },
  {
   "cell_type": "markdown",
   "metadata": {},
   "source": [
    "<div class=\"alert alert-block alert-info\">\n",
    "\n",
    "### Problem 3 (4 points each subpart)\n",
    "**IMPORTANT: Be sure that you have first installed the pandas package on your computer by keying `conda install pandas` in an anaconda terminal.** Then run the following cell to import pandas. \n",
    "</div>"
   ]
  },
  {
   "cell_type": "code",
   "execution_count": 16,
   "metadata": {},
   "outputs": [],
   "source": [
    "import pandas as pd"
   ]
  },
  {
   "cell_type": "markdown",
   "metadata": {},
   "source": [
    "<div class=\"alert alert-block alert-info\">\n",
    "\n",
    "#### Problem 3a \n",
    "**Task:** Create a pandas DataFrame from your `records` list. Call it `records_df`. \n",
    "\n",
    "**Requirements:** Display the resulting DataFrame using `display(records_df)` or just `records_df`.\n",
    "</div>"
   ]
  },
  {
   "cell_type": "code",
   "execution_count": 17,
   "metadata": {},
   "outputs": [
    {
     "data": {
      "text/html": [
       "<div>\n",
       "<style scoped>\n",
       "    .dataframe tbody tr th:only-of-type {\n",
       "        vertical-align: middle;\n",
       "    }\n",
       "\n",
       "    .dataframe tbody tr th {\n",
       "        vertical-align: top;\n",
       "    }\n",
       "\n",
       "    .dataframe thead th {\n",
       "        text-align: right;\n",
       "    }\n",
       "</style>\n",
       "<table border=\"1\" class=\"dataframe\">\n",
       "  <thead>\n",
       "    <tr style=\"text-align: right;\">\n",
       "      <th></th>\n",
       "      <th>Name</th>\n",
       "      <th>ID</th>\n",
       "      <th>YOS</th>\n",
       "      <th>Department</th>\n",
       "      <th>Salary</th>\n",
       "    </tr>\n",
       "  </thead>\n",
       "  <tbody>\n",
       "    <tr>\n",
       "      <th>0</th>\n",
       "      <td>Betty Kuehner</td>\n",
       "      <td>1466</td>\n",
       "      <td>28</td>\n",
       "      <td>Marketing</td>\n",
       "      <td>75000</td>\n",
       "    </tr>\n",
       "    <tr>\n",
       "      <th>1</th>\n",
       "      <td>John Eades</td>\n",
       "      <td>7874</td>\n",
       "      <td>22</td>\n",
       "      <td>Sales</td>\n",
       "      <td>52000</td>\n",
       "    </tr>\n",
       "    <tr>\n",
       "      <th>2</th>\n",
       "      <td>Benton Nord</td>\n",
       "      <td>4821</td>\n",
       "      <td>3</td>\n",
       "      <td>Sales</td>\n",
       "      <td>35000</td>\n",
       "    </tr>\n",
       "    <tr>\n",
       "      <th>3</th>\n",
       "      <td>Claudia Rutter</td>\n",
       "      <td>4192</td>\n",
       "      <td>6</td>\n",
       "      <td>IT</td>\n",
       "      <td>68000</td>\n",
       "    </tr>\n",
       "    <tr>\n",
       "      <th>4</th>\n",
       "      <td>Susy Buchman</td>\n",
       "      <td>3865</td>\n",
       "      <td>12</td>\n",
       "      <td>HR</td>\n",
       "      <td>40000</td>\n",
       "    </tr>\n",
       "    <tr>\n",
       "      <th>5</th>\n",
       "      <td>Lizbeth Ennis</td>\n",
       "      <td>6692</td>\n",
       "      <td>5</td>\n",
       "      <td>Marketing</td>\n",
       "      <td>60000</td>\n",
       "    </tr>\n",
       "    <tr>\n",
       "      <th>6</th>\n",
       "      <td>Kimberly Tweed</td>\n",
       "      <td>4273</td>\n",
       "      <td>10</td>\n",
       "      <td>Finance</td>\n",
       "      <td>95000</td>\n",
       "    </tr>\n",
       "    <tr>\n",
       "      <th>7</th>\n",
       "      <td>Alan Marden</td>\n",
       "      <td>7781</td>\n",
       "      <td>1</td>\n",
       "      <td>Sales</td>\n",
       "      <td>30000</td>\n",
       "    </tr>\n",
       "    <tr>\n",
       "      <th>8</th>\n",
       "      <td>Nick Oldenburg</td>\n",
       "      <td>3597</td>\n",
       "      <td>14</td>\n",
       "      <td>Sales</td>\n",
       "      <td>45000</td>\n",
       "    </tr>\n",
       "    <tr>\n",
       "      <th>9</th>\n",
       "      <td>Markus Torres</td>\n",
       "      <td>1608</td>\n",
       "      <td>20</td>\n",
       "      <td>IT</td>\n",
       "      <td>85000</td>\n",
       "    </tr>\n",
       "  </tbody>\n",
       "</table>\n",
       "</div>"
      ],
      "text/plain": [
       "             Name    ID  YOS Department  Salary\n",
       "0   Betty Kuehner  1466   28  Marketing   75000\n",
       "1      John Eades  7874   22      Sales   52000\n",
       "2     Benton Nord  4821    3      Sales   35000\n",
       "3  Claudia Rutter  4192    6         IT   68000\n",
       "4    Susy Buchman  3865   12         HR   40000\n",
       "5   Lizbeth Ennis  6692    5  Marketing   60000\n",
       "6  Kimberly Tweed  4273   10    Finance   95000\n",
       "7     Alan Marden  7781    1      Sales   30000\n",
       "8  Nick Oldenburg  3597   14      Sales   45000\n",
       "9   Markus Torres  1608   20         IT   85000"
      ]
     },
     "metadata": {},
     "output_type": "display_data"
    }
   ],
   "source": [
    "#Your answer to 3a here\n",
    "records_df = pd.DataFrame(records)\n",
    "display(records_df)"
   ]
  },
  {
   "cell_type": "markdown",
   "metadata": {},
   "source": [
    "<div class=\"alert alert-block alert-info\">\n",
    "\n",
    "#### Problem 3b\n",
    "**Task:** Use `.loc` to locate and display all employee records for employees with 5 or more years of service. \n",
    "\n",
    "**Requirements:** Select rows that satisfy the above conditions but just return the `Name` and `YOS` columns.\n",
    "</div>"
   ]
  },
  {
   "cell_type": "code",
   "execution_count": 18,
   "metadata": {},
   "outputs": [
    {
     "data": {
      "text/html": [
       "<div>\n",
       "<style scoped>\n",
       "    .dataframe tbody tr th:only-of-type {\n",
       "        vertical-align: middle;\n",
       "    }\n",
       "\n",
       "    .dataframe tbody tr th {\n",
       "        vertical-align: top;\n",
       "    }\n",
       "\n",
       "    .dataframe thead th {\n",
       "        text-align: right;\n",
       "    }\n",
       "</style>\n",
       "<table border=\"1\" class=\"dataframe\">\n",
       "  <thead>\n",
       "    <tr style=\"text-align: right;\">\n",
       "      <th></th>\n",
       "      <th>Name</th>\n",
       "      <th>YOS</th>\n",
       "    </tr>\n",
       "  </thead>\n",
       "  <tbody>\n",
       "    <tr>\n",
       "      <th>0</th>\n",
       "      <td>Betty Kuehner</td>\n",
       "      <td>28</td>\n",
       "    </tr>\n",
       "    <tr>\n",
       "      <th>1</th>\n",
       "      <td>John Eades</td>\n",
       "      <td>22</td>\n",
       "    </tr>\n",
       "    <tr>\n",
       "      <th>3</th>\n",
       "      <td>Claudia Rutter</td>\n",
       "      <td>6</td>\n",
       "    </tr>\n",
       "    <tr>\n",
       "      <th>4</th>\n",
       "      <td>Susy Buchman</td>\n",
       "      <td>12</td>\n",
       "    </tr>\n",
       "    <tr>\n",
       "      <th>6</th>\n",
       "      <td>Kimberly Tweed</td>\n",
       "      <td>10</td>\n",
       "    </tr>\n",
       "    <tr>\n",
       "      <th>8</th>\n",
       "      <td>Nick Oldenburg</td>\n",
       "      <td>14</td>\n",
       "    </tr>\n",
       "    <tr>\n",
       "      <th>9</th>\n",
       "      <td>Markus Torres</td>\n",
       "      <td>20</td>\n",
       "    </tr>\n",
       "  </tbody>\n",
       "</table>\n",
       "</div>"
      ],
      "text/plain": [
       "             Name  YOS\n",
       "0   Betty Kuehner   28\n",
       "1      John Eades   22\n",
       "3  Claudia Rutter    6\n",
       "4    Susy Buchman   12\n",
       "6  Kimberly Tweed   10\n",
       "8  Nick Oldenburg   14\n",
       "9   Markus Torres   20"
      ]
     },
     "execution_count": 18,
     "metadata": {},
     "output_type": "execute_result"
    }
   ],
   "source": [
    "# Your answer to 3b here\n",
    "records_df[['Name', 'YOS']].loc[records_df['YOS'] > 5]"
   ]
  },
  {
   "cell_type": "markdown",
   "metadata": {},
   "source": [
    "<div class=\"alert alert-block alert-info\">\n",
    "\n",
    "#### Problem 3c\n",
    "\n",
    "**Task:** Use `.loc` to locate and display all employee records for employees who work in sales and who make over \\$40,000 annually.\n",
    "\n",
    "**Requirements:** Select rows that satisfy the above conditions but just return the `Name`, `Department` and `Salary` columns.\n",
    "</div>"
   ]
  },
  {
   "cell_type": "code",
   "execution_count": 19,
   "metadata": {},
   "outputs": [
    {
     "data": {
      "text/html": [
       "<div>\n",
       "<style scoped>\n",
       "    .dataframe tbody tr th:only-of-type {\n",
       "        vertical-align: middle;\n",
       "    }\n",
       "\n",
       "    .dataframe tbody tr th {\n",
       "        vertical-align: top;\n",
       "    }\n",
       "\n",
       "    .dataframe thead th {\n",
       "        text-align: right;\n",
       "    }\n",
       "</style>\n",
       "<table border=\"1\" class=\"dataframe\">\n",
       "  <thead>\n",
       "    <tr style=\"text-align: right;\">\n",
       "      <th></th>\n",
       "      <th>Name</th>\n",
       "      <th>Department</th>\n",
       "      <th>Salary</th>\n",
       "    </tr>\n",
       "  </thead>\n",
       "  <tbody>\n",
       "    <tr>\n",
       "      <th>1</th>\n",
       "      <td>John Eades</td>\n",
       "      <td>Sales</td>\n",
       "      <td>52000</td>\n",
       "    </tr>\n",
       "    <tr>\n",
       "      <th>8</th>\n",
       "      <td>Nick Oldenburg</td>\n",
       "      <td>Sales</td>\n",
       "      <td>45000</td>\n",
       "    </tr>\n",
       "  </tbody>\n",
       "</table>\n",
       "</div>"
      ],
      "text/plain": [
       "             Name Department  Salary\n",
       "1      John Eades      Sales   52000\n",
       "8  Nick Oldenburg      Sales   45000"
      ]
     },
     "execution_count": 19,
     "metadata": {},
     "output_type": "execute_result"
    }
   ],
   "source": [
    "# Your answer to 3c here\n",
    "records_df[['Name', 'Department', 'Salary']].loc[(records_df['Department'] == 'Sales') & (records_df['Salary'] > 40000)]"
   ]
  },
  {
   "cell_type": "code",
   "execution_count": 20,
   "metadata": {},
   "outputs": [
    {
     "data": {
      "text/html": [
       "<div>\n",
       "<style scoped>\n",
       "    .dataframe tbody tr th:only-of-type {\n",
       "        vertical-align: middle;\n",
       "    }\n",
       "\n",
       "    .dataframe tbody tr th {\n",
       "        vertical-align: top;\n",
       "    }\n",
       "\n",
       "    .dataframe thead th {\n",
       "        text-align: right;\n",
       "    }\n",
       "</style>\n",
       "<table border=\"1\" class=\"dataframe\">\n",
       "  <thead>\n",
       "    <tr style=\"text-align: right;\">\n",
       "      <th></th>\n",
       "      <th>Name</th>\n",
       "      <th>ID</th>\n",
       "      <th>YOS</th>\n",
       "      <th>Department</th>\n",
       "      <th>Salary</th>\n",
       "    </tr>\n",
       "  </thead>\n",
       "  <tbody>\n",
       "    <tr>\n",
       "      <th>0</th>\n",
       "      <td>Betty Kuehner</td>\n",
       "      <td>1466</td>\n",
       "      <td>28</td>\n",
       "      <td>Marketing</td>\n",
       "      <td>75000</td>\n",
       "    </tr>\n",
       "    <tr>\n",
       "      <th>1</th>\n",
       "      <td>John Eades</td>\n",
       "      <td>7874</td>\n",
       "      <td>22</td>\n",
       "      <td>Sales</td>\n",
       "      <td>52000</td>\n",
       "    </tr>\n",
       "    <tr>\n",
       "      <th>2</th>\n",
       "      <td>Benton Nord</td>\n",
       "      <td>4821</td>\n",
       "      <td>3</td>\n",
       "      <td>Sales</td>\n",
       "      <td>35000</td>\n",
       "    </tr>\n",
       "    <tr>\n",
       "      <th>3</th>\n",
       "      <td>Claudia Rutter</td>\n",
       "      <td>4192</td>\n",
       "      <td>6</td>\n",
       "      <td>IT</td>\n",
       "      <td>68000</td>\n",
       "    </tr>\n",
       "    <tr>\n",
       "      <th>4</th>\n",
       "      <td>Susy Buchman</td>\n",
       "      <td>3865</td>\n",
       "      <td>12</td>\n",
       "      <td>HR</td>\n",
       "      <td>40000</td>\n",
       "    </tr>\n",
       "    <tr>\n",
       "      <th>5</th>\n",
       "      <td>Lizbeth Ennis</td>\n",
       "      <td>6692</td>\n",
       "      <td>5</td>\n",
       "      <td>Marketing</td>\n",
       "      <td>60000</td>\n",
       "    </tr>\n",
       "    <tr>\n",
       "      <th>6</th>\n",
       "      <td>Kimberly Tweed</td>\n",
       "      <td>4273</td>\n",
       "      <td>10</td>\n",
       "      <td>Finance</td>\n",
       "      <td>95000</td>\n",
       "    </tr>\n",
       "    <tr>\n",
       "      <th>7</th>\n",
       "      <td>Alan Marden</td>\n",
       "      <td>7781</td>\n",
       "      <td>1</td>\n",
       "      <td>Sales</td>\n",
       "      <td>30000</td>\n",
       "    </tr>\n",
       "    <tr>\n",
       "      <th>8</th>\n",
       "      <td>Nick Oldenburg</td>\n",
       "      <td>3597</td>\n",
       "      <td>14</td>\n",
       "      <td>Sales</td>\n",
       "      <td>45000</td>\n",
       "    </tr>\n",
       "    <tr>\n",
       "      <th>9</th>\n",
       "      <td>Markus Torres</td>\n",
       "      <td>1608</td>\n",
       "      <td>20</td>\n",
       "      <td>IT</td>\n",
       "      <td>85000</td>\n",
       "    </tr>\n",
       "  </tbody>\n",
       "</table>\n",
       "</div>"
      ],
      "text/plain": [
       "             Name    ID  YOS Department  Salary\n",
       "0   Betty Kuehner  1466   28  Marketing   75000\n",
       "1      John Eades  7874   22      Sales   52000\n",
       "2     Benton Nord  4821    3      Sales   35000\n",
       "3  Claudia Rutter  4192    6         IT   68000\n",
       "4    Susy Buchman  3865   12         HR   40000\n",
       "5   Lizbeth Ennis  6692    5  Marketing   60000\n",
       "6  Kimberly Tweed  4273   10    Finance   95000\n",
       "7     Alan Marden  7781    1      Sales   30000\n",
       "8  Nick Oldenburg  3597   14      Sales   45000\n",
       "9   Markus Torres  1608   20         IT   85000"
      ]
     },
     "execution_count": 20,
     "metadata": {},
     "output_type": "execute_result"
    }
   ],
   "source": [
    "records_df"
   ]
  },
  {
   "cell_type": "code",
   "execution_count": 27,
   "metadata": {},
   "outputs": [
    {
     "data": {
      "text/plain": [
       "Name          Betty Kuehner\n",
       "ID                     1466\n",
       "YOS                      28\n",
       "Department        Marketing\n",
       "Salary                75000\n",
       "Name: 0, dtype: object"
      ]
     },
     "execution_count": 27,
     "metadata": {},
     "output_type": "execute_result"
    }
   ],
   "source": [
    "records_df.loc[0]"
   ]
  },
  {
   "cell_type": "code",
   "execution_count": null,
   "metadata": {},
   "outputs": [],
   "source": []
  }
 ],
 "metadata": {
  "kernelspec": {
   "display_name": "Python 3",
   "language": "python",
   "name": "python3"
  },
  "language_info": {
   "codemirror_mode": {
    "name": "ipython",
    "version": 3
   },
   "file_extension": ".py",
   "mimetype": "text/x-python",
   "name": "python",
   "nbconvert_exporter": "python",
   "pygments_lexer": "ipython3",
   "version": "3.7.9"
  },
  "toc": {
   "base_numbering": "",
   "nav_menu": {},
   "number_sections": false,
   "sideBar": false,
   "skip_h1_title": true,
   "title_cell": "Table of Contents",
   "title_sidebar": "Contents",
   "toc_cell": true,
   "toc_position": {},
   "toc_section_display": false,
   "toc_window_display": false
  }
 },
 "nbformat": 4,
 "nbformat_minor": 4
}
