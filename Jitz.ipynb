{
 "cells": [
  {
   "cell_type": "code",
   "execution_count": 1,
   "metadata": {},
   "outputs": [],
   "source": [
    "import pandas as pd\n",
    "import numpy as np\n",
    "from matplotlib import pyplot as plt\n",
    "import seaborn as sns"
   ]
  },
  {
   "cell_type": "code",
   "execution_count": 2,
   "metadata": {},
   "outputs": [],
   "source": [
    "jitz = pd.read_csv(r\"C:\\Users\\tanne\\Programming\\DataSets\\All Submission Only Data - Master Submission Only Data Adult.csv\")"
   ]
  },
  {
   "cell_type": "markdown",
   "metadata": {},
   "source": [
    "<div class=\"alert alert-success\">\n",
    "    <h2>Overview</h2>\n",
    "    <p>Description: Submission only jiu jitsu data set with over 6000 entries from a variety of tournaments. Time frame of data ranges from late 2000's to 2018.</p>\n",
    "    <h2>Relevant Columns</h2>\n",
    "    <ul>\n",
    "        <li>Total Seconds: Total Match Time</li>\n",
    "        <li>Gi/No Gi: States whether match was in the gi or no gi</li>\n",
    "        <li>Belt/Skill: Gi- White, Blue, Purple, Brown, Black   No Gi- Novice, Intermediate, Advanced</li>\n",
    "        <li>Division: Men, Women, Masters and Juvenile</li>\n",
    "        <li>Submission: Submission that one that match</li>\n",
    "    </ul>\n",
    "</div>"
   ]
  },
  {
   "cell_type": "code",
   "execution_count": 3,
   "metadata": {},
   "outputs": [
    {
     "data": {
      "text/html": [
       "<div>\n",
       "<style scoped>\n",
       "    .dataframe tbody tr th:only-of-type {\n",
       "        vertical-align: middle;\n",
       "    }\n",
       "\n",
       "    .dataframe tbody tr th {\n",
       "        vertical-align: top;\n",
       "    }\n",
       "\n",
       "    .dataframe thead th {\n",
       "        text-align: right;\n",
       "    }\n",
       "</style>\n",
       "<table border=\"1\" class=\"dataframe\">\n",
       "  <thead>\n",
       "    <tr style=\"text-align: right;\">\n",
       "      <th></th>\n",
       "      <th>Hours</th>\n",
       "      <th>Minutes</th>\n",
       "      <th>Seconds</th>\n",
       "      <th>Total Seconds</th>\n",
       "      <th>Gi/No Gi</th>\n",
       "      <th>Belt/Skill</th>\n",
       "      <th>Division</th>\n",
       "      <th>submission</th>\n",
       "      <th>Unnamed: 8</th>\n",
       "    </tr>\n",
       "  </thead>\n",
       "  <tbody>\n",
       "    <tr>\n",
       "      <th>0</th>\n",
       "      <td>NaN</td>\n",
       "      <td>NaN</td>\n",
       "      <td>5.0</td>\n",
       "      <td>5.0</td>\n",
       "      <td>Gi</td>\n",
       "      <td>Blue</td>\n",
       "      <td>Men</td>\n",
       "      <td>Straight ankle</td>\n",
       "      <td>Master Average: 506 seconds</td>\n",
       "    </tr>\n",
       "    <tr>\n",
       "      <th>1</th>\n",
       "      <td>NaN</td>\n",
       "      <td>NaN</td>\n",
       "      <td>7.0</td>\n",
       "      <td>7.0</td>\n",
       "      <td>No Gi</td>\n",
       "      <td>Advanced</td>\n",
       "      <td>Men</td>\n",
       "      <td>brabo</td>\n",
       "      <td>NaN</td>\n",
       "    </tr>\n",
       "    <tr>\n",
       "      <th>2</th>\n",
       "      <td>NaN</td>\n",
       "      <td>NaN</td>\n",
       "      <td>8.0</td>\n",
       "      <td>8.0</td>\n",
       "      <td>gi</td>\n",
       "      <td>white</td>\n",
       "      <td>30+ Men</td>\n",
       "      <td>Armbar</td>\n",
       "      <td>Data through Sub Only Richmond December 2018</td>\n",
       "    </tr>\n",
       "    <tr>\n",
       "      <th>3</th>\n",
       "      <td>NaN</td>\n",
       "      <td>NaN</td>\n",
       "      <td>9.0</td>\n",
       "      <td>9.0</td>\n",
       "      <td>Gi</td>\n",
       "      <td>Brown</td>\n",
       "      <td>Men</td>\n",
       "      <td>Darce</td>\n",
       "      <td>Missing Philly 2018 Sub Only</td>\n",
       "    </tr>\n",
       "    <tr>\n",
       "      <th>4</th>\n",
       "      <td>NaN</td>\n",
       "      <td>NaN</td>\n",
       "      <td>9.0</td>\n",
       "      <td>9.0</td>\n",
       "      <td>Gi</td>\n",
       "      <td>Blue</td>\n",
       "      <td>Men</td>\n",
       "      <td>Straight ankle</td>\n",
       "      <td>NaN</td>\n",
       "    </tr>\n",
       "    <tr>\n",
       "      <th>5</th>\n",
       "      <td>NaN</td>\n",
       "      <td>NaN</td>\n",
       "      <td>9.0</td>\n",
       "      <td>9.0</td>\n",
       "      <td>No Gi</td>\n",
       "      <td>Intermediate</td>\n",
       "      <td>Men</td>\n",
       "      <td>Kimura</td>\n",
       "      <td>NaN</td>\n",
       "    </tr>\n",
       "    <tr>\n",
       "      <th>6</th>\n",
       "      <td>NaN</td>\n",
       "      <td>NaN</td>\n",
       "      <td>10.0</td>\n",
       "      <td>10.0</td>\n",
       "      <td>No Gi</td>\n",
       "      <td>Advanced</td>\n",
       "      <td>Women</td>\n",
       "      <td>triangle</td>\n",
       "      <td>NaN</td>\n",
       "    </tr>\n",
       "    <tr>\n",
       "      <th>7</th>\n",
       "      <td>NaN</td>\n",
       "      <td>NaN</td>\n",
       "      <td>11.0</td>\n",
       "      <td>11.0</td>\n",
       "      <td>No Gi</td>\n",
       "      <td>Advanced</td>\n",
       "      <td>Men</td>\n",
       "      <td>Heel hook</td>\n",
       "      <td>NaN</td>\n",
       "    </tr>\n",
       "    <tr>\n",
       "      <th>8</th>\n",
       "      <td>NaN</td>\n",
       "      <td>NaN</td>\n",
       "      <td>11.0</td>\n",
       "      <td>11.0</td>\n",
       "      <td>no gi</td>\n",
       "      <td>intermediate</td>\n",
       "      <td>men</td>\n",
       "      <td>guillotine</td>\n",
       "      <td>NaN</td>\n",
       "    </tr>\n",
       "    <tr>\n",
       "      <th>9</th>\n",
       "      <td>NaN</td>\n",
       "      <td>NaN</td>\n",
       "      <td>11.0</td>\n",
       "      <td>11.0</td>\n",
       "      <td>no gi</td>\n",
       "      <td>intermediate</td>\n",
       "      <td>men</td>\n",
       "      <td>Triangle</td>\n",
       "      <td>NaN</td>\n",
       "    </tr>\n",
       "  </tbody>\n",
       "</table>\n",
       "</div>"
      ],
      "text/plain": [
       "   Hours  Minutes  Seconds  Total Seconds Gi/No Gi    Belt/Skill Division  \\\n",
       "0    NaN      NaN      5.0            5.0       Gi          Blue      Men   \n",
       "1    NaN      NaN      7.0            7.0    No Gi      Advanced      Men   \n",
       "2    NaN      NaN      8.0            8.0       gi         white  30+ Men   \n",
       "3    NaN      NaN      9.0            9.0       Gi         Brown      Men   \n",
       "4    NaN      NaN      9.0            9.0       Gi          Blue      Men   \n",
       "5    NaN      NaN      9.0            9.0    No Gi  Intermediate      Men   \n",
       "6    NaN      NaN     10.0           10.0    No Gi      Advanced    Women   \n",
       "7    NaN      NaN     11.0           11.0    No Gi      Advanced      Men   \n",
       "8    NaN      NaN     11.0           11.0    no gi  intermediate      men   \n",
       "9    NaN      NaN     11.0           11.0    no gi  intermediate      men   \n",
       "\n",
       "       submission                                    Unnamed: 8  \n",
       "0  Straight ankle                  Master Average: 506 seconds   \n",
       "1           brabo                                           NaN  \n",
       "2          Armbar  Data through Sub Only Richmond December 2018  \n",
       "3           Darce                  Missing Philly 2018 Sub Only  \n",
       "4  Straight ankle                                           NaN  \n",
       "5          Kimura                                           NaN  \n",
       "6        triangle                                           NaN  \n",
       "7       Heel hook                                           NaN  \n",
       "8      guillotine                                           NaN  \n",
       "9        Triangle                                           NaN  "
      ]
     },
     "execution_count": 3,
     "metadata": {},
     "output_type": "execute_result"
    }
   ],
   "source": [
    "jitz.head(10)"
   ]
  },
  {
   "cell_type": "code",
   "execution_count": 4,
   "metadata": {},
   "outputs": [
    {
     "data": {
      "text/html": [
       "<div>\n",
       "<style scoped>\n",
       "    .dataframe tbody tr th:only-of-type {\n",
       "        vertical-align: middle;\n",
       "    }\n",
       "\n",
       "    .dataframe tbody tr th {\n",
       "        vertical-align: top;\n",
       "    }\n",
       "\n",
       "    .dataframe thead th {\n",
       "        text-align: right;\n",
       "    }\n",
       "</style>\n",
       "<table border=\"1\" class=\"dataframe\">\n",
       "  <thead>\n",
       "    <tr style=\"text-align: right;\">\n",
       "      <th></th>\n",
       "      <th>Hours</th>\n",
       "      <th>Minutes</th>\n",
       "      <th>Seconds</th>\n",
       "      <th>Total Seconds</th>\n",
       "    </tr>\n",
       "  </thead>\n",
       "  <tbody>\n",
       "    <tr>\n",
       "      <th>count</th>\n",
       "      <td>41.000000</td>\n",
       "      <td>5727.000000</td>\n",
       "      <td>5950.000000</td>\n",
       "      <td>6158.000000</td>\n",
       "    </tr>\n",
       "    <tr>\n",
       "      <th>mean</th>\n",
       "      <td>1.048780</td>\n",
       "      <td>8.164135</td>\n",
       "      <td>29.737983</td>\n",
       "      <td>506.337610</td>\n",
       "    </tr>\n",
       "    <tr>\n",
       "      <th>std</th>\n",
       "      <td>0.312348</td>\n",
       "      <td>9.010857</td>\n",
       "      <td>17.467712</td>\n",
       "      <td>635.902839</td>\n",
       "    </tr>\n",
       "    <tr>\n",
       "      <th>min</th>\n",
       "      <td>0.000000</td>\n",
       "      <td>0.000000</td>\n",
       "      <td>0.000000</td>\n",
       "      <td>0.000000</td>\n",
       "    </tr>\n",
       "    <tr>\n",
       "      <th>25%</th>\n",
       "      <td>1.000000</td>\n",
       "      <td>2.000000</td>\n",
       "      <td>15.000000</td>\n",
       "      <td>143.000000</td>\n",
       "    </tr>\n",
       "    <tr>\n",
       "      <th>50%</th>\n",
       "      <td>1.000000</td>\n",
       "      <td>5.000000</td>\n",
       "      <td>30.000000</td>\n",
       "      <td>308.000000</td>\n",
       "    </tr>\n",
       "    <tr>\n",
       "      <th>75%</th>\n",
       "      <td>1.000000</td>\n",
       "      <td>10.000000</td>\n",
       "      <td>44.000000</td>\n",
       "      <td>624.000000</td>\n",
       "    </tr>\n",
       "    <tr>\n",
       "      <th>max</th>\n",
       "      <td>2.000000</td>\n",
       "      <td>112.000000</td>\n",
       "      <td>333.000000</td>\n",
       "      <td>8830.000000</td>\n",
       "    </tr>\n",
       "  </tbody>\n",
       "</table>\n",
       "</div>"
      ],
      "text/plain": [
       "           Hours      Minutes      Seconds  Total Seconds\n",
       "count  41.000000  5727.000000  5950.000000    6158.000000\n",
       "mean    1.048780     8.164135    29.737983     506.337610\n",
       "std     0.312348     9.010857    17.467712     635.902839\n",
       "min     0.000000     0.000000     0.000000       0.000000\n",
       "25%     1.000000     2.000000    15.000000     143.000000\n",
       "50%     1.000000     5.000000    30.000000     308.000000\n",
       "75%     1.000000    10.000000    44.000000     624.000000\n",
       "max     2.000000   112.000000   333.000000    8830.000000"
      ]
     },
     "execution_count": 4,
     "metadata": {},
     "output_type": "execute_result"
    }
   ],
   "source": [
    "jitz.describe()"
   ]
  },
  {
   "cell_type": "code",
   "execution_count": 5,
   "metadata": {},
   "outputs": [
    {
     "data": {
      "text/plain": [
       "Hours            float64\n",
       "Minutes          float64\n",
       "Seconds          float64\n",
       "Total Seconds    float64\n",
       "Gi/No Gi          object\n",
       "Belt/Skill        object\n",
       "Division          object\n",
       "submission        object\n",
       "Unnamed: 8        object\n",
       "dtype: object"
      ]
     },
     "execution_count": 5,
     "metadata": {},
     "output_type": "execute_result"
    }
   ],
   "source": [
    "#checking if data types are correct for analysis\n",
    "jitz.dtypes"
   ]
  },
  {
   "cell_type": "markdown",
   "metadata": {},
   "source": [
    "### Initial Thoughts\n",
    "<p>Looking at the first 10 columns and at df.describe, it looks like there are a few columns we can get rid of and some max values in the time categories that need to be investigated. Jiu jitsu matches usually do not last very long and two hours sounds suspicous so I will look at those rows just to make sure.</p>"
   ]
  },
  {
   "cell_type": "code",
   "execution_count": 6,
   "metadata": {},
   "outputs": [
    {
     "name": "stdout",
     "output_type": "stream",
     "text": [
      "2.0\n"
     ]
    },
    {
     "data": {
      "text/html": [
       "<div>\n",
       "<style scoped>\n",
       "    .dataframe tbody tr th:only-of-type {\n",
       "        vertical-align: middle;\n",
       "    }\n",
       "\n",
       "    .dataframe tbody tr th {\n",
       "        vertical-align: top;\n",
       "    }\n",
       "\n",
       "    .dataframe thead th {\n",
       "        text-align: right;\n",
       "    }\n",
       "</style>\n",
       "<table border=\"1\" class=\"dataframe\">\n",
       "  <thead>\n",
       "    <tr style=\"text-align: right;\">\n",
       "      <th></th>\n",
       "      <th>Hours</th>\n",
       "      <th>Minutes</th>\n",
       "      <th>Seconds</th>\n",
       "      <th>Total Seconds</th>\n",
       "      <th>Gi/No Gi</th>\n",
       "      <th>Belt/Skill</th>\n",
       "      <th>Division</th>\n",
       "      <th>submission</th>\n",
       "      <th>Unnamed: 8</th>\n",
       "    </tr>\n",
       "  </thead>\n",
       "  <tbody>\n",
       "    <tr>\n",
       "      <th>5018</th>\n",
       "      <td>2.0</td>\n",
       "      <td>11.0</td>\n",
       "      <td>NaN</td>\n",
       "      <td>1380.0</td>\n",
       "      <td>No Gi</td>\n",
       "      <td>Intermediate</td>\n",
       "      <td>Men</td>\n",
       "      <td>Triangle</td>\n",
       "      <td>NaN</td>\n",
       "    </tr>\n",
       "    <tr>\n",
       "      <th>5399</th>\n",
       "      <td>2.0</td>\n",
       "      <td>27.0</td>\n",
       "      <td>10.0</td>\n",
       "      <td>8830.0</td>\n",
       "      <td>no gi</td>\n",
       "      <td>novice</td>\n",
       "      <td>men</td>\n",
       "      <td>omoplata</td>\n",
       "      <td>NaN</td>\n",
       "    </tr>\n",
       "    <tr>\n",
       "      <th>5676</th>\n",
       "      <td>2.0</td>\n",
       "      <td>12.0</td>\n",
       "      <td>50.0</td>\n",
       "      <td>7970.0</td>\n",
       "      <td>Gi</td>\n",
       "      <td>Blue</td>\n",
       "      <td>30+</td>\n",
       "      <td>collar choke</td>\n",
       "      <td>NaN</td>\n",
       "    </tr>\n",
       "  </tbody>\n",
       "</table>\n",
       "</div>"
      ],
      "text/plain": [
       "      Hours  Minutes  Seconds  Total Seconds Gi/No Gi    Belt/Skill Division  \\\n",
       "5018    2.0     11.0      NaN         1380.0    No Gi  Intermediate      Men   \n",
       "5399    2.0     27.0     10.0         8830.0    no gi        novice      men   \n",
       "5676    2.0     12.0     50.0         7970.0       Gi          Blue      30+   \n",
       "\n",
       "        submission Unnamed: 8  \n",
       "5018      Triangle        NaN  \n",
       "5399      omoplata        NaN  \n",
       "5676  collar choke        NaN  "
      ]
     },
     "execution_count": 6,
     "metadata": {},
     "output_type": "execute_result"
    }
   ],
   "source": [
    "#confirming the max value in hour column\n",
    "print(jitz['Hours'].max())\n",
    "#printing out the rows with Hours equal 2.0\n",
    "jitz[jitz['Hours']==2.0]"
   ]
  },
  {
   "cell_type": "markdown",
   "metadata": {},
   "source": [
    "<p>The rows with 2 hours looks fine, they just seem to be outliers.</p>"
   ]
  },
  {
   "cell_type": "markdown",
   "metadata": {},
   "source": [
    "<div class=\"alert alert-success\">\n",
    "    <h1> Data Cleaning and Table Reformating</h1>\n",
    "</div>"
   ]
  },
  {
   "cell_type": "markdown",
   "metadata": {},
   "source": [
    "### Removing Columns"
   ]
  },
  {
   "cell_type": "code",
   "execution_count": 7,
   "metadata": {},
   "outputs": [],
   "source": [
    "#dropping Unamed: 8 Column\n",
    "jitz.drop(columns=['Unnamed: 8'], inplace=True)"
   ]
  },
  {
   "cell_type": "code",
   "execution_count": 8,
   "metadata": {},
   "outputs": [
    {
     "name": "stdout",
     "output_type": "stream",
     "text": [
      "Average match time: 506.34\n"
     ]
    }
   ],
   "source": [
    "#Finding avg match time to determine if the other time columns are necessary\n",
    "avgMatchTime = jitz['Total Seconds'].mean()\n",
    "print(\"Average match time: \" + str(round(avgMatchTime, 2)))"
   ]
  },
  {
   "cell_type": "code",
   "execution_count": 9,
   "metadata": {},
   "outputs": [],
   "source": [
    "#Since avg match time is 506 seconds, the use for the hours minutes and seconds columns is not needed\n",
    "jitz.drop(columns=['Hours', 'Minutes', 'Seconds'], inplace=True)"
   ]
  },
  {
   "cell_type": "markdown",
   "metadata": {},
   "source": [
    "### Changing Column Names"
   ]
  },
  {
   "cell_type": "code",
   "execution_count": 10,
   "metadata": {},
   "outputs": [],
   "source": [
    "#renaming all columns to use lowercase and snakecase, submission column name does not need to be altered\n",
    "jitz.rename(columns={\"Total Seconds\": \"total_seconds\", \n",
    "                     \"Gi/No Gi\": \"gi/no_gi\", \n",
    "                     \"Belt/Skill\": \"belt/skill\", \n",
    "                     \"Division\": \"division\"}, inplace=True)"
   ]
  },
  {
   "cell_type": "code",
   "execution_count": 11,
   "metadata": {},
   "outputs": [
    {
     "data": {
      "text/html": [
       "<div>\n",
       "<style scoped>\n",
       "    .dataframe tbody tr th:only-of-type {\n",
       "        vertical-align: middle;\n",
       "    }\n",
       "\n",
       "    .dataframe tbody tr th {\n",
       "        vertical-align: top;\n",
       "    }\n",
       "\n",
       "    .dataframe thead th {\n",
       "        text-align: right;\n",
       "    }\n",
       "</style>\n",
       "<table border=\"1\" class=\"dataframe\">\n",
       "  <thead>\n",
       "    <tr style=\"text-align: right;\">\n",
       "      <th></th>\n",
       "      <th>total_seconds</th>\n",
       "      <th>gi/no_gi</th>\n",
       "      <th>belt/skill</th>\n",
       "      <th>division</th>\n",
       "      <th>submission</th>\n",
       "    </tr>\n",
       "  </thead>\n",
       "  <tbody>\n",
       "    <tr>\n",
       "      <th>0</th>\n",
       "      <td>5.0</td>\n",
       "      <td>Gi</td>\n",
       "      <td>Blue</td>\n",
       "      <td>Men</td>\n",
       "      <td>Straight ankle</td>\n",
       "    </tr>\n",
       "    <tr>\n",
       "      <th>1</th>\n",
       "      <td>7.0</td>\n",
       "      <td>No Gi</td>\n",
       "      <td>Advanced</td>\n",
       "      <td>Men</td>\n",
       "      <td>brabo</td>\n",
       "    </tr>\n",
       "    <tr>\n",
       "      <th>2</th>\n",
       "      <td>8.0</td>\n",
       "      <td>gi</td>\n",
       "      <td>white</td>\n",
       "      <td>30+ Men</td>\n",
       "      <td>Armbar</td>\n",
       "    </tr>\n",
       "    <tr>\n",
       "      <th>3</th>\n",
       "      <td>9.0</td>\n",
       "      <td>Gi</td>\n",
       "      <td>Brown</td>\n",
       "      <td>Men</td>\n",
       "      <td>Darce</td>\n",
       "    </tr>\n",
       "    <tr>\n",
       "      <th>4</th>\n",
       "      <td>9.0</td>\n",
       "      <td>Gi</td>\n",
       "      <td>Blue</td>\n",
       "      <td>Men</td>\n",
       "      <td>Straight ankle</td>\n",
       "    </tr>\n",
       "  </tbody>\n",
       "</table>\n",
       "</div>"
      ],
      "text/plain": [
       "   total_seconds gi/no_gi belt/skill division      submission\n",
       "0            5.0       Gi       Blue      Men  Straight ankle\n",
       "1            7.0    No Gi   Advanced      Men           brabo\n",
       "2            8.0       gi      white  30+ Men          Armbar\n",
       "3            9.0       Gi      Brown      Men           Darce\n",
       "4            9.0       Gi       Blue      Men  Straight ankle"
      ]
     },
     "execution_count": 11,
     "metadata": {},
     "output_type": "execute_result"
    }
   ],
   "source": [
    "jitz.head()"
   ]
  },
  {
   "cell_type": "markdown",
   "metadata": {},
   "source": [
    "## Data Transformation"
   ]
  },
  {
   "cell_type": "markdown",
   "metadata": {},
   "source": [
    "<div class='alert alert-success'>\n",
    "This part will be the most lengthy, tedious part of the cleaning process. The data contained within the columns are not uniform in spelling, capitilization and name.  \n",
    "</div>"
   ]
  },
  {
   "cell_type": "markdown",
   "metadata": {},
   "source": [
    "### Gi/No Gi Column Cleaning"
   ]
  },
  {
   "cell_type": "code",
   "execution_count": 12,
   "metadata": {},
   "outputs": [
    {
     "data": {
      "text/plain": [
       "array(['Gi', 'No Gi', 'gi', 'no gi', 'No GI ', 'Gi ', 'gi ', nan,\n",
       "       'No Gi ', 'No GI', 'GI'], dtype=object)"
      ]
     },
     "execution_count": 12,
     "metadata": {},
     "output_type": "execute_result"
    }
   ],
   "source": [
    "jitz['gi/no_gi'].unique()"
   ]
  },
  {
   "cell_type": "code",
   "execution_count": 13,
   "metadata": {},
   "outputs": [],
   "source": [
    "#converting column to lowercase\n",
    "jitz['gi/no_gi'] = jitz['gi/no_gi'].str.lower()"
   ]
  },
  {
   "cell_type": "code",
   "execution_count": 14,
   "metadata": {},
   "outputs": [],
   "source": [
    "#Using lambda function to check if string 'no' is in column, if so change to no_gi, else change to 'gi'\n",
    "#First time using lambda with if, elif, else\n",
    "jitz['gi/no_gi'] = jitz['gi/no_gi'].apply(lambda x: 'no_gi' if 'no' in str(x) else ('gi' if 'gi' in str(x) else x))"
   ]
  },
  {
   "cell_type": "code",
   "execution_count": 15,
   "metadata": {},
   "outputs": [
    {
     "data": {
      "text/plain": [
       "array(['gi', 'no_gi', nan], dtype=object)"
      ]
     },
     "execution_count": 15,
     "metadata": {},
     "output_type": "execute_result"
    }
   ],
   "source": [
    "jitz['gi/no_gi'].unique()"
   ]
  },
  {
   "cell_type": "markdown",
   "metadata": {},
   "source": [
    "### Belt/Skill Column Cleaning"
   ]
  },
  {
   "cell_type": "code",
   "execution_count": 16,
   "metadata": {},
   "outputs": [
    {
     "data": {
      "text/plain": [
       "array(['Blue', 'Advanced', 'white', 'Brown', 'Intermediate',\n",
       "       'intermediate', 'White', 'Novice', 'beginner', 'Beginner', 'blue',\n",
       "       'Purple', 'purple', 'novice', 'brown', 'advanced', 'Black',\n",
       "       'black', 'jvadv', 'jvint', '30+ Men', 'Blue ', 'Novice '],\n",
       "      dtype=object)"
      ]
     },
     "execution_count": 16,
     "metadata": {},
     "output_type": "execute_result"
    }
   ],
   "source": [
    "jitz['belt/skill'].unique()"
   ]
  },
  {
   "cell_type": "code",
   "execution_count": 17,
   "metadata": {},
   "outputs": [],
   "source": [
    "#to lowercase\n",
    "jitz['belt/skill'] = jitz['belt/skill'].str.lower()"
   ]
  },
  {
   "cell_type": "code",
   "execution_count": 18,
   "metadata": {},
   "outputs": [],
   "source": [
    "#if jv in column, change to snakecase\n",
    "jitz['belt/skill'] = jitz['belt/skill'].apply(lambda x: x[:2] + \"_\" + x[2:] if 'jv' in x else x)"
   ]
  },
  {
   "cell_type": "code",
   "execution_count": 19,
   "metadata": {},
   "outputs": [],
   "source": [
    "#mens 30+ is a division category, not a belt/skill level, values will be changed to NA if 30+ \n",
    "jitz['belt/skill'] = jitz['belt/skill'].apply(lambda x: 'NA' if '30+' in x else x)"
   ]
  },
  {
   "cell_type": "code",
   "execution_count": 20,
   "metadata": {},
   "outputs": [],
   "source": [
    "#removing space before or after string in column\n",
    "jitz['belt/skill'] = jitz['belt/skill'].apply(lambda x: x.strip(' '))"
   ]
  },
  {
   "cell_type": "code",
   "execution_count": 21,
   "metadata": {},
   "outputs": [
    {
     "data": {
      "text/plain": [
       "array(['blue', 'advanced', 'white', 'brown', 'intermediate', 'novice',\n",
       "       'beginner', 'purple', 'black', 'jv_adv', 'jv_int', 'NA'],\n",
       "      dtype=object)"
      ]
     },
     "execution_count": 21,
     "metadata": {},
     "output_type": "execute_result"
    }
   ],
   "source": [
    "jitz['belt/skill'].unique()"
   ]
  },
  {
   "cell_type": "markdown",
   "metadata": {},
   "source": [
    "### Division Column Cleaning"
   ]
  },
  {
   "cell_type": "code",
   "execution_count": 22,
   "metadata": {},
   "outputs": [
    {
     "data": {
      "text/plain": [
       "array(['Men', '30+ Men', 'Women', 'men', 'women', \"Men's\", 'Men ',\n",
       "       'juvenile', 'Juvenile', '30+', \"Women's\"], dtype=object)"
      ]
     },
     "execution_count": 22,
     "metadata": {},
     "output_type": "execute_result"
    }
   ],
   "source": [
    "jitz['division'].unique()"
   ]
  },
  {
   "cell_type": "code",
   "execution_count": 23,
   "metadata": {},
   "outputs": [],
   "source": [
    "jitz['division'] = jitz['division'].str.lower()"
   ]
  },
  {
   "cell_type": "code",
   "execution_count": 24,
   "metadata": {},
   "outputs": [],
   "source": [
    "jitz['division'] = jitz['division'].apply(lambda x: x.strip(' '))"
   ]
  },
  {
   "cell_type": "code",
   "execution_count": 25,
   "metadata": {},
   "outputs": [],
   "source": [
    "jitz['division'] = jitz['division'].apply(lambda x: 'men' if x.startswith('m') else x)"
   ]
  },
  {
   "cell_type": "code",
   "execution_count": 26,
   "metadata": {},
   "outputs": [],
   "source": [
    "jitz['division'] = jitz['division'].apply(lambda x: 'masters' if '30+' in x else x)"
   ]
  },
  {
   "cell_type": "code",
   "execution_count": 27,
   "metadata": {},
   "outputs": [],
   "source": [
    "jitz['division'] = jitz['division'].apply(lambda x: 'women' if x.startswith('w') else x)"
   ]
  },
  {
   "cell_type": "code",
   "execution_count": 28,
   "metadata": {},
   "outputs": [
    {
     "data": {
      "text/plain": [
       "array(['men', 'masters', 'women', 'juvenile'], dtype=object)"
      ]
     },
     "execution_count": 28,
     "metadata": {},
     "output_type": "execute_result"
    }
   ],
   "source": [
    "jitz['division'].unique()"
   ]
  },
  {
   "cell_type": "markdown",
   "metadata": {},
   "source": [
    "### Submission Column Cleaning"
   ]
  },
  {
   "cell_type": "code",
   "execution_count": 29,
   "metadata": {},
   "outputs": [
    {
     "data": {
      "text/plain": [
       "array(['Straight ankle', 'brabo', 'Armbar', 'Darce', 'Kimura', 'triangle',\n",
       "       'Heel hook', 'guillotine', 'Triangle', 'DQ Slam', 'Guillotine',\n",
       "       'armbar', 'north south choke', 'straight ankle', 'toehold'],\n",
       "      dtype=object)"
      ]
     },
     "execution_count": 29,
     "metadata": {},
     "output_type": "execute_result"
    }
   ],
   "source": [
    "jitz['submission'].unique()[:15]"
   ]
  },
  {
   "cell_type": "code",
   "execution_count": 30,
   "metadata": {},
   "outputs": [
    {
     "data": {
      "text/plain": [
       "300"
      ]
     },
     "execution_count": 30,
     "metadata": {},
     "output_type": "execute_result"
    }
   ],
   "source": [
    "jitz['submission'].nunique()"
   ]
  },
  {
   "cell_type": "code",
   "execution_count": 31,
   "metadata": {},
   "outputs": [],
   "source": [
    "jitz['submission'] = jitz['submission'].str.lower()"
   ]
  },
  {
   "cell_type": "code",
   "execution_count": 32,
   "metadata": {},
   "outputs": [],
   "source": [
    "jitz['submission'] = jitz['submission'].apply(lambda x: str(x).strip(' '))"
   ]
  },
  {
   "cell_type": "code",
   "execution_count": 33,
   "metadata": {},
   "outputs": [
    {
     "data": {
      "text/plain": [
       "194"
      ]
     },
     "execution_count": 33,
     "metadata": {},
     "output_type": "execute_result"
    }
   ],
   "source": [
    "#by just applying lowercase and removing trailing and head whitespace, reduced #unique values from 300-194\n",
    "jitz['submission'].nunique()"
   ]
  },
  {
   "cell_type": "code",
   "execution_count": 34,
   "metadata": {},
   "outputs": [
    {
     "data": {
      "text/plain": [
       "array(['straight ankle', 'brabo', 'armbar', 'darce', 'kimura', 'triangle',\n",
       "       'heel hook', 'guillotine', 'dq slam', 'north south choke',\n",
       "       'toehold', 'kneebar', 'dq', 'baseball choke', 'americana',\n",
       "       'ankle lock', 'injury', 'cross collar choke', 'bulldog choke',\n",
       "       'rnc', 'bow and arrow', 'arm triangle', 'anaconda choke',\n",
       "       'straight ankle lock', 'nan', 'cross choke', 'ezekiel',\n",
       "       'head & arm choke', 'heek hook', 'flying armbar', 'choke',\n",
       "       'paper cutter', 'bow and arrow choke', 'omoplata', 'lapel choke',\n",
       "       'gi choke', 'triangle/armbar', 'head and arm triangle',\n",
       "       'banana split', 'anaconda', 'collar choke', '?', 'knee pressure',\n",
       "       'bow & arrow', 'armlock', 'cramping', 'footlock', 'keylock',\n",
       "       'baseball bat choke', 'brabo choke', 'reverse triangle',\n",
       "       'bell choke', 'head and arm choke', 'shoulder lock', 'wristlock',\n",
       "       'tko', 'head scissor', 'breadcutter', 'exhaustion',\n",
       "       'breadcutter choke', '\"crazy ass choke\" - shaun kennedy',\n",
       "       'ninja choke', 'heel  hook', 'bread cutter choke', 'toe hold',\n",
       "       'texas cloverleaf', 'cross collar', \"d'arce\", 'not listed',\n",
       "       'wrist lock', 'bully choke', 'arm', 'forfeit', 'inverted triangle',\n",
       "       'twister', 'verbal submission', 'north/south choke', 'knee bar',\n",
       "       'neck crank', 'calf slicer', 'clock choke', \"couldn't breathe\",\n",
       "       'cutter choke', 'pressure', 'loop choke', 'paper cutter choke',\n",
       "       'arm in guillotine', 'punch choke', 'ns choke', 'monson choke',\n",
       "       'straight armbar', 'front choke', 'single wing choke', 'headlock',\n",
       "       'chicken wing', 'bicep slicer', 'peruvian necktie', 'smothering',\n",
       "       'reverse armbar', 'not written down', 'gogoplata', 'sore nose',\n",
       "       'side control', 'verbal tap', 'side choke', 'verbal sub',\n",
       "       'bread cutter', 'nightmare', 'finger choke', 'reverse omoplata',\n",
       "       'forearm choke', '\"box choke\"', 'scissor choke',\n",
       "       'straight arm bar', 'armar', '? not written', 'cramp',\n",
       "       'shoulder pressure', 'tight package', 'lumber jack choke',\n",
       "       'arm lock', 'kneebar - dq', 'double punch', 'n/s choke',\n",
       "       'dq for toehold', 'toe hook', 'shoulder injury', 'fist choke',\n",
       "       'back chop', 'orata plata', '2x4 choke', 'kumura', 'unknown',\n",
       "       'smother', 'body triangle', 'twster', 'dq (illegal kneebar)',\n",
       "       'triangle armbar', 'patrone choke', 'gift wrap', 'chest crush',\n",
       "       'north south choje', 'dq toehold', 'achilles lock', 'leg scissor',\n",
       "       'chicken wing choke', 'heel hook/dq', 'back choke',\n",
       "       'razzle dazzle (bagels)', 'bradoplata', 'sliding lapel choke',\n",
       "       'foot lock', 'kesa getame', 'head & arm triangle',\n",
       "       'banana split - dq', 'necktie', 'estima lock', 'technical',\n",
       "       'key lock', 'dq strikes', 'leg choke', 'crucifix',\n",
       "       'von flue choke', 'executioner choke', 'leglock', 'cramps',\n",
       "       'dq / knee reap', 'modified loop choke', 'triangle mounted',\n",
       "       'triangle choke', 'zeke choke', 'texas clove leaf', 'neck tie',\n",
       "       'head & arm', 'mounted triangle', 'bow choke', 'giullotine',\n",
       "       'under the fence', 'zip tie choke', 'omaplata', 'straight armlock',\n",
       "       'strangle choke', 'wrist', 'bravo', 'arm triangle choke',\n",
       "       'razor lock', 'leg lock', 'armbar/triangle', 'knee on belly',\n",
       "       'vonflue choke', 'heak lock', 'ambar', 'mounted cross collar',\n",
       "       'mount pressure'], dtype=object)"
      ]
     },
     "execution_count": 34,
     "metadata": {},
     "output_type": "execute_result"
    }
   ],
   "source": [
    "jitz['submission'].unique()"
   ]
  },
  {
   "cell_type": "code",
   "execution_count": 35,
   "metadata": {},
   "outputs": [],
   "source": [
    "jitz['submission'] = jitz['submission'].apply(lambda x: 'wrist lock' if 'wrist' in x else x)"
   ]
  },
  {
   "cell_type": "code",
   "execution_count": 36,
   "metadata": {},
   "outputs": [],
   "source": [
    "jitz['submission'] = jitz['submission'].apply(lambda x: 'arm bar' if ('arm' in x and 'bar' in x) else x)"
   ]
  },
  {
   "cell_type": "code",
   "execution_count": 37,
   "metadata": {},
   "outputs": [],
   "source": [
    "jitz['submission'] = jitz['submission'].apply(lambda x: 'heel hook' if 'hook' in x else x)"
   ]
  },
  {
   "cell_type": "code",
   "execution_count": 38,
   "metadata": {},
   "outputs": [],
   "source": [
    "jitz['submission'] = jitz['submission'].apply(lambda x: 'dq' if 'dq' in x else x)"
   ]
  },
  {
   "cell_type": "code",
   "execution_count": 39,
   "metadata": {},
   "outputs": [],
   "source": [
    "jitz['submission'] = jitz['submission'].apply(lambda x: 'ankle lock' if ('ankle' in x or 'achilles' in x) else x)"
   ]
  },
  {
   "cell_type": "code",
   "execution_count": 40,
   "metadata": {},
   "outputs": [],
   "source": [
    "jitz['submission'] = jitz['submission'].apply(lambda x: 'darce' if ('bra' in x or 'arce' in x) else x)"
   ]
  },
  {
   "cell_type": "code",
   "execution_count": 41,
   "metadata": {},
   "outputs": [],
   "source": [
    "jitz['submission'] = jitz['submission'].apply(lambda x: 'dq' if 'dq' in x else x)"
   ]
  },
  {
   "cell_type": "code",
   "execution_count": 42,
   "metadata": {},
   "outputs": [],
   "source": [
    "jitz['submission'] = jitz['submission'].apply(lambda x: 'paper cutter' if 'cut' in x else x)"
   ]
  },
  {
   "cell_type": "code",
   "execution_count": 43,
   "metadata": {},
   "outputs": [],
   "source": [
    "jitz['submission'] = jitz['submission'].apply(lambda x: 'NA' if '?' in x else x)"
   ]
  },
  {
   "cell_type": "code",
   "execution_count": 44,
   "metadata": {},
   "outputs": [],
   "source": [
    "jitz['submission'] = jitz['submission'].apply(lambda x: 'triangle' if 'triangle' in x else x)"
   ]
  },
  {
   "cell_type": "code",
   "execution_count": 45,
   "metadata": {},
   "outputs": [],
   "source": [
    "jitz['submission'] = jitz['submission'].apply(lambda x: 'bow & arrow' if 'bow' in x else x)"
   ]
  },
  {
   "cell_type": "code",
   "execution_count": 46,
   "metadata": {},
   "outputs": [
    {
     "data": {
      "text/plain": [
       "144"
      ]
     },
     "execution_count": 46,
     "metadata": {},
     "output_type": "execute_result"
    }
   ],
   "source": [
    "jitz['submission'].nunique()"
   ]
  },
  {
   "cell_type": "markdown",
   "metadata": {},
   "source": [
    "<p>The submission column is not perfect but for the purposes of this analysis, this level of cleaning will do. The number of unique values decreased more than 50%, from 300 to 145. Some of the submission names are meant to represent the same submission but are different, 145 different submissions is a reasonable amount, the number of possible submissions in jiu jitsu far exceeds this.</p>"
   ]
  },
  {
   "cell_type": "markdown",
   "metadata": {},
   "source": [
    "# Data Analysis\n",
    "<div class='alert alert-success'>\n",
    "    <p>\n",
    "     Most of the analysis will be focused around the submission category. Some of the basic analysis will include \n",
    "    </p>\n",
    "    <ul>\n",
    "        <li>Most Popular Submissions Overall</li>\n",
    "        <li>Most Popular Submissions in Each Rank/Gi and No Gi</li>\n",
    "    </ul>\n",
    "    <p>\n",
    "    I would also like to examine the relationship between submission and match length, some submissions may be more likely to have quicker match times than other submissions. My hunch is that submissions that involve leg attacks, such as heel hooks, ankle/achilles locks, kneebars, toeholds etc will have a lower average match time than upper body submissions. Lower body attacks are part of the new wave of jiu jitsu and have faster breaking mechanics than other submissions. This means that people may on average have poor defense to these attacks which leads to faster finishes.\n",
    "    </p>\n",
    "</div>"
   ]
  },
  {
   "cell_type": "code",
   "execution_count": 47,
   "metadata": {},
   "outputs": [],
   "source": [
    "#Creating seperate dataframes for each category, gi, no gi and each skill level/belt\n",
    "jitz_gi = jitz[jitz['gi/no_gi'] == 'gi']\n",
    "jitz_no_gi = jitz[jitz['gi/no_gi'] == 'no_gi']\n",
    "\n",
    "jitz_white = jitz[jitz['belt/skill'] == 'white']\n",
    "jitz_blue = jitz[jitz['belt/skill'] == 'blue']\n",
    "jitz_purple = jitz[jitz['belt/skill'] == 'purple']\n",
    "jitz_brown = jitz[jitz['belt/skill'] == 'brown']\n",
    "jitz_black = jitz[jitz['belt/skill'] == 'black']\n",
    "\n",
    "jitz_novice = jitz[jitz['belt/skill'] == 'novice']\n",
    "jitz_beginner = jitz[jitz['belt/skill'] == 'beginner']\n",
    "jitz_intermediate = jitz[jitz['belt/skill'] == 'intermediate']\n",
    "jitz_advanced = jitz[jitz['belt/skill'] == 'advanced']"
   ]
  },
  {
   "cell_type": "code",
   "execution_count": 48,
   "metadata": {},
   "outputs": [],
   "source": [
    "#most popular submissions, overall\n",
    "sub_counts = jitz['submission'].value_counts()[:10]\n",
    "index = jitz['submission'].value_counts().index[:10]"
   ]
  },
  {
   "cell_type": "code",
   "execution_count": 49,
   "metadata": {},
   "outputs": [
    {
     "data": {
      "image/png": "[encoded data removed]",
      "text/plain": [
       "<Figure size 842.4x595.44 with 1 Axes>"
      ]
     },
     "metadata": {},
     "output_type": "display_data"
    }
   ],
   "source": [
    "sns.set_theme(style=\"whitegrid\")\n",
    "sns.set(rc={'figure.figsize':(11.7,8.27)})\n",
    "\n",
    "ax = sns.barplot(x=index, y=sub_counts)\n",
    "ax.set_xticklabels(rotation=30, labels=index)\n",
    "ax.set_title(\"Top 10 Submissions: All Categories\")\n",
    "ax.set_ylabel('Submission Counts')\n",
    "\n",
    "plt.show()"
   ]
  },
  {
   "cell_type": "markdown",
   "metadata": {},
   "source": [
    "<div class='alert alert-success'>\n",
    "    Analysis of the top submissions returns expected results, the most reliable and highest percentage submissions are at the top. Arm bar, triangle, and kimura form the basis of jiu jitsu submissions which explains their high placement in the top submissions. Rear naked choke is also very popular, but more so in no gi. I expect to see the RNC to have a higher percentage of submission count in the no gi only category.\n",
    "</div>"
   ]
  },
  {
   "cell_type": "code",
   "execution_count": 50,
   "metadata": {},
   "outputs": [],
   "source": [
    "#no_gi sub counts and index\n",
    "sub_counts_no_gi = jitz_no_gi['submission'].value_counts()[:10]\n",
    "index_no_gi = jitz_no_gi['submission'].value_counts().index[:10]\n",
    "#gi sub counts and index\n",
    "sub_counts_gi = jitz_gi['submission'].value_counts()[:10]\n",
    "index_gi = jitz_gi['submission'].value_counts().index[:10]"
   ]
  },
  {
   "cell_type": "code",
   "execution_count": 51,
   "metadata": {},
   "outputs": [
    {
     "data": {
      "image/png": "[encoded data removed]",
      "text/plain": [
       "<Figure size 1152x576 with 2 Axes>"
      ]
     },
     "metadata": {},
     "output_type": "display_data"
    }
   ],
   "source": [
    "sns.set(rc={'figure.figsize':(16,8)})\n",
    "fig, (ax1, ax2) = plt.subplots(ncols=2, sharey=True)\n",
    "sns.barplot(x=index_no_gi, y=sub_counts_no_gi, ax=ax1)\n",
    "sns.barplot(x=index_gi, y=sub_counts_gi, ax=ax2)\n",
    "\n",
    "ax1.set_xticklabels(rotation=30, labels=index_no_gi)\n",
    "ax2.set_xticklabels(rotation=30, labels=index_gi)\n",
    "\n",
    "ax1.set_ylabel('Submission Counts')\n",
    "ax2.set_ylabel('')\n",
    "\n",
    "ax1.set_title('Top 10 No Gi Submissions')\n",
    "ax2.set_title('Top 10 Gi Submissions')\n",
    "\n",
    "plt.show()"
   ]
  },
  {
   "cell_type": "code",
   "execution_count": 52,
   "metadata": {},
   "outputs": [
    {
     "name": "stdout",
     "output_type": "stream",
     "text": [
      "Percentage of submissions in no gi that are armbars: 24%.\n",
      "Percentage of submissions in gi that are armbars: 34%.\n"
     ]
    }
   ],
   "source": [
    "arm_bar_no_gi = round(sub_counts_no_gi[0]/sub_counts_no_gi.sum()*100) \n",
    "arm_bar_gi = round(sub_counts_gi[0]/sub_counts_gi.sum()*100)\n",
    "print(\"Percentage of submissions in no gi that are armbars: \"+ str(arm_bar_no_gi) + \"%.\")\n",
    "print(\"Percentage of submissions in gi that are armbars: \"+ str(arm_bar_gi) + \"%.\")"
   ]
  },
  {
   "cell_type": "markdown",
   "metadata": {},
   "source": [
    "<div class='alert alert-success'>\n",
    "    The arm bar comparision in the gi vs no gi is interesting. As shown above, the percentage of arm bar submissions no gi is 24% while the gi has a 10% higher arm bar dominance at 34%. This could be due to the friction of the gi, making the arm more secure in the finish, in no gi there is less friction and a higher chance for the opponent to escape. As stated above, the RNC does have a higher percentage in no gi, again due to less friction. The armbar and triangle are on top in both categories, proving their spot as the top 2 submissions.\n",
    "</div>"
   ]
  },
  {
   "cell_type": "markdown",
   "metadata": {},
   "source": [
    "### Comparing Beginner Subs to Advanced Subs\n",
    "<p>Here I will group the beginners and the advanced practicioners into seperate groups to compare the submission counts between the two categories. Both categories will include gi and no gi, the beginner categories will include white/blue belts and novices, beginners, and intermediate. The advanced practicioner category will be purple, brown, black belts and the advanced category.</p>\n",
    "<p>I suspect that the beginner category will have more americanas, as this is a very basic day one submission that is taught to beginners, this submission is easy to comprehend and set up making it more viable for new practicioners. The advanced category will likely have more leg locks and less americanas.</p>"
   ]
  },
  {
   "cell_type": "code",
   "execution_count": 53,
   "metadata": {},
   "outputs": [
    {
     "data": {
      "text/html": [
       "<div>\n",
       "<style scoped>\n",
       "    .dataframe tbody tr th:only-of-type {\n",
       "        vertical-align: middle;\n",
       "    }\n",
       "\n",
       "    .dataframe tbody tr th {\n",
       "        vertical-align: top;\n",
       "    }\n",
       "\n",
       "    .dataframe thead th {\n",
       "        text-align: right;\n",
       "    }\n",
       "</style>\n",
       "<table border=\"1\" class=\"dataframe\">\n",
       "  <thead>\n",
       "    <tr style=\"text-align: right;\">\n",
       "      <th></th>\n",
       "      <th>total_seconds</th>\n",
       "      <th>gi/no_gi</th>\n",
       "      <th>belt/skill</th>\n",
       "      <th>division</th>\n",
       "      <th>submission</th>\n",
       "    </tr>\n",
       "  </thead>\n",
       "  <tbody>\n",
       "    <tr>\n",
       "      <th>2</th>\n",
       "      <td>8.0</td>\n",
       "      <td>gi</td>\n",
       "      <td>white</td>\n",
       "      <td>masters</td>\n",
       "      <td>arm bar</td>\n",
       "    </tr>\n",
       "    <tr>\n",
       "      <th>10</th>\n",
       "      <td>11.0</td>\n",
       "      <td>gi</td>\n",
       "      <td>white</td>\n",
       "      <td>men</td>\n",
       "      <td>dq</td>\n",
       "    </tr>\n",
       "    <tr>\n",
       "      <th>12</th>\n",
       "      <td>11.0</td>\n",
       "      <td>gi</td>\n",
       "      <td>white</td>\n",
       "      <td>men</td>\n",
       "      <td>arm bar</td>\n",
       "    </tr>\n",
       "    <tr>\n",
       "      <th>18</th>\n",
       "      <td>13.0</td>\n",
       "      <td>gi</td>\n",
       "      <td>white</td>\n",
       "      <td>men</td>\n",
       "      <td>north south choke</td>\n",
       "    </tr>\n",
       "    <tr>\n",
       "      <th>26</th>\n",
       "      <td>15.0</td>\n",
       "      <td>gi</td>\n",
       "      <td>white</td>\n",
       "      <td>women</td>\n",
       "      <td>guillotine</td>\n",
       "    </tr>\n",
       "  </tbody>\n",
       "</table>\n",
       "</div>"
      ],
      "text/plain": [
       "    total_seconds gi/no_gi belt/skill division         submission\n",
       "2             8.0       gi      white  masters            arm bar\n",
       "10           11.0       gi      white      men                 dq\n",
       "12           11.0       gi      white      men            arm bar\n",
       "18           13.0       gi      white      men  north south choke\n",
       "26           15.0       gi      white    women         guillotine"
      ]
     },
     "execution_count": 53,
     "metadata": {},
     "output_type": "execute_result"
    }
   ],
   "source": [
    "jitz_beginner = pd.concat([jitz_white, jitz_blue, jitz_novice, jitz_beginner, jitz_intermediate])\n",
    "jitz_beginner.head()"
   ]
  },
  {
   "cell_type": "code",
   "execution_count": 54,
   "metadata": {},
   "outputs": [
    {
     "data": {
      "text/html": [
       "<div>\n",
       "<style scoped>\n",
       "    .dataframe tbody tr th:only-of-type {\n",
       "        vertical-align: middle;\n",
       "    }\n",
       "\n",
       "    .dataframe tbody tr th {\n",
       "        vertical-align: top;\n",
       "    }\n",
       "\n",
       "    .dataframe thead th {\n",
       "        text-align: right;\n",
       "    }\n",
       "</style>\n",
       "<table border=\"1\" class=\"dataframe\">\n",
       "  <thead>\n",
       "    <tr style=\"text-align: right;\">\n",
       "      <th></th>\n",
       "      <th>total_seconds</th>\n",
       "      <th>gi/no_gi</th>\n",
       "      <th>belt/skill</th>\n",
       "      <th>division</th>\n",
       "      <th>submission</th>\n",
       "    </tr>\n",
       "  </thead>\n",
       "  <tbody>\n",
       "    <tr>\n",
       "      <th>33</th>\n",
       "      <td>16.0</td>\n",
       "      <td>gi</td>\n",
       "      <td>purple</td>\n",
       "      <td>men</td>\n",
       "      <td>triangle</td>\n",
       "    </tr>\n",
       "    <tr>\n",
       "      <th>34</th>\n",
       "      <td>16.0</td>\n",
       "      <td>gi</td>\n",
       "      <td>purple</td>\n",
       "      <td>masters</td>\n",
       "      <td>arm bar</td>\n",
       "    </tr>\n",
       "    <tr>\n",
       "      <th>48</th>\n",
       "      <td>19.0</td>\n",
       "      <td>gi</td>\n",
       "      <td>purple</td>\n",
       "      <td>men</td>\n",
       "      <td>ankle lock</td>\n",
       "    </tr>\n",
       "    <tr>\n",
       "      <th>59</th>\n",
       "      <td>20.0</td>\n",
       "      <td>gi</td>\n",
       "      <td>purple</td>\n",
       "      <td>men</td>\n",
       "      <td>cross collar choke</td>\n",
       "    </tr>\n",
       "    <tr>\n",
       "      <th>70</th>\n",
       "      <td>23.0</td>\n",
       "      <td>gi</td>\n",
       "      <td>purple</td>\n",
       "      <td>men</td>\n",
       "      <td>ankle lock</td>\n",
       "    </tr>\n",
       "  </tbody>\n",
       "</table>\n",
       "</div>"
      ],
      "text/plain": [
       "    total_seconds gi/no_gi belt/skill division          submission\n",
       "33           16.0       gi     purple      men            triangle\n",
       "34           16.0       gi     purple  masters             arm bar\n",
       "48           19.0       gi     purple      men          ankle lock\n",
       "59           20.0       gi     purple      men  cross collar choke\n",
       "70           23.0       gi     purple      men          ankle lock"
      ]
     },
     "execution_count": 54,
     "metadata": {},
     "output_type": "execute_result"
    }
   ],
   "source": [
    "jitz_advanced = pd.concat([jitz_purple, jitz_brown, jitz_black, jitz_advanced])\n",
    "jitz_advanced.head()"
   ]
  },
  {
   "cell_type": "code",
   "execution_count": 55,
   "metadata": {},
   "outputs": [
    {
     "name": "stdout",
     "output_type": "stream",
     "text": [
      "[30, 16, 11, 11, 10, 6, 5, 5, 4, 3]\n",
      "[29, 15, 11, 9, 8, 8, 6, 5, 4, 4]\n"
     ]
    }
   ],
   "source": [
    "#beginner subs counts and index\n",
    "sub_counts_beginner = jitz_beginner['submission'].value_counts()[:10]\n",
    "index_beginner = jitz_beginner['submission'].value_counts().index[:10]\n",
    "#advanced sub counts and index\n",
    "sub_counts_advanced = jitz_advanced['submission'].value_counts()[:10]\n",
    "index_advanced = jitz_advanced['submission'].value_counts().index[:10]\n",
    "\n",
    "sub_counts_beginner_pct = []\n",
    "sub_counts_advanced_pct = []\n",
    "\n",
    "for count in sub_counts_beginner:\n",
    "    total = sub_counts_beginner.sum()\n",
    "    count = round(((count/total)*100))\n",
    "    sub_counts_beginner_pct.append(count)\n",
    "    \n",
    "for count in sub_counts_advanced:\n",
    "    total = sub_counts_advanced.sum()\n",
    "    count = round(((count/total)*100))\n",
    "    sub_counts_advanced_pct.append(count)\n",
    "    \n",
    "print(sub_counts_beginner_pct)\n",
    "print(sub_counts_advanced_pct)"
   ]
  },
  {
   "cell_type": "code",
   "execution_count": 56,
   "metadata": {},
   "outputs": [
    {
     "data": {
      "image/png": "[encoded data removed]",
      "text/plain": [
       "<Figure size 1152x576 with 2 Axes>"
      ]
     },
     "metadata": {},
     "output_type": "display_data"
    }
   ],
   "source": [
    "sns.set(rc={'figure.figsize':(16,8)})\n",
    "fig, (ax1, ax2) = plt.subplots(ncols=2, sharey=True)\n",
    "sns.barplot(x=index_beginner, y=sub_counts_beginner_pct, ax=ax1)\n",
    "sns.barplot(x=index_advanced, y=sub_counts_advanced_pct, ax=ax2)\n",
    "\n",
    "ax1.set_xticklabels(rotation=30, labels=index_beginner)\n",
    "ax2.set_xticklabels(rotation=30, labels=index_advanced)\n",
    "\n",
    "ax1.set_ylabel('Submission Counts: Percentage')\n",
    "ax2.set_ylabel('')\n",
    "\n",
    "ax1.set_title('Top 10 Beginner Submissions')\n",
    "ax2.set_title('Top 10 Advanced Submissions')\n",
    "\n",
    "plt.show()"
   ]
  },
  {
   "cell_type": "code",
   "execution_count": 57,
   "metadata": {},
   "outputs": [
    {
     "name": "stdout",
     "output_type": "stream",
     "text": [
      "Percentage of Advanced Americana Submissions: 3.0%.\n"
     ]
    }
   ],
   "source": [
    "kimura_pos = jitz_advanced[jitz_advanced['submission']=='americana'].value_counts().sum()\n",
    "print(\"Percentage of Advanced Americana Submissions: \" + str(round(kimura_pos/sub_counts_advanced.sum(), 2)*100) + \"%.\")"
   ]
  },
  {
   "cell_type": "markdown",
   "metadata": {},
   "source": [
    "<div class='alert alert-success'>\n",
    "Arm bar and triangle still on top, but after those two submissions it varies. RNC, kimura and americana are tied for third in beginner submissions. In the advanced category, americanas are sitting at 3% of submissions while the beginner category has 10% of submissions being americanas. Both predictions above turned out to be true, americanas are more prevalent in beginner submissions as well as foot locks being more prevalent in advanced submissions. I did not expect the ankle lock to be so high in the beginner category, even though it is a basic foot lock.\n",
    "</div>"
   ]
  },
  {
   "cell_type": "markdown",
   "metadata": {},
   "source": [
    "### Comparing Submissions Times"
   ]
  },
  {
   "cell_type": "code",
   "execution_count": 58,
   "metadata": {},
   "outputs": [
    {
     "data": {
      "text/html": [
       "<div>\n",
       "<style scoped>\n",
       "    .dataframe tbody tr th:only-of-type {\n",
       "        vertical-align: middle;\n",
       "    }\n",
       "\n",
       "    .dataframe tbody tr th {\n",
       "        vertical-align: top;\n",
       "    }\n",
       "\n",
       "    .dataframe thead th {\n",
       "        text-align: right;\n",
       "    }\n",
       "</style>\n",
       "<table border=\"1\" class=\"dataframe\">\n",
       "  <thead>\n",
       "    <tr style=\"text-align: right;\">\n",
       "      <th></th>\n",
       "      <th>total_seconds</th>\n",
       "      <th>counts</th>\n",
       "      <th>avg_sub_time</th>\n",
       "    </tr>\n",
       "    <tr>\n",
       "      <th>submission</th>\n",
       "      <th></th>\n",
       "      <th></th>\n",
       "      <th></th>\n",
       "    </tr>\n",
       "  </thead>\n",
       "  <tbody>\n",
       "    <tr>\n",
       "      <th>heel hook</th>\n",
       "      <td>33496.0</td>\n",
       "      <td>115</td>\n",
       "      <td>291.269565</td>\n",
       "    </tr>\n",
       "    <tr>\n",
       "      <th>cross choke</th>\n",
       "      <td>17267.0</td>\n",
       "      <td>50</td>\n",
       "      <td>345.340000</td>\n",
       "    </tr>\n",
       "    <tr>\n",
       "      <th>darce</th>\n",
       "      <td>46499.0</td>\n",
       "      <td>116</td>\n",
       "      <td>400.853448</td>\n",
       "    </tr>\n",
       "    <tr>\n",
       "      <th>guillotine</th>\n",
       "      <td>101839.0</td>\n",
       "      <td>248</td>\n",
       "      <td>410.641129</td>\n",
       "    </tr>\n",
       "    <tr>\n",
       "      <th>cross collar choke</th>\n",
       "      <td>51229.0</td>\n",
       "      <td>120</td>\n",
       "      <td>426.908333</td>\n",
       "    </tr>\n",
       "    <tr>\n",
       "      <th>triangle</th>\n",
       "      <td>348648.0</td>\n",
       "      <td>767</td>\n",
       "      <td>454.560626</td>\n",
       "    </tr>\n",
       "    <tr>\n",
       "      <th>bow &amp; arrow</th>\n",
       "      <td>93642.0</td>\n",
       "      <td>199</td>\n",
       "      <td>470.562814</td>\n",
       "    </tr>\n",
       "    <tr>\n",
       "      <th>ankle lock</th>\n",
       "      <td>154283.0</td>\n",
       "      <td>315</td>\n",
       "      <td>489.787302</td>\n",
       "    </tr>\n",
       "    <tr>\n",
       "      <th>lapel choke</th>\n",
       "      <td>25288.0</td>\n",
       "      <td>51</td>\n",
       "      <td>495.843137</td>\n",
       "    </tr>\n",
       "    <tr>\n",
       "      <th>ezekiel</th>\n",
       "      <td>105941.0</td>\n",
       "      <td>205</td>\n",
       "      <td>516.785366</td>\n",
       "    </tr>\n",
       "    <tr>\n",
       "      <th>kimura</th>\n",
       "      <td>259248.0</td>\n",
       "      <td>497</td>\n",
       "      <td>521.625755</td>\n",
       "    </tr>\n",
       "    <tr>\n",
       "      <th>rnc</th>\n",
       "      <td>267005.0</td>\n",
       "      <td>511</td>\n",
       "      <td>522.514677</td>\n",
       "    </tr>\n",
       "    <tr>\n",
       "      <th>paper cutter</th>\n",
       "      <td>40563.0</td>\n",
       "      <td>76</td>\n",
       "      <td>533.723684</td>\n",
       "    </tr>\n",
       "    <tr>\n",
       "      <th>arm bar</th>\n",
       "      <td>761584.0</td>\n",
       "      <td>1421</td>\n",
       "      <td>535.949331</td>\n",
       "    </tr>\n",
       "    <tr>\n",
       "      <th>kneebar</th>\n",
       "      <td>50393.0</td>\n",
       "      <td>93</td>\n",
       "      <td>541.860215</td>\n",
       "    </tr>\n",
       "    <tr>\n",
       "      <th>americana</th>\n",
       "      <td>230303.0</td>\n",
       "      <td>418</td>\n",
       "      <td>550.964115</td>\n",
       "    </tr>\n",
       "    <tr>\n",
       "      <th>collar choke</th>\n",
       "      <td>30795.0</td>\n",
       "      <td>53</td>\n",
       "      <td>581.037736</td>\n",
       "    </tr>\n",
       "    <tr>\n",
       "      <th>choke</th>\n",
       "      <td>46635.0</td>\n",
       "      <td>78</td>\n",
       "      <td>597.884615</td>\n",
       "    </tr>\n",
       "    <tr>\n",
       "      <th>shoulder lock</th>\n",
       "      <td>28733.0</td>\n",
       "      <td>48</td>\n",
       "      <td>598.604167</td>\n",
       "    </tr>\n",
       "    <tr>\n",
       "      <th>wrist lock</th>\n",
       "      <td>45964.0</td>\n",
       "      <td>65</td>\n",
       "      <td>707.138462</td>\n",
       "    </tr>\n",
       "  </tbody>\n",
       "</table>\n",
       "</div>"
      ],
      "text/plain": [
       "                    total_seconds  counts  avg_sub_time\n",
       "submission                                             \n",
       "heel hook                 33496.0     115    291.269565\n",
       "cross choke               17267.0      50    345.340000\n",
       "darce                     46499.0     116    400.853448\n",
       "guillotine               101839.0     248    410.641129\n",
       "cross collar choke        51229.0     120    426.908333\n",
       "triangle                 348648.0     767    454.560626\n",
       "bow & arrow               93642.0     199    470.562814\n",
       "ankle lock               154283.0     315    489.787302\n",
       "lapel choke               25288.0      51    495.843137\n",
       "ezekiel                  105941.0     205    516.785366\n",
       "kimura                   259248.0     497    521.625755\n",
       "rnc                      267005.0     511    522.514677\n",
       "paper cutter              40563.0      76    533.723684\n",
       "arm bar                  761584.0    1421    535.949331\n",
       "kneebar                   50393.0      93    541.860215\n",
       "americana                230303.0     418    550.964115\n",
       "collar choke              30795.0      53    581.037736\n",
       "choke                     46635.0      78    597.884615\n",
       "shoulder lock             28733.0      48    598.604167\n",
       "wrist lock                45964.0      65    707.138462"
      ]
     },
     "execution_count": 58,
     "metadata": {},
     "output_type": "execute_result"
    }
   ],
   "source": [
    "#Creating dataframe for submissions containing the total seconds, number of submissions hit, and the average sub time\n",
    "submission_times = jitz[['submission', 'total_seconds']].groupby('submission').sum()\n",
    "submission_times.head(20)\n",
    "submission_times['counts'] = jitz['submission'].value_counts()\n",
    "submission_times['avg_sub_time'] = submission_times['total_seconds']/submission_times['counts']\n",
    "submission_times = submission_times.sort_values('counts', ascending=False)[:20]\n",
    "submission_times = submission_times.sort_values('avg_sub_time')\n",
    "submission_times"
   ]
  },
  {
   "cell_type": "code",
   "execution_count": 59,
   "metadata": {},
   "outputs": [
    {
     "data": {
      "image/png": "[encoded data removed]",
      "text/plain": [
       "<Figure size 1152x576 with 1 Axes>"
      ]
     },
     "metadata": {},
     "output_type": "display_data"
    }
   ],
   "source": [
    "ax = sns.lineplot(data=submission_times['avg_sub_time'], marker='o')\n",
    "ax.set_xticks(ax.get_xticks())\n",
    "ax.set_xticklabels(submission_times.index, rotation=40)\n",
    "ax.set_title('Avg Submission Times')\n",
    "ax.set_ylabel('Seconds')\n",
    "ax.set_xlabel('Submission')\n",
    "\n",
    "plt.show()"
   ]
  },
  {
   "cell_type": "markdown",
   "metadata": {},
   "source": [
    "<div class=\"alert alert-success\">\n",
    "The two notable submission times that I see are heel hook and wrist lock, all the other ones seem relatively normally distributed. The heel hook was expected to be the fastest submission, it is notorious for having fast breaking mechanics and quick entries, which will lead to a lower average sub time. The high average submission time for wrist locks is very surprising though. A wrist lock is one of the few submissions that can be hit from anywhere and requires very little set up so you would think that these types of submissions could be hit quickly. The high average time for wrist locks could be explained by the fact that perhaps its thought of as a hail mary submission. This submission may be used more often as a last resort after previous submissions have failed, leading to the submission happening later in the match rather than earlier even though it has fast breaking mechanics and does not require as much of a set up.\n",
    "</div>"
   ]
  }
 ],
 "metadata": {
  "kernelspec": {
   "display_name": "Python 3",
   "language": "python",
   "name": "python3"
  },
  "language_info": {
   "codemirror_mode": {
    "name": "ipython",
    "version": 3
   },
   "file_extension": ".py",
   "mimetype": "text/x-python",
   "name": "python",
   "nbconvert_exporter": "python",
   "pygments_lexer": "ipython3",
   "version": "3.7.10"
  }
 },
 "nbformat": 4,
 "nbformat_minor": 4
}
