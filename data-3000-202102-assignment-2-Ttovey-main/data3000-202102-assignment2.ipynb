{
 "cells": [
  {
   "cell_type": "markdown",
   "metadata": {},
   "source": [
    "<h1> Assignment 2: Exploratory Data Analysis (EDA) Basics</h1>\n",
    "DATA 3000 202102 (Cofer)"
   ]
  },
  {
   "cell_type": "markdown",
   "metadata": {
    "toc": true
   },
   "source": [
    "<h1>Table of Contents<span class=\"tocSkip\"></span></h1>\n",
    "<div class=\"toc\"><ul class=\"toc-item\"><li><span><a href=\"#-Problem-1:-Basic-Cleaning-(30-Points)-\" data-toc-modified-id=\"-Problem-1:-Basic-Cleaning-(30-Points)--0\"> Problem 1: Basic Cleaning (30 Points) </a></span></li><li><span><a href=\"#-Problem-2-(60-Points)\" data-toc-modified-id=\"-Problem-2-(60-Points)-1\"> Problem 2 (60 Points)</a></span><ul class=\"toc-item\"><li><span><a href=\"#-Problem-2a:-Analysis-of-College-Majors-by-Starting-Median-Salary.\" data-toc-modified-id=\"-Problem-2a:-Analysis-of-College-Majors-by-Starting-Median-Salary.-1.1\"> Problem 2a: Analysis of College Majors by Starting Median Salary.</a></span></li><li><span><a href=\"#-Problem-2b:-Analysis-of-College-Majors-by-Mid-Career-Median-Salary.\" data-toc-modified-id=\"-Problem-2b:-Analysis-of-College-Majors-by-Mid-Career-Median-Salary.-1.2\"> Problem 2b: Analysis of College Majors by Mid-Career Median Salary.</a></span></li><li><span><a href=\"#-Problem-2c:-Analysis-of-College-Majors-by-Salary-Growth-Potential.\" data-toc-modified-id=\"-Problem-2c:-Analysis-of-College-Majors-by-Salary-Growth-Potential.-1.3\"> Problem 2c: Analysis of College Majors by Salary Growth Potential.</a></span></li></ul></li><li><span><a href=\"#-Problem--3-(10-Points)\" data-toc-modified-id=\"-Problem--3-(10-Points)-2\"> Problem  3 (10 Points)</a></span></li></ul></div>"
   ]
  },
  {
   "cell_type": "markdown",
   "metadata": {},
   "source": [
    "<b><hr>\n",
    "<p>In this assignment, you will practice reading in a new and unfamiliar data file, doing some basic cleaning, straightforward investigations, and interpreting your findings. The assignment is worth a total of 100 points.</p>\n",
    "   \n",
    "<span style=\"color:red\"> Problems 1 and 2 state a minimum of items to include in your solution. Comprehensive analyses that do only the minimum can earn at most a 'B.' 'A' level submissions must include more!\n",
    "\n",
    "<p> Remember to \"Restart & Run All\" from the `Kernel` menu before submitting. This will make sure your code runs as you expect it to, and it will include all output cells in your submission, which I require. You may input additional cells into your solutions as necessary.</p>\n",
    "<hr>\n",
    "</b>"
   ]
  },
  {
   "cell_type": "markdown",
   "metadata": {},
   "source": [
    "<div class=\"alert alert-block alert-danger\">\n",
    "    \n",
    "Include clear explanations and keep the notebook organized. \n",
    "\n",
    "Other important information:\n",
    "<ul>\n",
    "    <li> I will give you increasingly less structure for your solutions as we move through the course. My lectures give you a roadmap to the types of problems you will encounter with data and some approaches to solutions. Use my lecture notebooks, your textbook, and online resources to formulate your solutions.</li>\n",
    "    <li> Don't blow off the commenting requirements. Comments/explanations are worth points because they hold a lot of value. Data science relies heavily on analysts' communication skills. </li>\n",
    "    <li> I have reviewed the content of this datafile used in this assignment and I find that there is no missing data. I also find that all included data is reasonably accurate, at least for some point in time. (Thus, if you find an outlier, you can assume that it is a true value that you should analyze.)</li>\n",
    "    <ul>\n",
    "</div>"
   ]
  },
  {
   "cell_type": "markdown",
   "metadata": {},
   "source": [
    "<div class=\"alert alert-block alert-warning\">\n",
    "Be sure you have installed all of the packages below before trying to import them. Once you are sure you have installed these packages, execute the cell below to import them. \n",
    "</div>"
   ]
  },
  {
   "cell_type": "code",
   "execution_count": 1,
   "metadata": {},
   "outputs": [],
   "source": [
    "import pandas as pd #If you do additional analysis (if you want that 'A'...), you may have to import more packages!\n",
    "import numpy as np\n",
    "import matplotlib.pyplot as plt"
   ]
  },
  {
   "cell_type": "markdown",
   "metadata": {},
   "source": [
    "<div class=\"alert alert-block alert-warning\">\n",
    " Execute the cell below to load the data from <code>salaries.csv</code> into a dataframe. Remember that the code assumes that the csv is in the same directory as your notebook file. If not, you will have to change the path so that python can find the file! \n",
    "</div>"
   ]
  },
  {
   "cell_type": "code",
   "execution_count": 52,
   "metadata": {},
   "outputs": [],
   "source": [
    "salaries = pd.read_csv('./salaries.csv') #read file into a dataframe"
   ]
  },
  {
   "cell_type": "markdown",
   "metadata": {},
   "source": [
    "<div class=\"alert alert-block alert-info\">\n",
    "    \n",
    "<h3> Problem 1: Basic Cleaning (30 Points) </h3>\n",
    "\n",
    "Below, gather some basic information about the dataset and tidy the data types. Include, <b>at a minimum</b>, the following:\n",
    "<ul> \n",
    "    <li> Take a look at the first few rows of the dataframe and take account of the type of information included.</li>\n",
    "    <li> Find the total number of rows and columns in your dataframe\n",
    "    <li> Find the datatypes for all attributes in the dataframe and note any that have been read in incorrectly.\n",
    "    <li> Change any datatypes that were read-in incorrectly. Comment your code to explain exactly what it does. \n",
    "        <ul>\n",
    "            <li> IMP: you will have to strip symbols before transforming strings to numeric.</li>\n",
    "            <li> This task is more subtle than the ones above, and thus is worth more of the total points.</li>\n",
    "        </ul>        \n",
    "</ul>\n",
    "Remember that in the red alert box I noted that there is no missing data and that you may assume that all data included are reasonably accurate.\n",
    "</div>"
   ]
  },
  {
   "cell_type": "code",
   "execution_count": 11,
   "metadata": {},
   "outputs": [
    {
     "name": "stdout",
     "output_type": "stream",
     "text": [
      "Rows: 50\n",
      "Columns: 8\n"
     ]
    }
   ],
   "source": [
    "print('Rows: ' + str(salaries.shape[0]))\n",
    "print('Columns: ' + str(salaries.shape[1]))"
   ]
  },
  {
   "cell_type": "code",
   "execution_count": 4,
   "metadata": {},
   "outputs": [
    {
     "data": {
      "text/html": [
       "<div>\n",
       "<style scoped>\n",
       "    .dataframe tbody tr th:only-of-type {\n",
       "        vertical-align: middle;\n",
       "    }\n",
       "\n",
       "    .dataframe tbody tr th {\n",
       "        vertical-align: top;\n",
       "    }\n",
       "\n",
       "    .dataframe thead th {\n",
       "        text-align: right;\n",
       "    }\n",
       "</style>\n",
       "<table border=\"1\" class=\"dataframe\">\n",
       "  <thead>\n",
       "    <tr style=\"text-align: right;\">\n",
       "      <th></th>\n",
       "      <th>Undergraduate Major</th>\n",
       "      <th>Starting Median Salary</th>\n",
       "      <th>Mid-Career Median Salary</th>\n",
       "      <th>Percent change from Starting to Mid-Career Salary</th>\n",
       "      <th>Mid-Career 10th Percentile Salary</th>\n",
       "      <th>Mid-Career 25th Percentile Salary</th>\n",
       "      <th>Mid-Career 75th Percentile Salary</th>\n",
       "      <th>Mid-Career 90th Percentile Salary</th>\n",
       "    </tr>\n",
       "  </thead>\n",
       "  <tbody>\n",
       "    <tr>\n",
       "      <th>0</th>\n",
       "      <td>Accounting</td>\n",
       "      <td>$46,000.00</td>\n",
       "      <td>$77,100.00</td>\n",
       "      <td>67.6</td>\n",
       "      <td>$42,200.00</td>\n",
       "      <td>$56,100.00</td>\n",
       "      <td>$108,000.00</td>\n",
       "      <td>$152,000.00</td>\n",
       "    </tr>\n",
       "    <tr>\n",
       "      <th>1</th>\n",
       "      <td>Aerospace Engineering</td>\n",
       "      <td>$57,700.00</td>\n",
       "      <td>$101,000.00</td>\n",
       "      <td>75.0</td>\n",
       "      <td>$64,300.00</td>\n",
       "      <td>$82,100.00</td>\n",
       "      <td>$127,000.00</td>\n",
       "      <td>$161,000.00</td>\n",
       "    </tr>\n",
       "    <tr>\n",
       "      <th>2</th>\n",
       "      <td>Agriculture</td>\n",
       "      <td>$42,600.00</td>\n",
       "      <td>$71,900.00</td>\n",
       "      <td>68.8</td>\n",
       "      <td>$36,300.00</td>\n",
       "      <td>$52,100.00</td>\n",
       "      <td>$96,300.00</td>\n",
       "      <td>$150,000.00</td>\n",
       "    </tr>\n",
       "    <tr>\n",
       "      <th>3</th>\n",
       "      <td>Anthropology</td>\n",
       "      <td>$36,800.00</td>\n",
       "      <td>$61,500.00</td>\n",
       "      <td>67.1</td>\n",
       "      <td>$33,800.00</td>\n",
       "      <td>$45,500.00</td>\n",
       "      <td>$89,300.00</td>\n",
       "      <td>$138,000.00</td>\n",
       "    </tr>\n",
       "    <tr>\n",
       "      <th>4</th>\n",
       "      <td>Architecture</td>\n",
       "      <td>$41,600.00</td>\n",
       "      <td>$76,800.00</td>\n",
       "      <td>84.6</td>\n",
       "      <td>$50,600.00</td>\n",
       "      <td>$62,200.00</td>\n",
       "      <td>$97,000.00</td>\n",
       "      <td>$136,000.00</td>\n",
       "    </tr>\n",
       "  </tbody>\n",
       "</table>\n",
       "</div>"
      ],
      "text/plain": [
       "     Undergraduate Major Starting Median Salary Mid-Career Median Salary  \\\n",
       "0             Accounting             $46,000.00               $77,100.00   \n",
       "1  Aerospace Engineering             $57,700.00              $101,000.00   \n",
       "2            Agriculture             $42,600.00               $71,900.00   \n",
       "3           Anthropology             $36,800.00               $61,500.00   \n",
       "4           Architecture             $41,600.00               $76,800.00   \n",
       "\n",
       "   Percent change from Starting to Mid-Career Salary  \\\n",
       "0                                               67.6   \n",
       "1                                               75.0   \n",
       "2                                               68.8   \n",
       "3                                               67.1   \n",
       "4                                               84.6   \n",
       "\n",
       "  Mid-Career 10th Percentile Salary Mid-Career 25th Percentile Salary  \\\n",
       "0                        $42,200.00                        $56,100.00   \n",
       "1                        $64,300.00                        $82,100.00   \n",
       "2                        $36,300.00                        $52,100.00   \n",
       "3                        $33,800.00                        $45,500.00   \n",
       "4                        $50,600.00                        $62,200.00   \n",
       "\n",
       "  Mid-Career 75th Percentile Salary Mid-Career 90th Percentile Salary  \n",
       "0                       $108,000.00                       $152,000.00  \n",
       "1                       $127,000.00                       $161,000.00  \n",
       "2                        $96,300.00                       $150,000.00  \n",
       "3                        $89,300.00                       $138,000.00  \n",
       "4                        $97,000.00                       $136,000.00  "
      ]
     },
     "execution_count": 4,
     "metadata": {},
     "output_type": "execute_result"
    }
   ],
   "source": [
    "salaries.head()"
   ]
  },
  {
   "cell_type": "code",
   "execution_count": 7,
   "metadata": {},
   "outputs": [
    {
     "data": {
      "text/plain": [
       "Undergraduate Major                                   object\n",
       "Starting Median Salary                                object\n",
       "Mid-Career Median Salary                              object\n",
       "Percent change from Starting to Mid-Career Salary    float64\n",
       "Mid-Career 10th Percentile Salary                     object\n",
       "Mid-Career 25th Percentile Salary                     object\n",
       "Mid-Career 75th Percentile Salary                     object\n",
       "Mid-Career 90th Percentile Salary                     object\n",
       "dtype: object"
      ]
     },
     "execution_count": 7,
     "metadata": {},
     "output_type": "execute_result"
    }
   ],
   "source": [
    "salaries.dtypes"
   ]
  },
  {
   "cell_type": "markdown",
   "metadata": {},
   "source": [
    "Observing the data using dtype and head we can see that only the percent change column is a float type, while all other columns are strings in the object dtype. However, looking at the data shows that the only data type that needs to be interpreted as a string is the undergraduate major while all others need to be changed to int for analysis. These columns could be stored as float values since there are decimal points but they are all 0's so we will truncate those and convert to integer isntead of float."
   ]
  },
  {
   "cell_type": "code",
   "execution_count": 53,
   "metadata": {},
   "outputs": [],
   "source": [
    "#Removing $ sign, commas and trailing zeros from columns\n",
    "salaries['Starting Median Salary'] = salaries['Starting Median Salary'].apply(lambda x: x[:-3].lstrip('$').replace(',', ''))\n",
    "salaries['Mid-Career Median Salary'] = salaries['Mid-Career Median Salary'].apply(lambda x: x[:-3].lstrip('$').replace(',', ''))\n",
    "salaries['Mid-Career 10th Percentile Salary'] = salaries['Mid-Career 10th Percentile Salary'].apply(lambda x: x[:-3].lstrip('$').replace(',', ''))\n",
    "salaries['Mid-Career 25th Percentile Salary'] = salaries['Mid-Career 25th Percentile Salary'].apply(lambda x: x[:-3].lstrip('$').replace(',', ''))\n",
    "salaries['Mid-Career 75th Percentile Salary'] = salaries['Mid-Career 75th Percentile Salary'].apply(lambda x: x[:-3].lstrip('$').replace(',', ''))\n",
    "salaries['Mid-Career 90th Percentile Salary'] = salaries['Mid-Career 90th Percentile Salary'].apply(lambda x: x[:-3].lstrip('$').replace(',', ''))"
   ]
  },
  {
   "cell_type": "code",
   "execution_count": 55,
   "metadata": {},
   "outputs": [],
   "source": [
    "#Changing columns with integer values which were previously stored as objects into ints\n",
    "salaries['Starting Median Salary'] = salaries['Starting Median Salary'].astype('int')\n",
    "salaries['Mid-Career Median Salary'] = salaries['Mid-Career Median Salary'].astype('int')\n",
    "salaries['Mid-Career 10th Percentile Salary'] = salaries['Mid-Career 10th Percentile Salary'].astype('int')\n",
    "salaries['Mid-Career 25th Percentile Salary'] = salaries['Mid-Career 25th Percentile Salary'].astype('int')\n",
    "salaries['Mid-Career 75th Percentile Salary'] = salaries['Mid-Career 75th Percentile Salary'].astype('int')\n",
    "salaries['Mid-Career 90th Percentile Salary'] = salaries['Mid-Career 90th Percentile Salary'].astype('int')"
   ]
  },
  {
   "cell_type": "code",
   "execution_count": 57,
   "metadata": {},
   "outputs": [
    {
     "data": {
      "text/html": [
       "<div>\n",
       "<style scoped>\n",
       "    .dataframe tbody tr th:only-of-type {\n",
       "        vertical-align: middle;\n",
       "    }\n",
       "\n",
       "    .dataframe tbody tr th {\n",
       "        vertical-align: top;\n",
       "    }\n",
       "\n",
       "    .dataframe thead th {\n",
       "        text-align: right;\n",
       "    }\n",
       "</style>\n",
       "<table border=\"1\" class=\"dataframe\">\n",
       "  <thead>\n",
       "    <tr style=\"text-align: right;\">\n",
       "      <th></th>\n",
       "      <th>Undergraduate Major</th>\n",
       "      <th>Starting Median Salary</th>\n",
       "      <th>Mid-Career Median Salary</th>\n",
       "      <th>Percent change from Starting to Mid-Career Salary</th>\n",
       "      <th>Mid-Career 10th Percentile Salary</th>\n",
       "      <th>Mid-Career 25th Percentile Salary</th>\n",
       "      <th>Mid-Career 75th Percentile Salary</th>\n",
       "      <th>Mid-Career 90th Percentile Salary</th>\n",
       "    </tr>\n",
       "  </thead>\n",
       "  <tbody>\n",
       "    <tr>\n",
       "      <th>0</th>\n",
       "      <td>Accounting</td>\n",
       "      <td>46000</td>\n",
       "      <td>77100</td>\n",
       "      <td>67.6</td>\n",
       "      <td>42200</td>\n",
       "      <td>56100</td>\n",
       "      <td>108000</td>\n",
       "      <td>152000</td>\n",
       "    </tr>\n",
       "    <tr>\n",
       "      <th>1</th>\n",
       "      <td>Aerospace Engineering</td>\n",
       "      <td>57700</td>\n",
       "      <td>101000</td>\n",
       "      <td>75.0</td>\n",
       "      <td>64300</td>\n",
       "      <td>82100</td>\n",
       "      <td>127000</td>\n",
       "      <td>161000</td>\n",
       "    </tr>\n",
       "    <tr>\n",
       "      <th>2</th>\n",
       "      <td>Agriculture</td>\n",
       "      <td>42600</td>\n",
       "      <td>71900</td>\n",
       "      <td>68.8</td>\n",
       "      <td>36300</td>\n",
       "      <td>52100</td>\n",
       "      <td>96300</td>\n",
       "      <td>150000</td>\n",
       "    </tr>\n",
       "    <tr>\n",
       "      <th>3</th>\n",
       "      <td>Anthropology</td>\n",
       "      <td>36800</td>\n",
       "      <td>61500</td>\n",
       "      <td>67.1</td>\n",
       "      <td>33800</td>\n",
       "      <td>45500</td>\n",
       "      <td>89300</td>\n",
       "      <td>138000</td>\n",
       "    </tr>\n",
       "    <tr>\n",
       "      <th>4</th>\n",
       "      <td>Architecture</td>\n",
       "      <td>41600</td>\n",
       "      <td>76800</td>\n",
       "      <td>84.6</td>\n",
       "      <td>50600</td>\n",
       "      <td>62200</td>\n",
       "      <td>97000</td>\n",
       "      <td>136000</td>\n",
       "    </tr>\n",
       "  </tbody>\n",
       "</table>\n",
       "</div>"
      ],
      "text/plain": [
       "     Undergraduate Major  Starting Median Salary  Mid-Career Median Salary  \\\n",
       "0             Accounting                   46000                     77100   \n",
       "1  Aerospace Engineering                   57700                    101000   \n",
       "2            Agriculture                   42600                     71900   \n",
       "3           Anthropology                   36800                     61500   \n",
       "4           Architecture                   41600                     76800   \n",
       "\n",
       "   Percent change from Starting to Mid-Career Salary  \\\n",
       "0                                               67.6   \n",
       "1                                               75.0   \n",
       "2                                               68.8   \n",
       "3                                               67.1   \n",
       "4                                               84.6   \n",
       "\n",
       "   Mid-Career 10th Percentile Salary  Mid-Career 25th Percentile Salary  \\\n",
       "0                              42200                              56100   \n",
       "1                              64300                              82100   \n",
       "2                              36300                              52100   \n",
       "3                              33800                              45500   \n",
       "4                              50600                              62200   \n",
       "\n",
       "   Mid-Career 75th Percentile Salary  Mid-Career 90th Percentile Salary  \n",
       "0                             108000                             152000  \n",
       "1                             127000                             161000  \n",
       "2                              96300                             150000  \n",
       "3                              89300                             138000  \n",
       "4                              97000                             136000  "
      ]
     },
     "execution_count": 57,
     "metadata": {},
     "output_type": "execute_result"
    }
   ],
   "source": [
    "salaries.head()"
   ]
  },
  {
   "cell_type": "code",
   "execution_count": 59,
   "metadata": {},
   "outputs": [
    {
     "data": {
      "text/plain": [
       "Undergraduate Major                                   object\n",
       "Starting Median Salary                                 int32\n",
       "Mid-Career Median Salary                               int32\n",
       "Percent change from Starting to Mid-Career Salary    float64\n",
       "Mid-Career 10th Percentile Salary                      int32\n",
       "Mid-Career 25th Percentile Salary                      int32\n",
       "Mid-Career 75th Percentile Salary                      int32\n",
       "Mid-Career 90th Percentile Salary                      int32\n",
       "dtype: object"
      ]
     },
     "execution_count": 59,
     "metadata": {},
     "output_type": "execute_result"
    }
   ],
   "source": [
    "salaries.dtypes"
   ]
  },
  {
   "cell_type": "markdown",
   "metadata": {},
   "source": [
    "All columns have been converted to proper data types and are now ready for further analysis."
   ]
  },
  {
   "cell_type": "markdown",
   "metadata": {},
   "source": [
    "<div class=\"alert alert-block alert-info\">\n",
    "\n",
    "<h3> Problem 2 (60 Points)</h3>\n",
    "\n",
    "For each of the three salary attributes: <b> starting median salary, mid-career median salary, and percent change from starting to mid-career salary,</b> perform a comprehensive analysis that includes, <b> at a minimum </b>:\n",
    " \n",
    "<ul>\n",
    "    <li> Finding the maximum, minimum, and median salary among all majors in this category. (Record the major and the attribute value.) </li>\n",
    "    <li> Creating boxplots, and </li>\n",
    "    <li> Identifying any outliers in the data (if present) </li>\n",
    "    <li> A summary of findings for the category.\n",
    "</ul>\n",
    "\n",
    "Don't just calculate. Think about your findings as you investigate the data. Upon completion of your analysis for all three attributes, you will be asked (in problem 3) to use what you've learned to write a compelling response to the question: What are the \"best\" college majors by salary potential? \n",
    " \n",
    "Note on boxplots: I strongly suggest you create matplotlib boxplots, which return a list of outliers and other information as well as a graph. \n",
    " \n",
    "Always comment your code appropriately and make your analysis easy to follow.\n",
    "</div>"
   ]
  },
  {
   "cell_type": "markdown",
   "metadata": {},
   "source": [
    "<div class=\"alert alert-block alert-info\">\n",
    "\n",
    "<h4> Problem 2a: Analysis of College Majors by Starting Median Salary.</h4>\n",
    "\n",
    "Provide an analysis that includes the items in the description above.\n",
    "    \n",
    "</div>"
   ]
  },
  {
   "cell_type": "markdown",
   "metadata": {},
   "source": [
    "### Starting Median Salary"
   ]
  },
  {
   "cell_type": "code",
   "execution_count": 88,
   "metadata": {},
   "outputs": [
    {
     "data": {
      "text/html": [
       "<div>\n",
       "<style scoped>\n",
       "    .dataframe tbody tr th:only-of-type {\n",
       "        vertical-align: middle;\n",
       "    }\n",
       "\n",
       "    .dataframe tbody tr th {\n",
       "        vertical-align: top;\n",
       "    }\n",
       "\n",
       "    .dataframe thead th {\n",
       "        text-align: right;\n",
       "    }\n",
       "</style>\n",
       "<table border=\"1\" class=\"dataframe\">\n",
       "  <thead>\n",
       "    <tr style=\"text-align: right;\">\n",
       "      <th></th>\n",
       "      <th>Undergraduate Major</th>\n",
       "      <th>Starting Median Salary</th>\n",
       "    </tr>\n",
       "  </thead>\n",
       "  <tbody>\n",
       "    <tr>\n",
       "      <th>43</th>\n",
       "      <td>Physician Assistant</td>\n",
       "      <td>74300</td>\n",
       "    </tr>\n",
       "  </tbody>\n",
       "</table>\n",
       "</div>"
      ],
      "text/plain": [
       "    Undergraduate Major  Starting Median Salary\n",
       "43  Physician Assistant                   74300"
      ]
     },
     "execution_count": 88,
     "metadata": {},
     "output_type": "execute_result"
    }
   ],
   "source": [
    "# Max Starting Median Salary\n",
    "salaries[['Undergraduate Major', 'Starting Median Salary']][salaries['Starting Median Salary'] == salaries['Starting Median Salary'].max()]"
   ]
  },
  {
   "cell_type": "code",
   "execution_count": 70,
   "metadata": {},
   "outputs": [
    {
     "data": {
      "text/html": [
       "<div>\n",
       "<style scoped>\n",
       "    .dataframe tbody tr th:only-of-type {\n",
       "        vertical-align: middle;\n",
       "    }\n",
       "\n",
       "    .dataframe tbody tr th {\n",
       "        vertical-align: top;\n",
       "    }\n",
       "\n",
       "    .dataframe thead th {\n",
       "        text-align: right;\n",
       "    }\n",
       "</style>\n",
       "<table border=\"1\" class=\"dataframe\">\n",
       "  <thead>\n",
       "    <tr style=\"text-align: right;\">\n",
       "      <th></th>\n",
       "      <th>Undergraduate Major</th>\n",
       "      <th>Starting Median Salary</th>\n",
       "    </tr>\n",
       "  </thead>\n",
       "  <tbody>\n",
       "    <tr>\n",
       "      <th>49</th>\n",
       "      <td>Spanish</td>\n",
       "      <td>34000</td>\n",
       "    </tr>\n",
       "  </tbody>\n",
       "</table>\n",
       "</div>"
      ],
      "text/plain": [
       "   Undergraduate Major  Starting Median Salary\n",
       "49             Spanish                   34000"
      ]
     },
     "execution_count": 70,
     "metadata": {},
     "output_type": "execute_result"
    }
   ],
   "source": [
    "# Min Starting Median Salary\n",
    "salaries[['Undergraduate Major', 'Starting Median Salary']][salaries['Starting Median Salary'] == salaries['Starting Median Salary'].min()]"
   ]
  },
  {
   "cell_type": "code",
   "execution_count": 82,
   "metadata": {},
   "outputs": [
    {
     "name": "stdout",
     "output_type": "stream",
     "text": [
      "40850.0\n"
     ]
    },
    {
     "data": {
      "text/html": [
       "<div>\n",
       "<style scoped>\n",
       "    .dataframe tbody tr th:only-of-type {\n",
       "        vertical-align: middle;\n",
       "    }\n",
       "\n",
       "    .dataframe tbody tr th {\n",
       "        vertical-align: top;\n",
       "    }\n",
       "\n",
       "    .dataframe thead th {\n",
       "        text-align: right;\n",
       "    }\n",
       "</style>\n",
       "<table border=\"1\" class=\"dataframe\">\n",
       "  <thead>\n",
       "    <tr style=\"text-align: right;\">\n",
       "      <th></th>\n",
       "      <th>Undergraduate Major</th>\n",
       "      <th>Starting Median Salary</th>\n",
       "    </tr>\n",
       "  </thead>\n",
       "  <tbody>\n",
       "    <tr>\n",
       "      <th>33</th>\n",
       "      <td>International Relations</td>\n",
       "      <td>40900</td>\n",
       "    </tr>\n",
       "    <tr>\n",
       "      <th>36</th>\n",
       "      <td>Marketing</td>\n",
       "      <td>40800</td>\n",
       "    </tr>\n",
       "    <tr>\n",
       "      <th>45</th>\n",
       "      <td>Political Science</td>\n",
       "      <td>40800</td>\n",
       "    </tr>\n",
       "  </tbody>\n",
       "</table>\n",
       "</div>"
      ],
      "text/plain": [
       "        Undergraduate Major  Starting Median Salary\n",
       "33  International Relations                   40900\n",
       "36                Marketing                   40800\n",
       "45        Political Science                   40800"
      ]
     },
     "execution_count": 82,
     "metadata": {},
     "output_type": "execute_result"
    }
   ],
   "source": [
    "# Median Starting Median Salary\n",
    "# Median value falls between 40900 and 40800 so we will look for values that equal either number\n",
    "print(salaries['Starting Median Salary'].median())\n",
    "salaries[['Undergraduate Major', 'Starting Median Salary']][(salaries['Starting Median Salary'] == 40900) | (salaries['Starting Median Salary'] == 40800)]"
   ]
  },
  {
   "cell_type": "code",
   "execution_count": 87,
   "metadata": {},
   "outputs": [
    {
     "data": {
      "text/plain": [
       "[]"
      ]
     },
     "execution_count": 87,
     "metadata": {},
     "output_type": "execute_result"
    },
    {
     "data": {
      "image/png": "[encoded data removed]",
      "text/plain": [
       "<Figure size 432x288 with 1 Axes>"
      ]
     },
     "metadata": {
      "needs_background": "light"
     },
     "output_type": "display_data"
    }
   ],
   "source": [
    "plt.boxplot(salaries['Starting Median Salary'])\n",
    "plt.title('Starting Median Salary')\n",
    "plt.ylabel('USD')\n",
    "plt.plot()"
   ]
  },
  {
   "cell_type": "markdown",
   "metadata": {},
   "source": [
    "There seems to be one outlier in the starting median salary column, which was found when calculating the maximum value. The physicians assistant is an outlier at 74300."
   ]
  },
  {
   "cell_type": "markdown",
   "metadata": {},
   "source": [
    "<div class=\"alert alert-block alert-info\">\n",
    "\n",
    "<h4> Problem 2b: Analysis of College Majors by Mid-Career Median Salary.</h4>\n",
    "\n",
    "Repeat the process you completed in 2a above, this time for <b>mid-career median salary.</b>\n",
    "    \n",
    "</div>"
   ]
  },
  {
   "cell_type": "markdown",
   "metadata": {},
   "source": [
    "### Mid-Career Median Salary"
   ]
  },
  {
   "cell_type": "code",
   "execution_count": 90,
   "metadata": {},
   "outputs": [
    {
     "data": {
      "text/html": [
       "<div>\n",
       "<style scoped>\n",
       "    .dataframe tbody tr th:only-of-type {\n",
       "        vertical-align: middle;\n",
       "    }\n",
       "\n",
       "    .dataframe tbody tr th {\n",
       "        vertical-align: top;\n",
       "    }\n",
       "\n",
       "    .dataframe thead th {\n",
       "        text-align: right;\n",
       "    }\n",
       "</style>\n",
       "<table border=\"1\" class=\"dataframe\">\n",
       "  <thead>\n",
       "    <tr style=\"text-align: right;\">\n",
       "      <th></th>\n",
       "      <th>Undergraduate Major</th>\n",
       "      <th>Mid-Career Median Salary</th>\n",
       "    </tr>\n",
       "  </thead>\n",
       "  <tbody>\n",
       "    <tr>\n",
       "      <th>8</th>\n",
       "      <td>Chemical Engineering</td>\n",
       "      <td>107000</td>\n",
       "    </tr>\n",
       "  </tbody>\n",
       "</table>\n",
       "</div>"
      ],
      "text/plain": [
       "    Undergraduate Major  Mid-Career Median Salary\n",
       "8  Chemical Engineering                    107000"
      ]
     },
     "execution_count": 90,
     "metadata": {},
     "output_type": "execute_result"
    }
   ],
   "source": [
    "# Max Starting Mid Career Salary\n",
    "salaries[['Undergraduate Major', 'Mid-Career Median Salary']][salaries['Mid-Career Median Salary'] == salaries['Mid-Career Median Salary'].max()]"
   ]
  },
  {
   "cell_type": "code",
   "execution_count": 91,
   "metadata": {},
   "outputs": [
    {
     "data": {
      "text/html": [
       "<div>\n",
       "<style scoped>\n",
       "    .dataframe tbody tr th:only-of-type {\n",
       "        vertical-align: middle;\n",
       "    }\n",
       "\n",
       "    .dataframe tbody tr th {\n",
       "        vertical-align: top;\n",
       "    }\n",
       "\n",
       "    .dataframe thead th {\n",
       "        text-align: right;\n",
       "    }\n",
       "</style>\n",
       "<table border=\"1\" class=\"dataframe\">\n",
       "  <thead>\n",
       "    <tr style=\"text-align: right;\">\n",
       "      <th></th>\n",
       "      <th>Undergraduate Major</th>\n",
       "      <th>Mid-Career Median Salary</th>\n",
       "    </tr>\n",
       "  </thead>\n",
       "  <tbody>\n",
       "    <tr>\n",
       "      <th>18</th>\n",
       "      <td>Education</td>\n",
       "      <td>52000</td>\n",
       "    </tr>\n",
       "    <tr>\n",
       "      <th>47</th>\n",
       "      <td>Religion</td>\n",
       "      <td>52000</td>\n",
       "    </tr>\n",
       "  </tbody>\n",
       "</table>\n",
       "</div>"
      ],
      "text/plain": [
       "   Undergraduate Major  Mid-Career Median Salary\n",
       "18           Education                     52000\n",
       "47            Religion                     52000"
      ]
     },
     "execution_count": 91,
     "metadata": {},
     "output_type": "execute_result"
    }
   ],
   "source": [
    "# Min Starting Mid Career Salary\n",
    "salaries[['Undergraduate Major', 'Mid-Career Median Salary']][salaries['Mid-Career Median Salary'] == salaries['Mid-Career Median Salary'].min()]"
   ]
  },
  {
   "cell_type": "code",
   "execution_count": 104,
   "metadata": {},
   "outputs": [
    {
     "data": {
      "text/html": [
       "<div>\n",
       "<style scoped>\n",
       "    .dataframe tbody tr th:only-of-type {\n",
       "        vertical-align: middle;\n",
       "    }\n",
       "\n",
       "    .dataframe tbody tr th {\n",
       "        vertical-align: top;\n",
       "    }\n",
       "\n",
       "    .dataframe thead th {\n",
       "        text-align: right;\n",
       "    }\n",
       "</style>\n",
       "<table border=\"1\" class=\"dataframe\">\n",
       "  <thead>\n",
       "    <tr style=\"text-align: right;\">\n",
       "      <th></th>\n",
       "      <th>Undergraduate Major</th>\n",
       "      <th>Mid-Career Median Salary</th>\n",
       "    </tr>\n",
       "  </thead>\n",
       "  <tbody>\n",
       "    <tr>\n",
       "      <th>2</th>\n",
       "      <td>Agriculture</td>\n",
       "      <td>71900</td>\n",
       "    </tr>\n",
       "    <tr>\n",
       "      <th>7</th>\n",
       "      <td>Business Management</td>\n",
       "      <td>72100</td>\n",
       "    </tr>\n",
       "  </tbody>\n",
       "</table>\n",
       "</div>"
      ],
      "text/plain": [
       "   Undergraduate Major  Mid-Career Median Salary\n",
       "2          Agriculture                     71900\n",
       "7  Business Management                     72100"
      ]
     },
     "execution_count": 104,
     "metadata": {},
     "output_type": "execute_result"
    }
   ],
   "source": [
    "# Median Starting Median Salary\n",
    "# Once again the median falls between two numbers so we will find the majors with a mid career salary of median + 100 and median - 100\n",
    "median_mid_career = salaries['Mid-Career Median Salary'].median()\n",
    "salaries[['Undergraduate Major', 'Mid-Career Median Salary']][(salaries['Mid-Career Median Salary'] == median_mid_career - 100) | (salaries['Mid-Career Median Salary'] == median_mid_career + 100)]"
   ]
  },
  {
   "cell_type": "code",
   "execution_count": 105,
   "metadata": {},
   "outputs": [
    {
     "data": {
      "text/plain": [
       "[]"
      ]
     },
     "execution_count": 105,
     "metadata": {},
     "output_type": "execute_result"
    },
    {
     "data": {
      "image/png": "[encoded data removed]",
      "text/plain": [
       "<Figure size 432x288 with 1 Axes>"
      ]
     },
     "metadata": {
      "needs_background": "light"
     },
     "output_type": "display_data"
    }
   ],
   "source": [
    "plt.boxplot(salaries['Mid-Career Median Salary'])\n",
    "plt.title('Mid-Career Median Salary')\n",
    "plt.ylabel('USD')\n",
    "plt.plot()"
   ]
  },
  {
   "cell_type": "markdown",
   "metadata": {},
   "source": [
    "No notable outliers in the Mid Career Median Salary column."
   ]
  },
  {
   "cell_type": "markdown",
   "metadata": {},
   "source": [
    "<div class=\"alert alert-block alert-info\">\n",
    "\n",
    "<h4> Problem 2c: Analysis of College Majors by Salary Growth Potential.</h4>\n",
    "\n",
    "Repeat the process once final time, this time for <b>Percent change from Starting to Mid-Career Salary.</b>\n",
    "    \n",
    "</div>"
   ]
  },
  {
   "cell_type": "markdown",
   "metadata": {},
   "source": [
    "### Percent change from Starting to Mid-Career Salary"
   ]
  },
  {
   "cell_type": "code",
   "execution_count": 107,
   "metadata": {},
   "outputs": [
    {
     "data": {
      "text/html": [
       "<div>\n",
       "<style scoped>\n",
       "    .dataframe tbody tr th:only-of-type {\n",
       "        vertical-align: middle;\n",
       "    }\n",
       "\n",
       "    .dataframe tbody tr th {\n",
       "        vertical-align: top;\n",
       "    }\n",
       "\n",
       "    .dataframe thead th {\n",
       "        text-align: right;\n",
       "    }\n",
       "</style>\n",
       "<table border=\"1\" class=\"dataframe\">\n",
       "  <thead>\n",
       "    <tr style=\"text-align: right;\">\n",
       "      <th></th>\n",
       "      <th>Undergraduate Major</th>\n",
       "      <th>Percent change from Starting to Mid-Career Salary</th>\n",
       "    </tr>\n",
       "  </thead>\n",
       "  <tbody>\n",
       "    <tr>\n",
       "      <th>37</th>\n",
       "      <td>Math</td>\n",
       "      <td>103.5</td>\n",
       "    </tr>\n",
       "    <tr>\n",
       "      <th>42</th>\n",
       "      <td>Philosophy</td>\n",
       "      <td>103.5</td>\n",
       "    </tr>\n",
       "  </tbody>\n",
       "</table>\n",
       "</div>"
      ],
      "text/plain": [
       "   Undergraduate Major  Percent change from Starting to Mid-Career Salary\n",
       "37                Math                                              103.5\n",
       "42          Philosophy                                              103.5"
      ]
     },
     "execution_count": 107,
     "metadata": {},
     "output_type": "execute_result"
    }
   ],
   "source": [
    "# Max Percent change from Start to Mid Career\n",
    "salaries[['Undergraduate Major', 'Percent change from Starting to Mid-Career Salary']][salaries['Percent change from Starting to Mid-Career Salary'] == salaries['Percent change from Starting to Mid-Career Salary'].max()]"
   ]
  },
  {
   "cell_type": "code",
   "execution_count": 108,
   "metadata": {},
   "outputs": [
    {
     "data": {
      "text/html": [
       "<div>\n",
       "<style scoped>\n",
       "    .dataframe tbody tr th:only-of-type {\n",
       "        vertical-align: middle;\n",
       "    }\n",
       "\n",
       "    .dataframe tbody tr th {\n",
       "        vertical-align: top;\n",
       "    }\n",
       "\n",
       "    .dataframe thead th {\n",
       "        text-align: right;\n",
       "    }\n",
       "</style>\n",
       "<table border=\"1\" class=\"dataframe\">\n",
       "  <thead>\n",
       "    <tr style=\"text-align: right;\">\n",
       "      <th></th>\n",
       "      <th>Undergraduate Major</th>\n",
       "      <th>Percent change from Starting to Mid-Career Salary</th>\n",
       "    </tr>\n",
       "  </thead>\n",
       "  <tbody>\n",
       "    <tr>\n",
       "      <th>43</th>\n",
       "      <td>Physician Assistant</td>\n",
       "      <td>23.4</td>\n",
       "    </tr>\n",
       "  </tbody>\n",
       "</table>\n",
       "</div>"
      ],
      "text/plain": [
       "    Undergraduate Major  Percent change from Starting to Mid-Career Salary\n",
       "43  Physician Assistant                                               23.4"
      ]
     },
     "execution_count": 108,
     "metadata": {},
     "output_type": "execute_result"
    }
   ],
   "source": [
    "# MIN Percent change from Start to Mid Career\n",
    "salaries[['Undergraduate Major', 'Percent change from Starting to Mid-Career Salary']][salaries['Percent change from Starting to Mid-Career Salary'] == salaries['Percent change from Starting to Mid-Career Salary'].min()]"
   ]
  },
  {
   "cell_type": "markdown",
   "metadata": {},
   "source": [
    "Interesting note here with the minimum percent change from start to mid career being physicians assistant. The maximum salary for entry level positions was the physicians assistant, but the data point above shows that this position has the least amount of salary change from starting level to mid level which should be considered for choosing the best major in terms of salary."
   ]
  },
  {
   "cell_type": "code",
   "execution_count": 124,
   "metadata": {},
   "outputs": [
    {
     "data": {
      "text/html": [
       "<div>\n",
       "<style scoped>\n",
       "    .dataframe tbody tr th:only-of-type {\n",
       "        vertical-align: middle;\n",
       "    }\n",
       "\n",
       "    .dataframe tbody tr th {\n",
       "        vertical-align: top;\n",
       "    }\n",
       "\n",
       "    .dataframe thead th {\n",
       "        text-align: right;\n",
       "    }\n",
       "</style>\n",
       "<table border=\"1\" class=\"dataframe\">\n",
       "  <thead>\n",
       "    <tr style=\"text-align: right;\">\n",
       "      <th></th>\n",
       "      <th>Undergraduate Major</th>\n",
       "      <th>Percent change from Starting to Mid-Career Salary</th>\n",
       "    </tr>\n",
       "  </thead>\n",
       "  <tbody>\n",
       "    <tr>\n",
       "      <th>0</th>\n",
       "      <td>Accounting</td>\n",
       "      <td>67.6</td>\n",
       "    </tr>\n",
       "    <tr>\n",
       "      <th>7</th>\n",
       "      <td>Business Management</td>\n",
       "      <td>67.7</td>\n",
       "    </tr>\n",
       "    <tr>\n",
       "      <th>10</th>\n",
       "      <td>Civil Engineering</td>\n",
       "      <td>67.9</td>\n",
       "    </tr>\n",
       "  </tbody>\n",
       "</table>\n",
       "</div>"
      ],
      "text/plain": [
       "    Undergraduate Major  Percent change from Starting to Mid-Career Salary\n",
       "0            Accounting                                               67.6\n",
       "7   Business Management                                               67.7\n",
       "10    Civil Engineering                                               67.9"
      ]
     },
     "execution_count": 124,
     "metadata": {},
     "output_type": "execute_result"
    }
   ],
   "source": [
    "# Median Start to Mid Career\n",
    "# Meidan is a float number so we will find the majors within .2 percent of the median\n",
    "median_percent = salaries['Percent change from Starting to Mid-Career Salary'].median()\n",
    "median_percent = round(median_percent, 1)\n",
    "salaries[['Undergraduate Major', 'Percent change from Starting to Mid-Career Salary']][(salaries['Percent change from Starting to Mid-Career Salary'] >= median_percent - .2) & (salaries['Percent change from Starting to Mid-Career Salary'] <= median_percent + .2)]"
   ]
  },
  {
   "cell_type": "code",
   "execution_count": 125,
   "metadata": {},
   "outputs": [
    {
     "data": {
      "text/plain": [
       "[]"
      ]
     },
     "execution_count": 125,
     "metadata": {},
     "output_type": "execute_result"
    },
    {
     "data": {
      "image/png": "[encoded data removed]",
      "text/plain": [
       "<Figure size 432x288 with 1 Axes>"
      ]
     },
     "metadata": {
      "needs_background": "light"
     },
     "output_type": "display_data"
    }
   ],
   "source": [
    "plt.boxplot(salaries['Percent change from Starting to Mid-Career Salary'])\n",
    "plt.title('Percent change from Starting to Mid-Career Salary')\n",
    "plt.ylabel('USD')\n",
    "plt.plot()"
   ]
  },
  {
   "cell_type": "markdown",
   "metadata": {},
   "source": [
    "The outlier is once again the physicians assistant, but instead of being a outlier on the higher end it is now on the lower end"
   ]
  },
  {
   "cell_type": "markdown",
   "metadata": {},
   "source": [
    "<div class=\"alert alert-block alert-info\">\n",
    "\n",
    "<h3> Problem  3 (10 Points)</h3>\n",
    "\n",
    "In a markdown cell, write a compelling response to the question: What are the \"best\" college majors by salary potential? Make your case and support your case using your analysis. But be honest about the limitations of what you can conclude and why.\n",
    "    \n",
    "</div>"
   ]
  },
  {
   "cell_type": "markdown",
   "metadata": {},
   "source": [
    "Since the goal of problem 3 is to find out which college majors have the best salary potential, the starting median salary will not be considered and only the median mid-career salary and 90th percentile salary will be analyzed. The reason both of these categories will be considered is mid-career and the 90th percentile columns both give insight of what the salaries could be, starting median salary is not a good indicator of salary potential within a field."
   ]
  },
  {
   "cell_type": "code",
   "execution_count": 132,
   "metadata": {},
   "outputs": [
    {
     "data": {
      "text/html": [
       "<div>\n",
       "<style scoped>\n",
       "    .dataframe tbody tr th:only-of-type {\n",
       "        vertical-align: middle;\n",
       "    }\n",
       "\n",
       "    .dataframe tbody tr th {\n",
       "        vertical-align: top;\n",
       "    }\n",
       "\n",
       "    .dataframe thead th {\n",
       "        text-align: right;\n",
       "    }\n",
       "</style>\n",
       "<table border=\"1\" class=\"dataframe\">\n",
       "  <thead>\n",
       "    <tr style=\"text-align: right;\">\n",
       "      <th></th>\n",
       "      <th>Undergraduate Major</th>\n",
       "      <th>Starting Median Salary</th>\n",
       "      <th>Mid-Career Median Salary</th>\n",
       "      <th>Percent change from Starting to Mid-Career Salary</th>\n",
       "      <th>Mid-Career 10th Percentile Salary</th>\n",
       "      <th>Mid-Career 25th Percentile Salary</th>\n",
       "      <th>Mid-Career 75th Percentile Salary</th>\n",
       "      <th>Mid-Career 90th Percentile Salary</th>\n",
       "    </tr>\n",
       "  </thead>\n",
       "  <tbody>\n",
       "    <tr>\n",
       "      <th>8</th>\n",
       "      <td>Chemical Engineering</td>\n",
       "      <td>63200</td>\n",
       "      <td>107000</td>\n",
       "      <td>69.3</td>\n",
       "      <td>71900</td>\n",
       "      <td>87300</td>\n",
       "      <td>143000</td>\n",
       "      <td>194000</td>\n",
       "    </tr>\n",
       "    <tr>\n",
       "      <th>12</th>\n",
       "      <td>Computer Engineering</td>\n",
       "      <td>61400</td>\n",
       "      <td>105000</td>\n",
       "      <td>71.0</td>\n",
       "      <td>66100</td>\n",
       "      <td>84100</td>\n",
       "      <td>135000</td>\n",
       "      <td>162000</td>\n",
       "    </tr>\n",
       "    <tr>\n",
       "      <th>19</th>\n",
       "      <td>Electrical Engineering</td>\n",
       "      <td>60900</td>\n",
       "      <td>103000</td>\n",
       "      <td>69.1</td>\n",
       "      <td>69300</td>\n",
       "      <td>83800</td>\n",
       "      <td>130000</td>\n",
       "      <td>168000</td>\n",
       "    </tr>\n",
       "    <tr>\n",
       "      <th>1</th>\n",
       "      <td>Aerospace Engineering</td>\n",
       "      <td>57700</td>\n",
       "      <td>101000</td>\n",
       "      <td>75.0</td>\n",
       "      <td>64300</td>\n",
       "      <td>82100</td>\n",
       "      <td>127000</td>\n",
       "      <td>161000</td>\n",
       "    </tr>\n",
       "    <tr>\n",
       "      <th>17</th>\n",
       "      <td>Economics</td>\n",
       "      <td>50100</td>\n",
       "      <td>98600</td>\n",
       "      <td>96.8</td>\n",
       "      <td>50600</td>\n",
       "      <td>70600</td>\n",
       "      <td>145000</td>\n",
       "      <td>210000</td>\n",
       "    </tr>\n",
       "    <tr>\n",
       "      <th>44</th>\n",
       "      <td>Physics</td>\n",
       "      <td>50300</td>\n",
       "      <td>97300</td>\n",
       "      <td>93.4</td>\n",
       "      <td>56000</td>\n",
       "      <td>74200</td>\n",
       "      <td>132000</td>\n",
       "      <td>178000</td>\n",
       "    </tr>\n",
       "    <tr>\n",
       "      <th>13</th>\n",
       "      <td>Computer Science</td>\n",
       "      <td>55900</td>\n",
       "      <td>95500</td>\n",
       "      <td>70.8</td>\n",
       "      <td>56000</td>\n",
       "      <td>74900</td>\n",
       "      <td>122000</td>\n",
       "      <td>154000</td>\n",
       "    </tr>\n",
       "    <tr>\n",
       "      <th>30</th>\n",
       "      <td>Industrial Engineering</td>\n",
       "      <td>57700</td>\n",
       "      <td>94700</td>\n",
       "      <td>64.1</td>\n",
       "      <td>57100</td>\n",
       "      <td>72300</td>\n",
       "      <td>132000</td>\n",
       "      <td>173000</td>\n",
       "    </tr>\n",
       "    <tr>\n",
       "      <th>38</th>\n",
       "      <td>Mechanical Engineering</td>\n",
       "      <td>57900</td>\n",
       "      <td>93600</td>\n",
       "      <td>61.7</td>\n",
       "      <td>63700</td>\n",
       "      <td>76200</td>\n",
       "      <td>120000</td>\n",
       "      <td>163000</td>\n",
       "    </tr>\n",
       "    <tr>\n",
       "      <th>37</th>\n",
       "      <td>Math</td>\n",
       "      <td>45400</td>\n",
       "      <td>92400</td>\n",
       "      <td>103.5</td>\n",
       "      <td>45200</td>\n",
       "      <td>64200</td>\n",
       "      <td>128000</td>\n",
       "      <td>183000</td>\n",
       "    </tr>\n",
       "  </tbody>\n",
       "</table>\n",
       "</div>"
      ],
      "text/plain": [
       "       Undergraduate Major  Starting Median Salary  Mid-Career Median Salary  \\\n",
       "8     Chemical Engineering                   63200                    107000   \n",
       "12    Computer Engineering                   61400                    105000   \n",
       "19  Electrical Engineering                   60900                    103000   \n",
       "1    Aerospace Engineering                   57700                    101000   \n",
       "17               Economics                   50100                     98600   \n",
       "44                 Physics                   50300                     97300   \n",
       "13        Computer Science                   55900                     95500   \n",
       "30  Industrial Engineering                   57700                     94700   \n",
       "38  Mechanical Engineering                   57900                     93600   \n",
       "37                    Math                   45400                     92400   \n",
       "\n",
       "    Percent change from Starting to Mid-Career Salary  \\\n",
       "8                                                69.3   \n",
       "12                                               71.0   \n",
       "19                                               69.1   \n",
       "1                                                75.0   \n",
       "17                                               96.8   \n",
       "44                                               93.4   \n",
       "13                                               70.8   \n",
       "30                                               64.1   \n",
       "38                                               61.7   \n",
       "37                                              103.5   \n",
       "\n",
       "    Mid-Career 10th Percentile Salary  Mid-Career 25th Percentile Salary  \\\n",
       "8                               71900                              87300   \n",
       "12                              66100                              84100   \n",
       "19                              69300                              83800   \n",
       "1                               64300                              82100   \n",
       "17                              50600                              70600   \n",
       "44                              56000                              74200   \n",
       "13                              56000                              74900   \n",
       "30                              57100                              72300   \n",
       "38                              63700                              76200   \n",
       "37                              45200                              64200   \n",
       "\n",
       "    Mid-Career 75th Percentile Salary  Mid-Career 90th Percentile Salary  \n",
       "8                              143000                             194000  \n",
       "12                             135000                             162000  \n",
       "19                             130000                             168000  \n",
       "1                              127000                             161000  \n",
       "17                             145000                             210000  \n",
       "44                             132000                             178000  \n",
       "13                             122000                             154000  \n",
       "30                             132000                             173000  \n",
       "38                             120000                             163000  \n",
       "37                             128000                             183000  "
      ]
     },
     "execution_count": 132,
     "metadata": {},
     "output_type": "execute_result"
    }
   ],
   "source": [
    "salaries.sort_values(['Mid-Career Median Salary'], ascending=False).head(10)"
   ]
  },
  {
   "cell_type": "code",
   "execution_count": 133,
   "metadata": {
    "scrolled": true
   },
   "outputs": [
    {
     "data": {
      "text/html": [
       "<div>\n",
       "<style scoped>\n",
       "    .dataframe tbody tr th:only-of-type {\n",
       "        vertical-align: middle;\n",
       "    }\n",
       "\n",
       "    .dataframe tbody tr th {\n",
       "        vertical-align: top;\n",
       "    }\n",
       "\n",
       "    .dataframe thead th {\n",
       "        text-align: right;\n",
       "    }\n",
       "</style>\n",
       "<table border=\"1\" class=\"dataframe\">\n",
       "  <thead>\n",
       "    <tr style=\"text-align: right;\">\n",
       "      <th></th>\n",
       "      <th>Undergraduate Major</th>\n",
       "      <th>Starting Median Salary</th>\n",
       "      <th>Mid-Career Median Salary</th>\n",
       "      <th>Percent change from Starting to Mid-Career Salary</th>\n",
       "      <th>Mid-Career 10th Percentile Salary</th>\n",
       "      <th>Mid-Career 25th Percentile Salary</th>\n",
       "      <th>Mid-Career 75th Percentile Salary</th>\n",
       "      <th>Mid-Career 90th Percentile Salary</th>\n",
       "    </tr>\n",
       "  </thead>\n",
       "  <tbody>\n",
       "    <tr>\n",
       "      <th>17</th>\n",
       "      <td>Economics</td>\n",
       "      <td>50100</td>\n",
       "      <td>98600</td>\n",
       "      <td>96.8</td>\n",
       "      <td>50600</td>\n",
       "      <td>70600</td>\n",
       "      <td>145000</td>\n",
       "      <td>210000</td>\n",
       "    </tr>\n",
       "    <tr>\n",
       "      <th>22</th>\n",
       "      <td>Finance</td>\n",
       "      <td>47900</td>\n",
       "      <td>88300</td>\n",
       "      <td>84.3</td>\n",
       "      <td>47200</td>\n",
       "      <td>62100</td>\n",
       "      <td>128000</td>\n",
       "      <td>195000</td>\n",
       "    </tr>\n",
       "    <tr>\n",
       "      <th>8</th>\n",
       "      <td>Chemical Engineering</td>\n",
       "      <td>63200</td>\n",
       "      <td>107000</td>\n",
       "      <td>69.3</td>\n",
       "      <td>71900</td>\n",
       "      <td>87300</td>\n",
       "      <td>143000</td>\n",
       "      <td>194000</td>\n",
       "    </tr>\n",
       "    <tr>\n",
       "      <th>37</th>\n",
       "      <td>Math</td>\n",
       "      <td>45400</td>\n",
       "      <td>92400</td>\n",
       "      <td>103.5</td>\n",
       "      <td>45200</td>\n",
       "      <td>64200</td>\n",
       "      <td>128000</td>\n",
       "      <td>183000</td>\n",
       "    </tr>\n",
       "    <tr>\n",
       "      <th>44</th>\n",
       "      <td>Physics</td>\n",
       "      <td>50300</td>\n",
       "      <td>97300</td>\n",
       "      <td>93.4</td>\n",
       "      <td>56000</td>\n",
       "      <td>74200</td>\n",
       "      <td>132000</td>\n",
       "      <td>178000</td>\n",
       "    </tr>\n",
       "    <tr>\n",
       "      <th>36</th>\n",
       "      <td>Marketing</td>\n",
       "      <td>40800</td>\n",
       "      <td>79600</td>\n",
       "      <td>95.1</td>\n",
       "      <td>42100</td>\n",
       "      <td>55600</td>\n",
       "      <td>119000</td>\n",
       "      <td>175000</td>\n",
       "    </tr>\n",
       "    <tr>\n",
       "      <th>30</th>\n",
       "      <td>Industrial Engineering</td>\n",
       "      <td>57700</td>\n",
       "      <td>94700</td>\n",
       "      <td>64.1</td>\n",
       "      <td>57100</td>\n",
       "      <td>72300</td>\n",
       "      <td>132000</td>\n",
       "      <td>173000</td>\n",
       "    </tr>\n",
       "    <tr>\n",
       "      <th>14</th>\n",
       "      <td>Construction</td>\n",
       "      <td>53700</td>\n",
       "      <td>88900</td>\n",
       "      <td>65.5</td>\n",
       "      <td>56300</td>\n",
       "      <td>68100</td>\n",
       "      <td>118000</td>\n",
       "      <td>171000</td>\n",
       "    </tr>\n",
       "    <tr>\n",
       "      <th>45</th>\n",
       "      <td>Political Science</td>\n",
       "      <td>40800</td>\n",
       "      <td>78200</td>\n",
       "      <td>91.7</td>\n",
       "      <td>41200</td>\n",
       "      <td>55300</td>\n",
       "      <td>114000</td>\n",
       "      <td>168000</td>\n",
       "    </tr>\n",
       "    <tr>\n",
       "      <th>42</th>\n",
       "      <td>Philosophy</td>\n",
       "      <td>39900</td>\n",
       "      <td>81200</td>\n",
       "      <td>103.5</td>\n",
       "      <td>35500</td>\n",
       "      <td>52800</td>\n",
       "      <td>127000</td>\n",
       "      <td>168000</td>\n",
       "    </tr>\n",
       "  </tbody>\n",
       "</table>\n",
       "</div>"
      ],
      "text/plain": [
       "       Undergraduate Major  Starting Median Salary  Mid-Career Median Salary  \\\n",
       "17               Economics                   50100                     98600   \n",
       "22                 Finance                   47900                     88300   \n",
       "8     Chemical Engineering                   63200                    107000   \n",
       "37                    Math                   45400                     92400   \n",
       "44                 Physics                   50300                     97300   \n",
       "36               Marketing                   40800                     79600   \n",
       "30  Industrial Engineering                   57700                     94700   \n",
       "14            Construction                   53700                     88900   \n",
       "45       Political Science                   40800                     78200   \n",
       "42              Philosophy                   39900                     81200   \n",
       "\n",
       "    Percent change from Starting to Mid-Career Salary  \\\n",
       "17                                               96.8   \n",
       "22                                               84.3   \n",
       "8                                                69.3   \n",
       "37                                              103.5   \n",
       "44                                               93.4   \n",
       "36                                               95.1   \n",
       "30                                               64.1   \n",
       "14                                               65.5   \n",
       "45                                               91.7   \n",
       "42                                              103.5   \n",
       "\n",
       "    Mid-Career 10th Percentile Salary  Mid-Career 25th Percentile Salary  \\\n",
       "17                              50600                              70600   \n",
       "22                              47200                              62100   \n",
       "8                               71900                              87300   \n",
       "37                              45200                              64200   \n",
       "44                              56000                              74200   \n",
       "36                              42100                              55600   \n",
       "30                              57100                              72300   \n",
       "14                              56300                              68100   \n",
       "45                              41200                              55300   \n",
       "42                              35500                              52800   \n",
       "\n",
       "    Mid-Career 75th Percentile Salary  Mid-Career 90th Percentile Salary  \n",
       "17                             145000                             210000  \n",
       "22                             128000                             195000  \n",
       "8                              143000                             194000  \n",
       "37                             128000                             183000  \n",
       "44                             132000                             178000  \n",
       "36                             119000                             175000  \n",
       "30                             132000                             173000  \n",
       "14                             118000                             171000  \n",
       "45                             114000                             168000  \n",
       "42                             127000                             168000  "
      ]
     },
     "execution_count": 133,
     "metadata": {},
     "output_type": "execute_result"
    }
   ],
   "source": [
    "salaries.sort_values(['Mid-Career 90th Percentile Salary'], ascending=False).head(10)"
   ]
  },
  {
   "cell_type": "markdown",
   "metadata": {},
   "source": [
    "Engieering seems to be the one of the best fields to get into for salary potential, that a long with economics which has the highest potential for growth within the field. This can be seen from the mid-career median salary of 98600 to the 90th percentile of 210000."
   ]
  },
  {
   "cell_type": "code",
   "execution_count": null,
   "metadata": {},
   "outputs": [],
   "source": []
  }
 ],
 "metadata": {
  "kernelspec": {
   "display_name": "Python 3",
   "language": "python",
   "name": "python3"
  },
  "language_info": {
   "codemirror_mode": {
    "name": "ipython",
    "version": 3
   },
   "file_extension": ".py",
   "mimetype": "text/x-python",
   "name": "python",
   "nbconvert_exporter": "python",
   "pygments_lexer": "ipython3",
   "version": "3.7.9"
  },
  "toc": {
   "base_numbering": "",
   "nav_menu": {},
   "number_sections": false,
   "sideBar": false,
   "skip_h1_title": true,
   "title_cell": "Table of Contents",
   "title_sidebar": "Contents",
   "toc_cell": true,
   "toc_position": {},
   "toc_section_display": false,
   "toc_window_display": false
  }
 },
 "nbformat": 4,
 "nbformat_minor": 4
}
